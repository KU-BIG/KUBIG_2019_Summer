{
 "cells": [
  {
   "cell_type": "markdown",
   "metadata": {},
   "source": [
    "### Olympic Medals with pandas!"
   ]
  },
  {
   "cell_type": "code",
   "execution_count": 1,
   "metadata": {},
   "outputs": [],
   "source": [
    "import numpy as np\n",
    "import pandas as pd"
   ]
  },
  {
   "cell_type": "markdown",
   "metadata": {},
   "source": [
    "* web에서 csv를 불러오기.  \n",
    "https://bit.ly/2YdeLFK"
   ]
  },
  {
   "cell_type": "code",
   "execution_count": 2,
   "metadata": {},
   "outputs": [
    {
     "data": {
      "text/html": [
       "<div>\n",
       "<style scoped>\n",
       "    .dataframe tbody tr th:only-of-type {\n",
       "        vertical-align: middle;\n",
       "    }\n",
       "\n",
       "    .dataframe tbody tr th {\n",
       "        vertical-align: top;\n",
       "    }\n",
       "\n",
       "    .dataframe thead th {\n",
       "        text-align: right;\n",
       "    }\n",
       "</style>\n",
       "<table border=\"1\" class=\"dataframe\">\n",
       "  <thead>\n",
       "    <tr style=\"text-align: right;\">\n",
       "      <th></th>\n",
       "      <th>City</th>\n",
       "      <th>Edition</th>\n",
       "      <th>Sport</th>\n",
       "      <th>Discipline</th>\n",
       "      <th>Athlete</th>\n",
       "      <th>NOC</th>\n",
       "      <th>Gender</th>\n",
       "      <th>Event</th>\n",
       "      <th>Event_gender</th>\n",
       "      <th>Medal</th>\n",
       "    </tr>\n",
       "  </thead>\n",
       "  <tbody>\n",
       "    <tr>\n",
       "      <th>0</th>\n",
       "      <td>Athens</td>\n",
       "      <td>1896</td>\n",
       "      <td>Aquatics</td>\n",
       "      <td>Swimming</td>\n",
       "      <td>HAJOS, Alfred</td>\n",
       "      <td>HUN</td>\n",
       "      <td>Men</td>\n",
       "      <td>100m freestyle</td>\n",
       "      <td>M</td>\n",
       "      <td>Gold</td>\n",
       "    </tr>\n",
       "    <tr>\n",
       "      <th>1</th>\n",
       "      <td>Athens</td>\n",
       "      <td>1896</td>\n",
       "      <td>Aquatics</td>\n",
       "      <td>Swimming</td>\n",
       "      <td>HERSCHMANN, Otto</td>\n",
       "      <td>AUT</td>\n",
       "      <td>Men</td>\n",
       "      <td>100m freestyle</td>\n",
       "      <td>M</td>\n",
       "      <td>Silver</td>\n",
       "    </tr>\n",
       "    <tr>\n",
       "      <th>2</th>\n",
       "      <td>Athens</td>\n",
       "      <td>1896</td>\n",
       "      <td>Aquatics</td>\n",
       "      <td>Swimming</td>\n",
       "      <td>DRIVAS, Dimitrios</td>\n",
       "      <td>GRE</td>\n",
       "      <td>Men</td>\n",
       "      <td>100m freestyle for sailors</td>\n",
       "      <td>M</td>\n",
       "      <td>Bronze</td>\n",
       "    </tr>\n",
       "    <tr>\n",
       "      <th>3</th>\n",
       "      <td>Athens</td>\n",
       "      <td>1896</td>\n",
       "      <td>Aquatics</td>\n",
       "      <td>Swimming</td>\n",
       "      <td>MALOKINIS, Ioannis</td>\n",
       "      <td>GRE</td>\n",
       "      <td>Men</td>\n",
       "      <td>100m freestyle for sailors</td>\n",
       "      <td>M</td>\n",
       "      <td>Gold</td>\n",
       "    </tr>\n",
       "    <tr>\n",
       "      <th>4</th>\n",
       "      <td>Athens</td>\n",
       "      <td>1896</td>\n",
       "      <td>Aquatics</td>\n",
       "      <td>Swimming</td>\n",
       "      <td>CHASAPIS, Spiridon</td>\n",
       "      <td>GRE</td>\n",
       "      <td>Men</td>\n",
       "      <td>100m freestyle for sailors</td>\n",
       "      <td>M</td>\n",
       "      <td>Silver</td>\n",
       "    </tr>\n",
       "  </tbody>\n",
       "</table>\n",
       "</div>"
      ],
      "text/plain": [
       "     City  Edition     Sport Discipline             Athlete  NOC Gender  \\\n",
       "0  Athens     1896  Aquatics   Swimming       HAJOS, Alfred  HUN    Men   \n",
       "1  Athens     1896  Aquatics   Swimming    HERSCHMANN, Otto  AUT    Men   \n",
       "2  Athens     1896  Aquatics   Swimming   DRIVAS, Dimitrios  GRE    Men   \n",
       "3  Athens     1896  Aquatics   Swimming  MALOKINIS, Ioannis  GRE    Men   \n",
       "4  Athens     1896  Aquatics   Swimming  CHASAPIS, Spiridon  GRE    Men   \n",
       "\n",
       "                        Event Event_gender   Medal  \n",
       "0              100m freestyle            M    Gold  \n",
       "1              100m freestyle            M  Silver  \n",
       "2  100m freestyle for sailors            M  Bronze  \n",
       "3  100m freestyle for sailors            M    Gold  \n",
       "4  100m freestyle for sailors            M  Silver  "
      ]
     },
     "metadata": {},
     "output_type": "display_data"
    },
    {
     "data": {
      "text/html": [
       "<div>\n",
       "<style scoped>\n",
       "    .dataframe tbody tr th:only-of-type {\n",
       "        vertical-align: middle;\n",
       "    }\n",
       "\n",
       "    .dataframe tbody tr th {\n",
       "        vertical-align: top;\n",
       "    }\n",
       "\n",
       "    .dataframe thead th {\n",
       "        text-align: right;\n",
       "    }\n",
       "</style>\n",
       "<table border=\"1\" class=\"dataframe\">\n",
       "  <thead>\n",
       "    <tr style=\"text-align: right;\">\n",
       "      <th></th>\n",
       "      <th>City</th>\n",
       "      <th>Edition</th>\n",
       "      <th>Sport</th>\n",
       "      <th>Discipline</th>\n",
       "      <th>Athlete</th>\n",
       "      <th>NOC</th>\n",
       "      <th>Gender</th>\n",
       "      <th>Event</th>\n",
       "      <th>Event_gender</th>\n",
       "      <th>Medal</th>\n",
       "    </tr>\n",
       "  </thead>\n",
       "  <tbody>\n",
       "    <tr>\n",
       "      <th>29211</th>\n",
       "      <td>Beijing</td>\n",
       "      <td>2008</td>\n",
       "      <td>Wrestling</td>\n",
       "      <td>Wrestling Gre-R</td>\n",
       "      <td>ENGLICH, Mirko</td>\n",
       "      <td>GER</td>\n",
       "      <td>Men</td>\n",
       "      <td>84 - 96kg</td>\n",
       "      <td>M</td>\n",
       "      <td>Silver</td>\n",
       "    </tr>\n",
       "    <tr>\n",
       "      <th>29212</th>\n",
       "      <td>Beijing</td>\n",
       "      <td>2008</td>\n",
       "      <td>Wrestling</td>\n",
       "      <td>Wrestling Gre-R</td>\n",
       "      <td>MIZGAITIS, Mindaugas</td>\n",
       "      <td>LTU</td>\n",
       "      <td>Men</td>\n",
       "      <td>96 - 120kg</td>\n",
       "      <td>M</td>\n",
       "      <td>Bronze</td>\n",
       "    </tr>\n",
       "    <tr>\n",
       "      <th>29213</th>\n",
       "      <td>Beijing</td>\n",
       "      <td>2008</td>\n",
       "      <td>Wrestling</td>\n",
       "      <td>Wrestling Gre-R</td>\n",
       "      <td>PATRIKEEV, Yuri</td>\n",
       "      <td>ARM</td>\n",
       "      <td>Men</td>\n",
       "      <td>96 - 120kg</td>\n",
       "      <td>M</td>\n",
       "      <td>Bronze</td>\n",
       "    </tr>\n",
       "    <tr>\n",
       "      <th>29214</th>\n",
       "      <td>Beijing</td>\n",
       "      <td>2008</td>\n",
       "      <td>Wrestling</td>\n",
       "      <td>Wrestling Gre-R</td>\n",
       "      <td>LOPEZ, Mijain</td>\n",
       "      <td>CUB</td>\n",
       "      <td>Men</td>\n",
       "      <td>96 - 120kg</td>\n",
       "      <td>M</td>\n",
       "      <td>Gold</td>\n",
       "    </tr>\n",
       "    <tr>\n",
       "      <th>29215</th>\n",
       "      <td>Beijing</td>\n",
       "      <td>2008</td>\n",
       "      <td>Wrestling</td>\n",
       "      <td>Wrestling Gre-R</td>\n",
       "      <td>BAROEV, Khasan</td>\n",
       "      <td>RUS</td>\n",
       "      <td>Men</td>\n",
       "      <td>96 - 120kg</td>\n",
       "      <td>M</td>\n",
       "      <td>Silver</td>\n",
       "    </tr>\n",
       "  </tbody>\n",
       "</table>\n",
       "</div>"
      ],
      "text/plain": [
       "          City  Edition      Sport       Discipline               Athlete  \\\n",
       "29211  Beijing     2008  Wrestling  Wrestling Gre-R        ENGLICH, Mirko   \n",
       "29212  Beijing     2008  Wrestling  Wrestling Gre-R  MIZGAITIS, Mindaugas   \n",
       "29213  Beijing     2008  Wrestling  Wrestling Gre-R       PATRIKEEV, Yuri   \n",
       "29214  Beijing     2008  Wrestling  Wrestling Gre-R         LOPEZ, Mijain   \n",
       "29215  Beijing     2008  Wrestling  Wrestling Gre-R        BAROEV, Khasan   \n",
       "\n",
       "       NOC Gender       Event Event_gender   Medal  \n",
       "29211  GER    Men   84 - 96kg            M  Silver  \n",
       "29212  LTU    Men  96 - 120kg            M  Bronze  \n",
       "29213  ARM    Men  96 - 120kg            M  Bronze  \n",
       "29214  CUB    Men  96 - 120kg            M    Gold  \n",
       "29215  RUS    Men  96 - 120kg            M  Silver  "
      ]
     },
     "metadata": {},
     "output_type": "display_data"
    }
   ],
   "source": [
    "medals = pd.read_csv(\"https://bit.ly/2YdeLFK\")\n",
    "\n",
    "# display top 5 rows\n",
    "display(medals.head())\n",
    "\n",
    "# display last 5 rows\n",
    "display(medals.tail())"
   ]
  },
  {
   "cell_type": "markdown",
   "metadata": {},
   "source": [
    "* medals에서 NOC를 추출하여 알파벳 순서대로 정렬한 뒤 countries에 저장하세요."
   ]
  },
  {
   "cell_type": "code",
   "execution_count": 3,
   "metadata": {},
   "outputs": [
    {
     "name": "stdout",
     "output_type": "stream",
     "text": [
      "['AFG' 'AHO' 'ALG' 'ANZ' 'ARG' 'ARM' 'AUS' 'AUT' 'AZE' 'BAH' 'BAR' 'BDI'\n",
      " 'BEL' 'BER' 'BLR' 'BOH' 'BRA' 'BUL' 'BWI' 'CAN' 'CHI' 'CHN' 'CIV' 'CMR'\n",
      " 'COL' 'CRC' 'CRO' 'CUB' 'CZE' 'DEN' 'DJI' 'DOM' 'ECU' 'EGY' 'ERI' 'ESP'\n",
      " 'EST' 'ETH' 'EUA' 'EUN' 'FIN' 'FRA' 'FRG' 'GBR' 'GDR' 'GEO' 'GER' 'GHA'\n",
      " 'GRE' 'GUY' 'HAI' 'HKG' 'HUN' 'INA' 'IND' 'IOP' 'IRI' 'IRL' 'IRQ' 'ISL'\n",
      " 'ISR' 'ISV' 'ITA' 'JAM' 'JPN' 'KAZ' 'KEN' 'KGZ' 'KOR' 'KSA' 'KUW' 'LAT'\n",
      " 'LIB' 'LTU' 'LUX' 'MAR' 'MAS' 'MDA' 'MEX' 'MGL' 'MKD' 'MOZ' 'MRI' 'NAM'\n",
      " 'NED' 'NGR' 'NIG' 'NOR' 'NZL' 'PAK' 'PAN' 'PAR' 'PER' 'PHI' 'POL' 'POR'\n",
      " 'PRK' 'PUR' 'QAT' 'ROU' 'RSA' 'RU1' 'RUS' 'SCG' 'SEN' 'SIN' 'SLO' 'SRB'\n",
      " 'SRI' 'SUD' 'SUI' 'SUR' 'SVK' 'SWE' 'SYR' 'TAN' 'TCH' 'TGA' 'THA' 'TJK'\n",
      " 'TOG' 'TPE' 'TRI' 'TUN' 'TUR' 'UAE' 'UGA' 'UKR' 'URS' 'URU' 'USA' 'UZB'\n",
      " 'VEN' 'VIE' 'YUG' 'ZAM' 'ZIM' 'ZZX']\n"
     ]
    }
   ],
   "source": [
    "countries = np.sort(pd.unique(medals.NOC))\n",
    "print(countries)"
   ]
  },
  {
   "cell_type": "markdown",
   "metadata": {},
   "source": [
    "* Iterating with a for loop\n",
    "    - countries 내의 요소를 for loop로 하나씩 빼내서 print 하세요."
   ]
  },
  {
   "cell_type": "code",
   "execution_count": 4,
   "metadata": {
    "collapsed": true,
    "jupyter": {
     "outputs_hidden": true
    }
   },
   "outputs": [
    {
     "name": "stdout",
     "output_type": "stream",
     "text": [
      "AFG\n",
      "AHO\n",
      "ALG\n",
      "ANZ\n",
      "ARG\n",
      "ARM\n",
      "AUS\n",
      "AUT\n",
      "AZE\n",
      "BAH\n",
      "BAR\n",
      "BDI\n",
      "BEL\n",
      "BER\n",
      "BLR\n",
      "BOH\n",
      "BRA\n",
      "BUL\n",
      "BWI\n",
      "CAN\n",
      "CHI\n",
      "CHN\n",
      "CIV\n",
      "CMR\n",
      "COL\n",
      "CRC\n",
      "CRO\n",
      "CUB\n",
      "CZE\n",
      "DEN\n",
      "DJI\n",
      "DOM\n",
      "ECU\n",
      "EGY\n",
      "ERI\n",
      "ESP\n",
      "EST\n",
      "ETH\n",
      "EUA\n",
      "EUN\n",
      "FIN\n",
      "FRA\n",
      "FRG\n",
      "GBR\n",
      "GDR\n",
      "GEO\n",
      "GER\n",
      "GHA\n",
      "GRE\n",
      "GUY\n",
      "HAI\n",
      "HKG\n",
      "HUN\n",
      "INA\n",
      "IND\n",
      "IOP\n",
      "IRI\n",
      "IRL\n",
      "IRQ\n",
      "ISL\n",
      "ISR\n",
      "ISV\n",
      "ITA\n",
      "JAM\n",
      "JPN\n",
      "KAZ\n",
      "KEN\n",
      "KGZ\n",
      "KOR\n",
      "KSA\n",
      "KUW\n",
      "LAT\n",
      "LIB\n",
      "LTU\n",
      "LUX\n",
      "MAR\n",
      "MAS\n",
      "MDA\n",
      "MEX\n",
      "MGL\n",
      "MKD\n",
      "MOZ\n",
      "MRI\n",
      "NAM\n",
      "NED\n",
      "NGR\n",
      "NIG\n",
      "NOR\n",
      "NZL\n",
      "PAK\n",
      "PAN\n",
      "PAR\n",
      "PER\n",
      "PHI\n",
      "POL\n",
      "POR\n",
      "PRK\n",
      "PUR\n",
      "QAT\n",
      "ROU\n",
      "RSA\n",
      "RU1\n",
      "RUS\n",
      "SCG\n",
      "SEN\n",
      "SIN\n",
      "SLO\n",
      "SRB\n",
      "SRI\n",
      "SUD\n",
      "SUI\n",
      "SUR\n",
      "SVK\n",
      "SWE\n",
      "SYR\n",
      "TAN\n",
      "TCH\n",
      "TGA\n",
      "THA\n",
      "TJK\n",
      "TOG\n",
      "TPE\n",
      "TRI\n",
      "TUN\n",
      "TUR\n",
      "UAE\n",
      "UGA\n",
      "UKR\n",
      "URS\n",
      "URU\n",
      "USA\n",
      "UZB\n",
      "VEN\n",
      "VIE\n",
      "YUG\n",
      "ZAM\n",
      "ZIM\n",
      "ZZX\n"
     ]
    }
   ],
   "source": [
    "for country in countries:\n",
    "    print(country)"
   ]
  },
  {
   "cell_type": "markdown",
   "metadata": {},
   "source": [
    "* Make iterator country_it with countries\n",
    "* Iterating over iterables : next()"
   ]
  },
  {
   "cell_type": "code",
   "execution_count": 5,
   "metadata": {},
   "outputs": [
    {
     "name": "stdout",
     "output_type": "stream",
     "text": [
      "AFG\n",
      "AHO\n",
      "ALG\n"
     ]
    }
   ],
   "source": [
    "country_it = iter(countries)\n",
    "\n",
    "# print country_it with next()\n",
    "print(next(country_it))\n",
    "\n",
    "# two more times.\n",
    "print(next(country_it))\n",
    "print(next(country_it))"
   ]
  },
  {
   "cell_type": "markdown",
   "metadata": {},
   "source": [
    "* Make dictionary olympic_dic with comprehesions.  \n",
    "ex) {1896: 'Athens', 1900: 'Paris', ..., 2008: 'Beijing'}  \n",
    "key : medals.Edition.   value : medals.City  \n",
    "    - _HINT : using zip()!_"
   ]
  },
  {
   "cell_type": "code",
   "execution_count": 6,
   "metadata": {},
   "outputs": [
    {
     "name": "stdout",
     "output_type": "stream",
     "text": [
      "['Athens', 'Paris', 'St Louis', 'London', 'Stockholm', 'Antwerp', 'Paris', 'Amsterdam', 'Los Angeles', 'Berlin', 'London', 'Helsinki', 'Melbourne / Stockholm', 'Rome', 'Tokyo', 'Mexico', 'Munich', 'Montreal', 'Moscow', 'Los Angeles', 'Seoul', 'Barcelona', 'Atlanta', 'Sydney', 'Athens', 'Beijing']\n",
      "[(1896, 'Athens'), (1900, 'Paris'), (1904, 'St Louis'), (1908, 'London'), (1912, 'Stockholm'), (1920, 'Antwerp'), (1924, 'Paris'), (1928, 'Amsterdam'), (1932, 'Los Angeles'), (1936, 'Berlin'), (1948, 'London'), (1952, 'Helsinki'), (1956, 'Melbourne / Stockholm'), (1960, 'Rome'), (1964, 'Tokyo'), (1968, 'Mexico'), (1972, 'Munich'), (1976, 'Montreal'), (1980, 'Moscow'), (1984, 'Los Angeles'), (1988, 'Seoul'), (1992, 'Barcelona'), (1996, 'Atlanta'), (2000, 'Sydney'), (2004, 'Athens'), (2008, 'Beijing')]\n"
     ]
    }
   ],
   "source": [
    "years = list(pd.unique(medals.Edition.values))\n",
    "cities = []\n",
    "\n",
    "for year in years:\n",
    "    city_year = pd.unique(medals.loc[medals[\"Edition\"]==year, 'City'])[0]\n",
    "    cities.append(city_year)\n",
    "\n",
    "print(cities)\n",
    "\n",
    "# zip years and cities \n",
    "z = zip(years, cities)\n",
    "\n",
    "# print list of the zip\n",
    "z_list = list(z)\n",
    "print(z_list)"
   ]
  },
  {
   "cell_type": "code",
   "execution_count": 7,
   "metadata": {},
   "outputs": [
    {
     "name": "stdout",
     "output_type": "stream",
     "text": [
      "{1896: 'Athens', 1900: 'Paris', 1904: 'St Louis', 1908: 'London', 1912: 'Stockholm', 1920: 'Antwerp', 1924: 'Paris', 1928: 'Amsterdam', 1932: 'Los Angeles', 1936: 'Berlin', 1948: 'London', 1952: 'Helsinki', 1956: 'Melbourne / Stockholm', 1960: 'Rome', 1964: 'Tokyo', 1968: 'Mexico', 1972: 'Munich', 1976: 'Montreal', 1980: 'Moscow', 1984: 'Los Angeles', 1988: 'Seoul', 1992: 'Barcelona', 1996: 'Atlanta', 2000: 'Sydney', 2004: 'Athens', 2008: 'Beijing'}\n"
     ]
    }
   ],
   "source": [
    "olympic_dic = {year : city for year, city in z_list}\n",
    "print(olympic_dic)"
   ]
  },
  {
   "cell_type": "markdown",
   "metadata": {},
   "source": [
    "* Iterating over dicionaries (olympic_dic)\n",
    "    - olympic_dic의 key와 value를 하나씩 빼내서 print 하세요."
   ]
  },
  {
   "cell_type": "code",
   "execution_count": 8,
   "metadata": {},
   "outputs": [
    {
     "name": "stdout",
     "output_type": "stream",
     "text": [
      "1896 Athens\n",
      "1900 Paris\n",
      "1904 St Louis\n",
      "1908 London\n",
      "1912 Stockholm\n",
      "1920 Antwerp\n",
      "1924 Paris\n",
      "1928 Amsterdam\n",
      "1932 Los Angeles\n",
      "1936 Berlin\n",
      "1948 London\n",
      "1952 Helsinki\n",
      "1956 Melbourne / Stockholm\n",
      "1960 Rome\n",
      "1964 Tokyo\n",
      "1968 Mexico\n",
      "1972 Munich\n",
      "1976 Montreal\n",
      "1980 Moscow\n",
      "1984 Los Angeles\n",
      "1988 Seoul\n",
      "1992 Barcelona\n",
      "1996 Atlanta\n",
      "2000 Sydney\n",
      "2004 Athens\n",
      "2008 Beijing\n"
     ]
    }
   ],
   "source": [
    "for key, value in olympic_dic.items():\n",
    "    print(key, value)"
   ]
  },
  {
   "cell_type": "markdown",
   "metadata": {},
   "source": [
    "* Make dictionary olympic_dic1 with nested sturcture.  \n",
    "    - 위에 했던 코드 응용하면 매우 좋습니다.  \n",
    "    - winners는 해당 년도 올림픽의 전체 수상자 수입니다.  \n",
    "ex) {1896: {'City': 'Athens', 'winners': 151}, 2008: {'City': 'Beijing', 'winners': 2042}}"
   ]
  },
  {
   "cell_type": "code",
   "execution_count": 9,
   "metadata": {},
   "outputs": [
    {
     "name": "stdout",
     "output_type": "stream",
     "text": [
      "[151, 512, 470, 804, 885, 1298, 884, 710, 615, 875, 814, 889, 885, 882, 1010, 1031, 1185, 1305, 1387, 1459, 1546, 1705, 1859, 2015, 1998, 2042]\n",
      "[(1896, ('Athens', 151)), (1900, ('Paris', 512)), (1904, ('St Louis', 470)), (1908, ('London', 804)), (1912, ('Stockholm', 885)), (1920, ('Antwerp', 1298)), (1924, ('Paris', 884)), (1928, ('Amsterdam', 710)), (1932, ('Los Angeles', 615)), (1936, ('Berlin', 875)), (1948, ('London', 814)), (1952, ('Helsinki', 889)), (1956, ('Melbourne / Stockholm', 885)), (1960, ('Rome', 882)), (1964, ('Tokyo', 1010)), (1968, ('Mexico', 1031)), (1972, ('Munich', 1185)), (1976, ('Montreal', 1305)), (1980, ('Moscow', 1387)), (1984, ('Los Angeles', 1459)), (1988, ('Seoul', 1546)), (1992, ('Barcelona', 1705)), (1996, ('Atlanta', 1859)), (2000, ('Sydney', 2015)), (2004, ('Athens', 1998)), (2008, ('Beijing', 2042))]\n"
     ]
    }
   ],
   "source": [
    "winners = []\n",
    "for index, year in enumerate(years):\n",
    "    winners_year = len(medals[medals[\"Edition\"]==year])\n",
    "    winners.append(winners_year)\n",
    "    \n",
    "print(winners)\n",
    "\n",
    "# zip cities, winners as z1, and zip years and z1\n",
    "z1 = zip(cities, winners)\n",
    "z2 = zip(years, z1)\n",
    "\n",
    "# print list of the zip\n",
    "z2_list = list(z2)\n",
    "print(z2_list)"
   ]
  },
  {
   "cell_type": "code",
   "execution_count": 13,
   "metadata": {},
   "outputs": [
    {
     "name": "stdout",
     "output_type": "stream",
     "text": [
      "{1896: {'City': 'Athens', 'winners': 151}, 1900: {'City': 'Paris', 'winners': 512}, 1904: {'City': 'St Louis', 'winners': 470}, 1908: {'City': 'London', 'winners': 804}, 1912: {'City': 'Stockholm', 'winners': 885}, 1920: {'City': 'Antwerp', 'winners': 1298}, 1924: {'City': 'Paris', 'winners': 884}, 1928: {'City': 'Amsterdam', 'winners': 710}, 1932: {'City': 'Los Angeles', 'winners': 615}, 1936: {'City': 'Berlin', 'winners': 875}, 1948: {'City': 'London', 'winners': 814}, 1952: {'City': 'Helsinki', 'winners': 889}, 1956: {'City': 'Melbourne / Stockholm', 'winners': 885}, 1960: {'City': 'Rome', 'winners': 882}, 1964: {'City': 'Tokyo', 'winners': 1010}, 1968: {'City': 'Mexico', 'winners': 1031}, 1972: {'City': 'Munich', 'winners': 1185}, 1976: {'City': 'Montreal', 'winners': 1305}, 1980: {'City': 'Moscow', 'winners': 1387}, 1984: {'City': 'Los Angeles', 'winners': 1459}, 1988: {'City': 'Seoul', 'winners': 1546}, 1992: {'City': 'Barcelona', 'winners': 1705}, 1996: {'City': 'Atlanta', 'winners': 1859}, 2000: {'City': 'Sydney', 'winners': 2015}, 2004: {'City': 'Athens', 'winners': 1998}, 2008: {'City': 'Beijing', 'winners': 2042}}\n"
     ]
    }
   ],
   "source": [
    "olympic_dic1 = {year : {'City' : subtup[0], 'winners' : subtup[1]} for year, subtup in z2_list}\n",
    "print(olympic_dic1)"
   ]
  },
  {
   "cell_type": "markdown",
   "metadata": {},
   "source": [
    "* Iterating over dicionaries (olympic_dic1)\n",
    "    - olympic_dic1의 key와 value를 하나씩 빼내서 print 하세요."
   ]
  },
  {
   "cell_type": "code",
   "execution_count": 19,
   "metadata": {},
   "outputs": [
    {
     "name": "stdout",
     "output_type": "stream",
     "text": [
      "1896 {'City': 'Athens', 'winners': 151}\n",
      "1900 {'City': 'Paris', 'winners': 512}\n",
      "1904 {'City': 'St Louis', 'winners': 470}\n",
      "1908 {'City': 'London', 'winners': 804}\n",
      "1912 {'City': 'Stockholm', 'winners': 885}\n",
      "1920 {'City': 'Antwerp', 'winners': 1298}\n",
      "1924 {'City': 'Paris', 'winners': 884}\n",
      "1928 {'City': 'Amsterdam', 'winners': 710}\n",
      "1932 {'City': 'Los Angeles', 'winners': 615}\n",
      "1936 {'City': 'Berlin', 'winners': 875}\n",
      "1948 {'City': 'London', 'winners': 814}\n",
      "1952 {'City': 'Helsinki', 'winners': 889}\n",
      "1956 {'City': 'Melbourne / Stockholm', 'winners': 885}\n",
      "1960 {'City': 'Rome', 'winners': 882}\n",
      "1964 {'City': 'Tokyo', 'winners': 1010}\n",
      "1968 {'City': 'Mexico', 'winners': 1031}\n",
      "1972 {'City': 'Munich', 'winners': 1185}\n",
      "1976 {'City': 'Montreal', 'winners': 1305}\n",
      "1980 {'City': 'Moscow', 'winners': 1387}\n",
      "1984 {'City': 'Los Angeles', 'winners': 1459}\n",
      "1988 {'City': 'Seoul', 'winners': 1546}\n",
      "1992 {'City': 'Barcelona', 'winners': 1705}\n",
      "1996 {'City': 'Atlanta', 'winners': 1859}\n",
      "2000 {'City': 'Sydney', 'winners': 2015}\n",
      "2004 {'City': 'Athens', 'winners': 1998}\n",
      "2008 {'City': 'Beijing', 'winners': 2042}\n"
     ]
    }
   ],
   "source": [
    "for key, value in olympic_dic1.items():\n",
    "    print(key, value)"
   ]
  },
  {
   "cell_type": "markdown",
   "metadata": {},
   "source": [
    "* 아름다움! (문제에는 없었습니다.)"
   ]
  },
  {
   "cell_type": "code",
   "execution_count": 21,
   "metadata": {},
   "outputs": [
    {
     "name": "stdout",
     "output_type": "stream",
     "text": [
      "1896\n",
      "City Athens\n",
      "winners 151\n",
      "1900\n",
      "City Paris\n",
      "winners 512\n",
      "1904\n",
      "City St Louis\n",
      "winners 470\n",
      "1908\n",
      "City London\n",
      "winners 804\n",
      "1912\n",
      "City Stockholm\n",
      "winners 885\n",
      "1920\n",
      "City Antwerp\n",
      "winners 1298\n",
      "1924\n",
      "City Paris\n",
      "winners 884\n",
      "1928\n",
      "City Amsterdam\n",
      "winners 710\n",
      "1932\n",
      "City Los Angeles\n",
      "winners 615\n",
      "1936\n",
      "City Berlin\n",
      "winners 875\n",
      "1948\n",
      "City London\n",
      "winners 814\n",
      "1952\n",
      "City Helsinki\n",
      "winners 889\n",
      "1956\n",
      "City Melbourne / Stockholm\n",
      "winners 885\n",
      "1960\n",
      "City Rome\n",
      "winners 882\n",
      "1964\n",
      "City Tokyo\n",
      "winners 1010\n",
      "1968\n",
      "City Mexico\n",
      "winners 1031\n",
      "1972\n",
      "City Munich\n",
      "winners 1185\n",
      "1976\n",
      "City Montreal\n",
      "winners 1305\n",
      "1980\n",
      "City Moscow\n",
      "winners 1387\n",
      "1984\n",
      "City Los Angeles\n",
      "winners 1459\n",
      "1988\n",
      "City Seoul\n",
      "winners 1546\n",
      "1992\n",
      "City Barcelona\n",
      "winners 1705\n",
      "1996\n",
      "City Atlanta\n",
      "winners 1859\n",
      "2000\n",
      "City Sydney\n",
      "winners 2015\n",
      "2004\n",
      "City Athens\n",
      "winners 1998\n",
      "2008\n",
      "City Beijing\n",
      "winners 2042\n"
     ]
    }
   ],
   "source": [
    "for key, value in olympic_dic1.items():\n",
    "    print(key)\n",
    "    for key1, value1 in value.items():\n",
    "        print(key1, value1)"
   ]
  },
  {
   "cell_type": "markdown",
   "metadata": {},
   "source": [
    "* By Using dictionary olympic_dic1\n",
    "    - Sydney 올림픽은 몇 년에 열렸습니까?\n",
    "    - 1972년에 열린 올림픽은 어느 도시에서 열렸습니까?\n",
    "    - Beijing 올림픽의 전체 메달 수상자는 총 몇 명이었습니까?"
   ]
  },
  {
   "cell_type": "code",
   "execution_count": 11,
   "metadata": {},
   "outputs": [
    {
     "name": "stdout",
     "output_type": "stream",
     "text": [
      "First answer is 2000.\n",
      "Second answer is Munich.\n",
      "Third answer is 2042.\n"
     ]
    }
   ],
   "source": [
    "# print first answer\n",
    "for year in olympic_dic1.keys():\n",
    "    if 'Sydney' in olympic_dic1.get(year).get('City'):\n",
    "        answer = year\n",
    "print(\"First answer is %s.\" %answer)\n",
    "\n",
    "# print second answer\n",
    "answer2 = olympic_dic1.get(1972).get('City')\n",
    "print(\"Second answer is %s.\" %answer2)\n",
    "\n",
    "# print third answer\n",
    "for year in olympic_dic1.keys():\n",
    "    if 'Beijing' in olympic_dic1.get(year).get('City'):\n",
    "        temp = year\n",
    "answer3 = olympic_dic1[temp]['winners']\n",
    "print(\"Third answer is %s.\" %answer3)"
   ]
  }
 ],
 "metadata": {
  "kernelspec": {
   "display_name": "Python 3",
   "language": "python",
   "name": "python3"
  },
  "language_info": {
   "codemirror_mode": {
    "name": "ipython",
    "version": 3
   },
   "file_extension": ".py",
   "mimetype": "text/x-python",
   "name": "python",
   "nbconvert_exporter": "python",
   "pygments_lexer": "ipython3",
   "version": "3.6.5"
  }
 },
 "nbformat": 4,
 "nbformat_minor": 4
}
