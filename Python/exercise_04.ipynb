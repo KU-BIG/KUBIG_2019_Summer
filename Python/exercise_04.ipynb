{
 "cells": [
  {
   "cell_type": "code",
   "execution_count": null,
   "metadata": {},
   "outputs": [],
   "source": [
    "\n",
    "\n",
    "##The investment opportunity set은 모든 가능한 risk-return 조합들을 나타내는 포트폴리오로 이루어져 있는 집합이다.\n",
    "##자산 A와 자산 B가 있다.\n",
    "#자산 A는 expected return이 0.136이다. i.e. E[Ra]=0.136\n",
    "#자산A의 return의 standard deviation은 0.154이다. i.e. Sigma_a=0.154\n",
    "#자산 B는 expected return이 0.15이다. i.e. E[Rb]=0.15\n",
    "#자산B의 return의 standard deviation은 0.23이다. i.e. Sigma_b=0.23\n",
    "#자산 A와 B의 return의 상관계수는 0.27이다. i.e. rho_ab=0.27\n",
    "#w를 자산 A에 투자한 비율이라고 하자. W는 0과 1사이의 값으로 선택될 수 있다.\n",
    "\n",
    "\n",
    "\n",
    "import numpy as np\n",
    "import matplotlib.pyplot as plt\n",
    "\n",
    "##list comprehension을 이용해 자산 A와 B로만 이루어진 포트폴리오의 \n",
    "##w의 변화에 따라 기대수익률의 기대값을 성분으로 하는 리스트를 만들고 erp라는 변수에 저장하시오.\n",
    "#이 때 w를 0부터 0.01씩 증가해 1에 이르는 sequence를 사용하시오.\n",
    "#즉, iterator variable은 w입니다.\n",
    "\n",
    "erp=[[___________] for _ in np.arange(0,1,0.01)]\n",
    "\n",
    "##list comprehension을 이용해 자산 A와 B로만 이루어진 포트폴리오의\n",
    "## w의 변화에 따라 기대수익률의 분산의 리스트를 성분으로 하는 list of list를 만들고 vrp라는 변수에 저장하시오.\n",
    "#이 때 w를 0부터 0.01씩 증가해 1에 이르는 sequence를 사용하시오.\n",
    "#즉, iterator variable은 w입니다.\n",
    "\n",
    "vrp=[[____________] for _ in np.arange(0,1,0.01)]\n",
    "\n",
    "\n",
    "###vrp를 x축으로 하고 erp를 y축으로 하는 plot을 그리시오.\n",
    "#main title은 \"investment opportunity set\"으로 하시오.\n",
    "#x축은 \"standard deviation\"으로 하시오.\n",
    "#y축은 \"expected return\"으로 하시오.\n",
    "\n",
    "plt.plot(___,___)\n",
    "plt.title(\"____________\")\n",
    "plt.xlabel(\"__________\")\n",
    "plt.ylabel(\"___________\")\n",
    "plt.show()\n",
    "\n",
    "##vrp와 erp를 zip함수를 이용해 튜플형으로 만들고 for문에서 iterable로 삼으시오.\n",
    "#iterator variable로 z1, z2을 사용하고 for문 안에서 print함수를 이용해 z1과 z2를 출력하시오.\n",
    "\n",
    "for __,__ in zip(___,___):\n",
    "    print(__,__)"
   ]
  }
 ],
 "metadata": {
  "kernelspec": {
   "display_name": "Python 3",
   "language": "python",
   "name": "python3"
  },
  "language_info": {
   "codemirror_mode": {
    "name": "ipython",
    "version": 3
   },
   "file_extension": ".py",
   "mimetype": "text/x-python",
   "name": "python",
   "nbconvert_exporter": "python",
   "pygments_lexer": "ipython3",
   "version": "3.7.3"
  }
 },
 "nbformat": 4,
 "nbformat_minor": 2
}
