{
 "cells": [
  {
   "cell_type": "markdown",
   "metadata": {},
   "source": [
    "- file path: ~\\KUBIG\\KUBIG_2019_Summer\\Python\\data\\ct_hartford_2019_02_25.csv"
   ]
  },
  {
   "cell_type": "code",
   "execution_count": 1,
   "metadata": {},
   "outputs": [],
   "source": [
    "import pandas as pd"
   ]
  },
  {
   "cell_type": "markdown",
   "metadata": {},
   "source": [
    "- Read hartford  data you downloaded into a DataFrame named hf"
   ]
  },
  {
   "cell_type": "code",
   "execution_count": 3,
   "metadata": {},
   "outputs": [],
   "source": [
    "hf = pd.read_csv('~/KUBIG_2019_Summer/Python/data/ct_hartford_2019_02_25.csv')"
   ]
  },
  {
   "cell_type": "markdown",
   "metadata": {},
   "source": [
    "- Examine the head of the DataFrame"
   ]
  },
  {
   "cell_type": "code",
   "execution_count": 4,
   "metadata": {},
   "outputs": [
    {
     "name": "stdout",
     "output_type": "stream",
     "text": [
      "   raw_row_number        date      time                        location  \\\n",
      "0               1  2013-10-13  15:21:00            LINNMORE ST AT ROGER   \n",
      "1               2  2013-10-24  01:12:00  HAWTHORN STREET @ IMLAY STREET   \n",
      "2               3  2013-10-26  10:06:00                NEW PARK MIRRILL   \n",
      "3               4  2013-10-26  18:06:00         nfew park at merrill st   \n",
      "4               5  2013-10-26  19:56:00            SUMMIT ST AT ZION ST   \n",
      "\n",
      "         lat        lng     district  subject_age subject_race subject_sex  \\\n",
      "0  41.732189 -72.699760   SOUTH WEST         38.0     hispanic      female   \n",
      "1  41.764621 -72.695362  ASYLUM HILL         20.0        black        male   \n",
      "2  41.747837 -72.712933    PARKVILLE         26.0        white      female   \n",
      "3  41.748069 -72.712641    PARKVILLE         26.0        white      female   \n",
      "4  41.753945 -72.693278  FROG HOLLOW         39.0        white        male   \n",
      "\n",
      "   ...       type arrest_made citation_issued  warning_issued   outcome  \\\n",
      "0  ...  vehicular       False            True           False  citation   \n",
      "1  ...  vehicular       False            True           False  citation   \n",
      "2  ...  vehicular       False            True           False  citation   \n",
      "3  ...  vehicular       False            True           False  citation   \n",
      "4  ...  vehicular       False            True           False  citation   \n",
      "\n",
      "   contraband_found search_conducted search_vehicle  search_basis  \\\n",
      "0               NaN            False          False           NaN   \n",
      "1               NaN            False          False           NaN   \n",
      "2               NaN            False          False           NaN   \n",
      "3               NaN            False          False           NaN   \n",
      "4               NaN            False          False           NaN   \n",
      "\n",
      "          reason_for_stop  \n",
      "0               Stop Sign  \n",
      "1        Defective Lights  \n",
      "2  Traffic Control Signal  \n",
      "3  Traffic Control Signal  \n",
      "4               Stop Sign  \n",
      "\n",
      "[5 rows x 22 columns]\n"
     ]
    }
   ],
   "source": [
    "print(hf.head())"
   ]
  },
  {
   "cell_type": "markdown",
   "metadata": {},
   "source": [
    "- Count the number of missing values in each column"
   ]
  },
  {
   "cell_type": "code",
   "execution_count": 5,
   "metadata": {},
   "outputs": [
    {
     "name": "stdout",
     "output_type": "stream",
     "text": [
      "raw_row_number          0\n",
      "date                    4\n",
      "time                    4\n",
      "location                0\n",
      "lat                   210\n",
      "lng                   210\n",
      "district             1236\n",
      "subject_age             4\n",
      "subject_race            0\n",
      "subject_sex             0\n",
      "officer_id_hash         0\n",
      "department_name         0\n",
      "type                    0\n",
      "arrest_made             0\n",
      "citation_issued         0\n",
      "warning_issued          0\n",
      "outcome              2560\n",
      "contraband_found    13433\n",
      "search_conducted        0\n",
      "search_vehicle          0\n",
      "search_basis        13433\n",
      "reason_for_stop         0\n",
      "dtype: int64\n"
     ]
    }
   ],
   "source": [
    "print(hf.isnull().sum())"
   ]
  },
  {
   "cell_type": "markdown",
   "metadata": {},
   "source": [
    "- Examine the shape of the DataFrame"
   ]
  },
  {
   "cell_type": "code",
   "execution_count": 6,
   "metadata": {},
   "outputs": [
    {
     "name": "stdout",
     "output_type": "stream",
     "text": [
      "(18646, 22)\n"
     ]
    }
   ],
   "source": [
    "print(hf.shape)"
   ]
  },
  {
   "cell_type": "markdown",
   "metadata": {},
   "source": [
    "- Drop the 'contraband_found' and 'search_basis' columns"
   ]
  },
  {
   "cell_type": "code",
   "execution_count": 7,
   "metadata": {},
   "outputs": [],
   "source": [
    "hf.drop(['contraband_found', 'search_basis'], axis='columns', inplace=True)"
   ]
  },
  {
   "cell_type": "markdown",
   "metadata": {},
   "source": [
    "- Examine the shape of the DataFrame (again)"
   ]
  },
  {
   "cell_type": "code",
   "execution_count": 8,
   "metadata": {},
   "outputs": [
    {
     "name": "stdout",
     "output_type": "stream",
     "text": [
      "(18646, 20)\n"
     ]
    }
   ],
   "source": [
    "print(hf.shape)"
   ]
  },
  {
   "cell_type": "markdown",
   "metadata": {},
   "source": [
    "- Count the number of missing values in each column"
   ]
  },
  {
   "cell_type": "code",
   "execution_count": 9,
   "metadata": {},
   "outputs": [
    {
     "name": "stdout",
     "output_type": "stream",
     "text": [
      "raw_row_number         0\n",
      "date                   4\n",
      "time                   4\n",
      "location               0\n",
      "lat                  210\n",
      "lng                  210\n",
      "district            1236\n",
      "subject_age            4\n",
      "subject_race           0\n",
      "subject_sex            0\n",
      "officer_id_hash        0\n",
      "department_name        0\n",
      "type                   0\n",
      "arrest_made            0\n",
      "citation_issued        0\n",
      "warning_issued         0\n",
      "outcome             2560\n",
      "search_conducted       0\n",
      "search_vehicle         0\n",
      "reason_for_stop        0\n",
      "dtype: int64\n"
     ]
    }
   ],
   "source": [
    "print(hf.isnull().sum())"
   ]
  },
  {
   "cell_type": "markdown",
   "metadata": {},
   "source": [
    "- Drop all rows that are missing 'outcome'"
   ]
  },
  {
   "cell_type": "code",
   "execution_count": 10,
   "metadata": {},
   "outputs": [],
   "source": [
    "hf.dropna(subset=['outcome'], inplace=True)"
   ]
  },
  {
   "cell_type": "markdown",
   "metadata": {},
   "source": [
    "- Count the number of missing values in each column (again)"
   ]
  },
  {
   "cell_type": "code",
   "execution_count": 11,
   "metadata": {},
   "outputs": [
    {
     "name": "stdout",
     "output_type": "stream",
     "text": [
      "raw_row_number         0\n",
      "date                   3\n",
      "time                   3\n",
      "location               0\n",
      "lat                  197\n",
      "lng                  197\n",
      "district            1176\n",
      "subject_age            4\n",
      "subject_race           0\n",
      "subject_sex            0\n",
      "officer_id_hash        0\n",
      "department_name        0\n",
      "type                   0\n",
      "arrest_made            0\n",
      "citation_issued        0\n",
      "warning_issued         0\n",
      "outcome                0\n",
      "search_conducted       0\n",
      "search_vehicle         0\n",
      "reason_for_stop        0\n",
      "dtype: int64\n"
     ]
    }
   ],
   "source": [
    "print(hf.isnull().sum())"
   ]
  },
  {
   "cell_type": "markdown",
   "metadata": {},
   "source": [
    "- Examine the shape of the DataFrame"
   ]
  },
  {
   "cell_type": "code",
   "execution_count": 12,
   "metadata": {},
   "outputs": [
    {
     "name": "stdout",
     "output_type": "stream",
     "text": [
      "(16086, 20)\n"
     ]
    }
   ],
   "source": [
    "print(hf.shape)"
   ]
  },
  {
   "cell_type": "markdown",
   "metadata": {},
   "source": [
    "- Concatenate 'date' and 'time' (separated by a space)"
   ]
  },
  {
   "cell_type": "code",
   "execution_count": 13,
   "metadata": {},
   "outputs": [],
   "source": [
    "combined = hf.date.str.cat(hf.time,sep=\" \")"
   ]
  },
  {
   "cell_type": "markdown",
   "metadata": {},
   "source": [
    "- Convert 'combined' to datetime format"
   ]
  },
  {
   "cell_type": "code",
   "execution_count": 14,
   "metadata": {},
   "outputs": [],
   "source": [
    "hf['stop_datetime'] = pd.to_datetime(combined)"
   ]
  },
  {
   "cell_type": "markdown",
   "metadata": {},
   "source": [
    "- Examine the data types of the DataFrame"
   ]
  },
  {
   "cell_type": "code",
   "execution_count": 15,
   "metadata": {},
   "outputs": [
    {
     "name": "stdout",
     "output_type": "stream",
     "text": [
      "raw_row_number               int64\n",
      "date                        object\n",
      "time                        object\n",
      "location                    object\n",
      "lat                        float64\n",
      "lng                        float64\n",
      "district                    object\n",
      "subject_age                float64\n",
      "subject_race                object\n",
      "subject_sex                 object\n",
      "officer_id_hash             object\n",
      "department_name             object\n",
      "type                        object\n",
      "arrest_made                   bool\n",
      "citation_issued               bool\n",
      "warning_issued                bool\n",
      "outcome                     object\n",
      "search_conducted              bool\n",
      "search_vehicle                bool\n",
      "reason_for_stop             object\n",
      "stop_datetime       datetime64[ns]\n",
      "dtype: object\n"
     ]
    }
   ],
   "source": [
    "print(hf.dtypes)"
   ]
  },
  {
   "cell_type": "markdown",
   "metadata": {},
   "source": [
    "- Set 'stop_datetime' as the index"
   ]
  },
  {
   "cell_type": "code",
   "execution_count": 16,
   "metadata": {},
   "outputs": [],
   "source": [
    "hf.set_index('stop_datetime', inplace=True)"
   ]
  },
  {
   "cell_type": "markdown",
   "metadata": {},
   "source": [
    "- Examine the index"
   ]
  },
  {
   "cell_type": "code",
   "execution_count": 17,
   "metadata": {},
   "outputs": [
    {
     "name": "stdout",
     "output_type": "stream",
     "text": [
      "DatetimeIndex(['2013-10-13 15:21:00', '2013-10-24 01:12:00',\n",
      "               '2013-10-26 10:06:00', '2013-10-26 18:06:00',\n",
      "               '2013-10-26 19:56:00', '2013-10-26 22:08:00',\n",
      "               '2013-10-26 21:57:00', '2013-10-29 13:18:00',\n",
      "               '2013-10-29 13:50:00', '2013-10-30 11:57:00',\n",
      "               ...\n",
      "               '2016-09-29 13:10:00', '2016-09-29 11:47:00',\n",
      "               '2016-09-29 11:18:00', '2016-09-29 12:12:00',\n",
      "               '2016-09-29 22:29:00', '2016-09-29 16:10:00',\n",
      "               '2016-09-29 11:35:00', '2016-09-29 20:09:00',\n",
      "               '2016-09-29 11:03:00', '2016-09-29 11:57:00'],\n",
      "              dtype='datetime64[ns]', name='stop_datetime', length=16086, freq=None)\n"
     ]
    }
   ],
   "source": [
    "print(hf.index)"
   ]
  },
  {
   "cell_type": "markdown",
   "metadata": {},
   "source": [
    "- Examine the columns"
   ]
  },
  {
   "cell_type": "code",
   "execution_count": 18,
   "metadata": {},
   "outputs": [
    {
     "name": "stdout",
     "output_type": "stream",
     "text": [
      "Index(['raw_row_number', 'date', 'time', 'location', 'lat', 'lng', 'district',\n",
      "       'subject_age', 'subject_race', 'subject_sex', 'officer_id_hash',\n",
      "       'department_name', 'type', 'arrest_made', 'citation_issued',\n",
      "       'warning_issued', 'outcome', 'search_conducted', 'search_vehicle',\n",
      "       'reason_for_stop'],\n",
      "      dtype='object')\n"
     ]
    }
   ],
   "source": [
    "print(hf.columns)"
   ]
  },
  {
   "cell_type": "markdown",
   "metadata": {},
   "source": [
    "- Count the unique values in 'reason_for_stop'"
   ]
  },
  {
   "cell_type": "code",
   "execution_count": 19,
   "metadata": {},
   "outputs": [
    {
     "name": "stdout",
     "output_type": "stream",
     "text": [
      "Cell Phone                3745\n",
      "Speed Related             3470\n",
      "Stop Sign                 1875\n",
      "Traffic Control Signal    1794\n",
      "Other                     1483\n",
      "Moving Violation           903\n",
      "Seatbelt                   541\n",
      "Registration               539\n",
      "Defective Lights           515\n",
      "Display of Plates          454\n",
      "Window Tint                443\n",
      "STC Violation              120\n",
      "Suspended License          102\n",
      "Equipment Violation         61\n",
      "Unlicensed Operation        22\n",
      "Administrative Offense      19\n",
      "Name: reason_for_stop, dtype: int64\n"
     ]
    }
   ],
   "source": [
    "print(hf.reason_for_stop.value_counts())"
   ]
  },
  {
   "cell_type": "markdown",
   "metadata": {},
   "source": [
    "- Express the counts as proportions"
   ]
  },
  {
   "cell_type": "code",
   "execution_count": 20,
   "metadata": {},
   "outputs": [
    {
     "name": "stdout",
     "output_type": "stream",
     "text": [
      "Cell Phone                0.232811\n",
      "Speed Related             0.215716\n",
      "Stop Sign                 0.116561\n",
      "Traffic Control Signal    0.111526\n",
      "Other                     0.092192\n",
      "Moving Violation          0.056136\n",
      "Seatbelt                  0.033632\n",
      "Registration              0.033507\n",
      "Defective Lights          0.032015\n",
      "Display of Plates         0.028223\n",
      "Window Tint               0.027539\n",
      "STC Violation             0.007460\n",
      "Suspended License         0.006341\n",
      "Equipment Violation       0.003792\n",
      "Unlicensed Operation      0.001368\n",
      "Administrative Offense    0.001181\n",
      "Name: reason_for_stop, dtype: float64\n"
     ]
    }
   ],
   "source": [
    "print(hf.reason_for_stop.value_counts(normalize=True))"
   ]
  },
  {
   "cell_type": "markdown",
   "metadata": {},
   "source": [
    "- Create a DataFrame of female drivers"
   ]
  },
  {
   "cell_type": "code",
   "execution_count": 21,
   "metadata": {},
   "outputs": [],
   "source": [
    "female = hf[hf['subject_sex']=='female']"
   ]
  },
  {
   "cell_type": "markdown",
   "metadata": {},
   "source": [
    "- Create a DataFrame of male drivers"
   ]
  },
  {
   "cell_type": "code",
   "execution_count": 22,
   "metadata": {},
   "outputs": [],
   "source": [
    "male = hf[hf['subject_sex']=='male']"
   ]
  },
  {
   "cell_type": "markdown",
   "metadata": {},
   "source": [
    "- Compute 'reason_for_stop' by female drivers (as proportions)"
   ]
  },
  {
   "cell_type": "code",
   "execution_count": 23,
   "metadata": {},
   "outputs": [
    {
     "name": "stdout",
     "output_type": "stream",
     "text": [
      "Cell Phone                0.279170\n",
      "Speed Related             0.245650\n",
      "Stop Sign                 0.108859\n",
      "Traffic Control Signal    0.102155\n",
      "Other                     0.076457\n",
      "Moving Violation          0.043097\n",
      "Registration              0.036073\n",
      "Defective Lights          0.028093\n",
      "Window Tint               0.022187\n",
      "Seatbelt                  0.021548\n",
      "Display of Plates         0.018356\n",
      "STC Violation             0.008140\n",
      "Suspended License         0.007023\n",
      "Equipment Violation       0.001437\n",
      "Unlicensed Operation      0.001117\n",
      "Administrative Offense    0.000638\n",
      "Name: reason_for_stop, dtype: float64\n"
     ]
    }
   ],
   "source": [
    "print(female.reason_for_stop.value_counts(normalize=True))"
   ]
  },
  {
   "cell_type": "markdown",
   "metadata": {},
   "source": [
    "- Compute 'reason_for_stop' by male drivers (as proportions)"
   ]
  },
  {
   "cell_type": "code",
   "execution_count": 24,
   "metadata": {},
   "outputs": [
    {
     "name": "stdout",
     "output_type": "stream",
     "text": [
      "Cell Phone                0.203238\n",
      "Speed Related             0.196619\n",
      "Stop Sign                 0.121474\n",
      "Traffic Control Signal    0.117503\n",
      "Other                     0.102230\n",
      "Moving Violation          0.064454\n",
      "Seatbelt                  0.041340\n",
      "Defective Lights          0.034518\n",
      "Display of Plates         0.034518\n",
      "Registration              0.031870\n",
      "Window Tint               0.030954\n",
      "STC Violation             0.007026\n",
      "Suspended License         0.005906\n",
      "Equipment Violation       0.005295\n",
      "Administrative Offense    0.001527\n",
      "Unlicensed Operation      0.001527\n",
      "Name: reason_for_stop, dtype: float64\n"
     ]
    }
   ],
   "source": [
    "print(male.reason_for_stop.value_counts(normalize=True))"
   ]
  },
  {
   "cell_type": "markdown",
   "metadata": {},
   "source": [
    "- Create a DataFrame of female drivers stopped for 'Cell Phone'"
   ]
  },
  {
   "cell_type": "code",
   "execution_count": 30,
   "metadata": {},
   "outputs": [],
   "source": [
    "female_and_cellphone = hf[(hf['subject_sex']=='female')&(hf['reason_for_stop']=='Cell Phone')]"
   ]
  },
  {
   "cell_type": "markdown",
   "metadata": {},
   "source": [
    "- Create a DataFrame of male drivers stopped for 'Cell Phone'"
   ]
  },
  {
   "cell_type": "code",
   "execution_count": 31,
   "metadata": {},
   "outputs": [],
   "source": [
    "male_and_cellphone = hf[(hf['subject_sex']=='male')&(hf['reason_for_stop']=='Cell Phone')]"
   ]
  },
  {
   "cell_type": "markdown",
   "metadata": {},
   "source": [
    "- Compute the outcomes for female drivers whose reason for stop is cellphone(as proportions)"
   ]
  },
  {
   "cell_type": "code",
   "execution_count": 32,
   "metadata": {},
   "outputs": [
    {
     "name": "stdout",
     "output_type": "stream",
     "text": [
      "citation    0.953116\n",
      "warning     0.027444\n",
      "arrest      0.019440\n",
      "Name: outcome, dtype: float64\n"
     ]
    }
   ],
   "source": [
    "print(female_and_cellphone.outcome.value_counts(normalize=True))"
   ]
  },
  {
   "cell_type": "markdown",
   "metadata": {},
   "source": [
    "- Compute the outcomes for male drivers whose reason for stop is cellphone(as proportions)"
   ]
  },
  {
   "cell_type": "code",
   "execution_count": 33,
   "metadata": {},
   "outputs": [
    {
     "name": "stdout",
     "output_type": "stream",
     "text": [
      "citation    0.947395\n",
      "warning     0.036573\n",
      "arrest      0.016032\n",
      "Name: outcome, dtype: float64\n"
     ]
    }
   ],
   "source": [
    "print(male_and_cellphone.outcome.value_counts(normalize=True))"
   ]
  },
  {
   "cell_type": "markdown",
   "metadata": {},
   "source": [
    "- Check the data type of 'arrest_made'"
   ]
  },
  {
   "cell_type": "code",
   "execution_count": 34,
   "metadata": {},
   "outputs": [
    {
     "name": "stdout",
     "output_type": "stream",
     "text": [
      "bool\n"
     ]
    }
   ],
   "source": [
    "print(hf['arrest_made'].dtype)"
   ]
  },
  {
   "cell_type": "markdown",
   "metadata": {},
   "source": [
    "- Calculate 'arrest_made' rate by counting the values"
   ]
  },
  {
   "cell_type": "code",
   "execution_count": 35,
   "metadata": {},
   "outputs": [
    {
     "name": "stdout",
     "output_type": "stream",
     "text": [
      "False    0.954681\n",
      "True     0.045319\n",
      "Name: arrest_made, dtype: float64\n"
     ]
    }
   ],
   "source": [
    "print(hf['arrest_made'].value_counts(normalize=True))"
   ]
  },
  {
   "cell_type": "markdown",
   "metadata": {},
   "source": [
    "- Calculate 'arrest_made' rate by taking the mean"
   ]
  },
  {
   "cell_type": "code",
   "execution_count": 36,
   "metadata": {},
   "outputs": [
    {
     "name": "stdout",
     "output_type": "stream",
     "text": [
      "0.04531891085415889\n"
     ]
    }
   ],
   "source": [
    "print(hf['arrest_made'].mean())"
   ]
  },
  {
   "cell_type": "markdown",
   "metadata": {},
   "source": [
    "- Calculate 'arrest_made' rate for female drivers"
   ]
  },
  {
   "cell_type": "code",
   "execution_count": 37,
   "metadata": {},
   "outputs": [
    {
     "name": "stdout",
     "output_type": "stream",
     "text": [
      "0.03335993615323224\n"
     ]
    }
   ],
   "source": [
    "print(hf[hf['subject_sex']=='female'].arrest_made.mean())"
   ]
  },
  {
   "cell_type": "markdown",
   "metadata": {},
   "source": [
    "- Calculate 'arrest_made' rate for male drivers"
   ]
  },
  {
   "cell_type": "code",
   "execution_count": 38,
   "metadata": {},
   "outputs": [
    {
     "name": "stdout",
     "output_type": "stream",
     "text": [
      "0.05294776499338153\n"
     ]
    }
   ],
   "source": [
    "print(hf[hf['subject_sex']=='male'].arrest_made.mean())"
   ]
  },
  {
   "cell_type": "markdown",
   "metadata": {},
   "source": [
    "- Calculate 'arrest_made' rate for each combination of gender and reason for stop"
   ]
  },
  {
   "cell_type": "code",
   "execution_count": 39,
   "metadata": {},
   "outputs": [
    {
     "name": "stdout",
     "output_type": "stream",
     "text": [
      "subject_sex  reason_for_stop       \n",
      "female       Administrative Offense    0.250000\n",
      "             Cell Phone                0.019440\n",
      "             Defective Lights          0.011364\n",
      "             Display of Plates         0.043478\n",
      "             Equipment Violation       0.000000\n",
      "             Moving Violation          0.055556\n",
      "             Other                     0.060543\n",
      "             Registration              0.216814\n",
      "             STC Violation             0.000000\n",
      "             Seatbelt                  0.000000\n",
      "             Speed Related             0.002599\n",
      "             Stop Sign                 0.021994\n",
      "             Suspended License         0.659091\n",
      "             Traffic Control Signal    0.025000\n",
      "             Unlicensed Operation      0.285714\n",
      "             Window Tint               0.057554\n",
      "male         Administrative Offense    0.666667\n",
      "             Cell Phone                0.016032\n",
      "             Defective Lights          0.061947\n",
      "             Display of Plates         0.103245\n",
      "             Equipment Violation       0.038462\n",
      "             Moving Violation          0.093207\n",
      "             Other                     0.143426\n",
      "             Registration              0.214058\n",
      "             STC Violation             0.014493\n",
      "             Seatbelt                  0.032020\n",
      "             Speed Related             0.009322\n",
      "             Stop Sign                 0.024308\n",
      "             Suspended License         0.586207\n",
      "             Traffic Control Signal    0.029463\n",
      "             Unlicensed Operation      0.000000\n",
      "             Window Tint               0.069079\n",
      "Name: arrest_made, dtype: float64\n"
     ]
    }
   ],
   "source": [
    "print(hf.groupby(['subject_sex','reason_for_stop']).arrest_made.mean())"
   ]
  }
 ],
 "metadata": {
  "kernelspec": {
   "display_name": "Python 3",
   "language": "python",
   "name": "python3"
  },
  "language_info": {
   "codemirror_mode": {
    "name": "ipython",
    "version": 3
   },
   "file_extension": ".py",
   "mimetype": "text/x-python",
   "name": "python",
   "nbconvert_exporter": "python",
   "pygments_lexer": "ipython3",
   "version": "3.7.3"
  }
 },
 "nbformat": 4,
 "nbformat_minor": 2
}
