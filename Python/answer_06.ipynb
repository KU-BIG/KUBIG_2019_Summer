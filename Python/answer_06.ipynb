{
 "cells": [
  {
   "cell_type": "code",
   "execution_count": null,
   "metadata": {},
   "outputs": [],
   "source": [
    "# Import the pandas library as pd\n",
    "import pandas as pd\n",
    "\n",
    "# # Read hartford  data you downloaded into a DataFrame named hf\n",
    "hf = pd.read_csv('C:/Users/jjw11/Desktop/tr137st9964_ct_hartford_2019_02_25.csv/share/data/opp-for-archive/ct_hartford_2019_02_25.csv')\n",
    "\n",
    "# Examine the head of the DataFrame\n",
    "print(hf.head())\n",
    "\n",
    "# Count the number of missing values in each column\n",
    "print(hf.isnull().sum())"
   ]
  },
  {
   "cell_type": "code",
   "execution_count": null,
   "metadata": {},
   "outputs": [],
   "source": [
    "# Examine the shape of the DataFrame\n",
    "print(hf.shape)\n",
    "\n",
    "# Drop the 'contraband_found' and 'search_basis' columns\n",
    "hf.drop(['contraband_found', 'search_basis'], axis='columns', inplace=True)\n",
    "\n",
    "# Examine the shape of the DataFrame (again)\n",
    "print(hf.shape)"
   ]
  },
  {
   "cell_type": "code",
   "execution_count": null,
   "metadata": {},
   "outputs": [],
   "source": [
    "\n",
    "# Count the number of missing values in each column\n",
    "print(hf.isnull().sum())\n",
    "\n",
    "# Drop all rows that are missing 'outcome'\n",
    "hf.dropna(subset=['outcome'], inplace=True)\n",
    "\n",
    "# Count the number of missing values in each column (again)\n",
    "print(hf.isnull().sum())\n",
    "\n",
    "# Examine the shape of the DataFrame\n",
    "print(hf.shape)"
   ]
  },
  {
   "cell_type": "code",
   "execution_count": null,
   "metadata": {},
   "outputs": [],
   "source": [
    "# Concatenate 'date' and 'stime' (separated by a space)\n",
    "combined = hf.date.str.cat(hf.time,sep=\" \")\n",
    "\n",
    "# Convert 'combined' to datetime format\n",
    "hf['stop_datetime'] = pd.to_datetime(combined)\n",
    "\n",
    "# Examine the data types of the DataFrame\n",
    "print(hf.dtypes)"
   ]
  },
  {
   "cell_type": "code",
   "execution_count": null,
   "metadata": {},
   "outputs": [],
   "source": [
    "\n",
    "# Set 'stop_datetime' as the index\n",
    "hf.set_index('stop_datetime', inplace=True)\n",
    "\n",
    "# Examine the index\n",
    "print(hf.index)\n",
    "\n",
    "# Examine the columns\n",
    "print(hf.columns)"
   ]
  },
  {
   "cell_type": "code",
   "execution_count": null,
   "metadata": {},
   "outputs": [],
   "source": [
    "# Count the unique values in 'reason_for_stop'\n",
    "print(hf.reason_for_stop.value_counts())\n",
    "\n",
    "# Express the counts as proportions\n",
    "print(hf.reason_for_stop.value_counts(normalize=True))"
   ]
  },
  {
   "cell_type": "code",
   "execution_count": null,
   "metadata": {},
   "outputs": [],
   "source": [
    "\n",
    "# Create a DataFrame of female drivers\n",
    "female = hf[hf['subject_sex']=='female']\n",
    "\n",
    "female.head(2)\n",
    "# Create a DataFrame of male drivers\n",
    "male = hf[hf['subject_sex']=='male']\n",
    "\n",
    "# Compute 'reason_for_stop' by female drivers (as proportions)\n",
    "print(female.reason_for_stop.value_counts(normalize=True))\n",
    "\n",
    "# Compute 'reason_for_stop' by male drivers (as proportions)\n",
    "print(male.reason_for_stop.value_counts(normalize=True))"
   ]
  },
  {
   "cell_type": "code",
   "execution_count": null,
   "metadata": {},
   "outputs": [],
   "source": [
    "\n",
    "# Create a DataFrame of female drivers stopped for 'Cell Phone'\n",
    "female_and_cellphone = hf[(hf['subject_sex']=='female')&(hf['reason_for_stop']=='Cell Phone')]\n",
    "\n",
    "# Create a DataFrame of male drivers stopped for 'Cell Phone'\n",
    "male_and_cellphone = hf[(hf['subject_sex']=='male')&(hf['reason_for_stop']=='Cell Phone')]\n",
    "\n",
    "\n",
    "# Compute the stop outcomes for female drivers (as proportions)\n",
    "print(female_and_cellphone.outcome.value_counts(normalize=True))\n",
    "\n",
    "# Compute the stop outcomes for male drivers (as proportions)\n",
    "print(male_and_cellphone.outcome.value_counts(normalize=True))"
   ]
  },
  {
   "cell_type": "code",
   "execution_count": null,
   "metadata": {},
   "outputs": [],
   "source": [
    "# Check the data type of 'arrest_made'\n",
    "print(hf['arrest_made'].dtype)\n",
    "\n",
    "# Calculate 'arrest_made' rate by counting the values\n",
    "print(hf['arrest_made'].value_counts(normalize=True))\n",
    "\n",
    "# Calculate 'arrest_made' rate by taking the mean\n",
    "print(hf['arrest_made'].mean())"
   ]
  },
  {
   "cell_type": "code",
   "execution_count": null,
   "metadata": {},
   "outputs": [],
   "source": [
    "# Calculate 'arrest_made' rate for female drivers\n",
    "print(hf[hf['subject_sex']=='female'].arrest_made.mean())"
   ]
  },
  {
   "cell_type": "code",
   "execution_count": null,
   "metadata": {},
   "outputs": [],
   "source": [
    "# Calculate 'arrest_made' rate for each combination of gender and violation\n",
    "print(hf.groupby(['subject_sex','reason_for_stop']).arrest_made.mean())"
   ]
  }
 ],
 "metadata": {
  "kernelspec": {
   "display_name": "Python 3",
   "language": "python",
   "name": "python3"
  },
  "language_info": {
   "codemirror_mode": {
    "name": "ipython",
    "version": 3
   },
   "file_extension": ".py",
   "mimetype": "text/x-python",
   "name": "python",
   "nbconvert_exporter": "python",
   "pygments_lexer": "ipython3",
   "version": "3.7.3"
  }
 },
 "nbformat": 4,
 "nbformat_minor": 2
}
