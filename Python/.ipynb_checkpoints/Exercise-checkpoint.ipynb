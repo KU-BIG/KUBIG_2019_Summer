{
 "cells": [
  {
   "cell_type": "markdown",
   "metadata": {},
   "source": [
    "make user maked function * using *args **kwargs"
   ]
  },
  {
   "cell_type": "code",
   "execution_count": 1,
   "metadata": {},
   "outputs": [],
   "source": [
    "import pandas as pd\n",
    "import numpy as np\n",
    "\n",
    "np.random.seed(1)"
   ]
  },
  {
   "cell_type": "markdown",
   "metadata": {},
   "source": [
    "Let N(mu, standard deviation)  \n",
    "make student ID 1 to 20\n",
    "math midterm score has N(70, 15) distribution  \n",
    "math final score = math midterm score * 0.6 + N(0, 5)  \n",
    "english midterm score has N(75, 10) distribution  \n",
    "english final score = english midterm score * 0.7 + N(0, 3)  "
   ]
  },
  {
   "cell_type": "code",
   "execution_count": 2,
   "metadata": {},
   "outputs": [],
   "source": [
    "Students = list(range(1, 21))\n",
    "math_mid = np.round(np.random.randn(20)*15 + 70, decimals = 2)\n",
    "math_fin = np.round(math_mid * 0.6 + np.random.randn(20)*5, decimals = 2)\n",
    "eng_mid = np.round(np.random.randn(20)*10 + 75, decimals = 2)\n",
    "eng_fin = np.round(eng_mid * 0.7 + np.random.randn(20)*3, decimals = 2)"
   ]
  },
  {
   "cell_type": "markdown",
   "metadata": {},
   "source": [
    "make pandas DataFrame with above 5 variables. And show that DataFrame."
   ]
  },
  {
   "cell_type": "code",
   "execution_count": 3,
   "metadata": {},
   "outputs": [
    {
     "data": {
      "text/html": [
       "<div>\n",
       "<style scoped>\n",
       "    .dataframe tbody tr th:only-of-type {\n",
       "        vertical-align: middle;\n",
       "    }\n",
       "\n",
       "    .dataframe tbody tr th {\n",
       "        vertical-align: top;\n",
       "    }\n",
       "\n",
       "    .dataframe thead th {\n",
       "        text-align: right;\n",
       "    }\n",
       "</style>\n",
       "<table border=\"1\" class=\"dataframe\">\n",
       "  <thead>\n",
       "    <tr style=\"text-align: right;\">\n",
       "      <th></th>\n",
       "      <th>Student</th>\n",
       "      <th>math_mid</th>\n",
       "      <th>math_fin</th>\n",
       "      <th>eng_mid</th>\n",
       "      <th>eng_fin</th>\n",
       "    </tr>\n",
       "  </thead>\n",
       "  <tbody>\n",
       "    <tr>\n",
       "      <th>0</th>\n",
       "      <td>1</td>\n",
       "      <td>94.37</td>\n",
       "      <td>51.12</td>\n",
       "      <td>73.08</td>\n",
       "      <td>48.89</td>\n",
       "    </tr>\n",
       "    <tr>\n",
       "      <th>1</th>\n",
       "      <td>2</td>\n",
       "      <td>60.82</td>\n",
       "      <td>42.22</td>\n",
       "      <td>66.12</td>\n",
       "      <td>50.04</td>\n",
       "    </tr>\n",
       "    <tr>\n",
       "      <th>2</th>\n",
       "      <td>3</td>\n",
       "      <td>62.08</td>\n",
       "      <td>41.76</td>\n",
       "      <td>67.53</td>\n",
       "      <td>48.81</td>\n",
       "    </tr>\n",
       "    <tr>\n",
       "      <th>3</th>\n",
       "      <td>4</td>\n",
       "      <td>53.91</td>\n",
       "      <td>34.86</td>\n",
       "      <td>91.92</td>\n",
       "      <td>63.45</td>\n",
       "    </tr>\n",
       "    <tr>\n",
       "      <th>4</th>\n",
       "      <td>5</td>\n",
       "      <td>82.98</td>\n",
       "      <td>54.29</td>\n",
       "      <td>75.51</td>\n",
       "      <td>54.32</td>\n",
       "    </tr>\n",
       "    <tr>\n",
       "      <th>5</th>\n",
       "      <td>6</td>\n",
       "      <td>35.48</td>\n",
       "      <td>17.87</td>\n",
       "      <td>68.63</td>\n",
       "      <td>47.81</td>\n",
       "    </tr>\n",
       "    <tr>\n",
       "      <th>6</th>\n",
       "      <td>7</td>\n",
       "      <td>96.17</td>\n",
       "      <td>57.09</td>\n",
       "      <td>76.91</td>\n",
       "      <td>57.23</td>\n",
       "    </tr>\n",
       "    <tr>\n",
       "      <th>7</th>\n",
       "      <td>8</td>\n",
       "      <td>58.58</td>\n",
       "      <td>30.47</td>\n",
       "      <td>96.00</td>\n",
       "      <td>71.76</td>\n",
       "    </tr>\n",
       "    <tr>\n",
       "      <th>8</th>\n",
       "      <td>9</td>\n",
       "      <td>74.79</td>\n",
       "      <td>43.53</td>\n",
       "      <td>76.20</td>\n",
       "      <td>59.90</td>\n",
       "    </tr>\n",
       "    <tr>\n",
       "      <th>9</th>\n",
       "      <td>10</td>\n",
       "      <td>66.26</td>\n",
       "      <td>42.41</td>\n",
       "      <td>81.17</td>\n",
       "      <td>52.63</td>\n",
       "    </tr>\n",
       "    <tr>\n",
       "      <th>10</th>\n",
       "      <td>11</td>\n",
       "      <td>91.93</td>\n",
       "      <td>51.70</td>\n",
       "      <td>78.00</td>\n",
       "      <td>50.27</td>\n",
       "    </tr>\n",
       "    <tr>\n",
       "      <th>11</th>\n",
       "      <td>12</td>\n",
       "      <td>39.10</td>\n",
       "      <td>21.48</td>\n",
       "      <td>71.48</td>\n",
       "      <td>48.52</td>\n",
       "    </tr>\n",
       "    <tr>\n",
       "      <th>12</th>\n",
       "      <td>13</td>\n",
       "      <td>65.16</td>\n",
       "      <td>35.66</td>\n",
       "      <td>63.57</td>\n",
       "      <td>44.98</td>\n",
       "    </tr>\n",
       "    <tr>\n",
       "      <th>13</th>\n",
       "      <td>14</td>\n",
       "      <td>64.24</td>\n",
       "      <td>34.32</td>\n",
       "      <td>71.51</td>\n",
       "      <td>52.69</td>\n",
       "    </tr>\n",
       "    <tr>\n",
       "      <th>14</th>\n",
       "      <td>15</td>\n",
       "      <td>87.01</td>\n",
       "      <td>48.85</td>\n",
       "      <td>72.91</td>\n",
       "      <td>51.98</td>\n",
       "    </tr>\n",
       "    <tr>\n",
       "      <th>15</th>\n",
       "      <td>16</td>\n",
       "      <td>53.50</td>\n",
       "      <td>32.04</td>\n",
       "      <td>80.87</td>\n",
       "      <td>50.54</td>\n",
       "    </tr>\n",
       "    <tr>\n",
       "      <th>16</th>\n",
       "      <td>17</td>\n",
       "      <td>67.41</td>\n",
       "      <td>34.86</td>\n",
       "      <td>83.39</td>\n",
       "      <td>57.45</td>\n",
       "    </tr>\n",
       "    <tr>\n",
       "      <th>17</th>\n",
       "      <td>18</td>\n",
       "      <td>56.83</td>\n",
       "      <td>35.27</td>\n",
       "      <td>84.31</td>\n",
       "      <td>61.50</td>\n",
       "    </tr>\n",
       "    <tr>\n",
       "      <th>18</th>\n",
       "      <td>19</td>\n",
       "      <td>70.63</td>\n",
       "      <td>50.68</td>\n",
       "      <td>77.86</td>\n",
       "      <td>55.19</td>\n",
       "    </tr>\n",
       "    <tr>\n",
       "      <th>19</th>\n",
       "      <td>20</td>\n",
       "      <td>78.74</td>\n",
       "      <td>50.95</td>\n",
       "      <td>83.85</td>\n",
       "      <td>60.98</td>\n",
       "    </tr>\n",
       "  </tbody>\n",
       "</table>\n",
       "</div>"
      ],
      "text/plain": [
       "    Student  math_mid  math_fin  eng_mid  eng_fin\n",
       "0         1     94.37     51.12    73.08    48.89\n",
       "1         2     60.82     42.22    66.12    50.04\n",
       "2         3     62.08     41.76    67.53    48.81\n",
       "3         4     53.91     34.86    91.92    63.45\n",
       "4         5     82.98     54.29    75.51    54.32\n",
       "5         6     35.48     17.87    68.63    47.81\n",
       "6         7     96.17     57.09    76.91    57.23\n",
       "7         8     58.58     30.47    96.00    71.76\n",
       "8         9     74.79     43.53    76.20    59.90\n",
       "9        10     66.26     42.41    81.17    52.63\n",
       "10       11     91.93     51.70    78.00    50.27\n",
       "11       12     39.10     21.48    71.48    48.52\n",
       "12       13     65.16     35.66    63.57    44.98\n",
       "13       14     64.24     34.32    71.51    52.69\n",
       "14       15     87.01     48.85    72.91    51.98\n",
       "15       16     53.50     32.04    80.87    50.54\n",
       "16       17     67.41     34.86    83.39    57.45\n",
       "17       18     56.83     35.27    84.31    61.50\n",
       "18       19     70.63     50.68    77.86    55.19\n",
       "19       20     78.74     50.95    83.85    60.98"
      ]
     },
     "metadata": {},
     "output_type": "display_data"
    }
   ],
   "source": [
    "df = pd.DataFrame({'Student' : Students, 'math_mid' : math_mid,\n",
    "                   'math_fin' : math_fin, 'eng_mid' : eng_mid, 'eng_fin' : eng_fin})\n",
    "display(df)"
   ]
  },
  {
   "cell_type": "markdown",
   "metadata": {},
   "source": [
    "make row labels as STAT01 to STAT10"
   ]
  },
  {
   "cell_type": "code",
   "execution_count": 4,
   "metadata": {},
   "outputs": [
    {
     "data": {
      "text/html": [
       "<div>\n",
       "<style scoped>\n",
       "    .dataframe tbody tr th:only-of-type {\n",
       "        vertical-align: middle;\n",
       "    }\n",
       "\n",
       "    .dataframe tbody tr th {\n",
       "        vertical-align: top;\n",
       "    }\n",
       "\n",
       "    .dataframe thead th {\n",
       "        text-align: right;\n",
       "    }\n",
       "</style>\n",
       "<table border=\"1\" class=\"dataframe\">\n",
       "  <thead>\n",
       "    <tr style=\"text-align: right;\">\n",
       "      <th></th>\n",
       "      <th>Student</th>\n",
       "      <th>math_mid</th>\n",
       "      <th>math_fin</th>\n",
       "      <th>eng_mid</th>\n",
       "      <th>eng_fin</th>\n",
       "    </tr>\n",
       "  </thead>\n",
       "  <tbody>\n",
       "    <tr>\n",
       "      <th>STAT01</th>\n",
       "      <td>1</td>\n",
       "      <td>94.37</td>\n",
       "      <td>51.12</td>\n",
       "      <td>73.08</td>\n",
       "      <td>48.89</td>\n",
       "    </tr>\n",
       "    <tr>\n",
       "      <th>STAT02</th>\n",
       "      <td>2</td>\n",
       "      <td>60.82</td>\n",
       "      <td>42.22</td>\n",
       "      <td>66.12</td>\n",
       "      <td>50.04</td>\n",
       "    </tr>\n",
       "    <tr>\n",
       "      <th>STAT03</th>\n",
       "      <td>3</td>\n",
       "      <td>62.08</td>\n",
       "      <td>41.76</td>\n",
       "      <td>67.53</td>\n",
       "      <td>48.81</td>\n",
       "    </tr>\n",
       "    <tr>\n",
       "      <th>STAT04</th>\n",
       "      <td>4</td>\n",
       "      <td>53.91</td>\n",
       "      <td>34.86</td>\n",
       "      <td>91.92</td>\n",
       "      <td>63.45</td>\n",
       "    </tr>\n",
       "    <tr>\n",
       "      <th>STAT05</th>\n",
       "      <td>5</td>\n",
       "      <td>82.98</td>\n",
       "      <td>54.29</td>\n",
       "      <td>75.51</td>\n",
       "      <td>54.32</td>\n",
       "    </tr>\n",
       "  </tbody>\n",
       "</table>\n",
       "</div>"
      ],
      "text/plain": [
       "        Student  math_mid  math_fin  eng_mid  eng_fin\n",
       "STAT01        1     94.37     51.12    73.08    48.89\n",
       "STAT02        2     60.82     42.22    66.12    50.04\n",
       "STAT03        3     62.08     41.76    67.53    48.81\n",
       "STAT04        4     53.91     34.86    91.92    63.45\n",
       "STAT05        5     82.98     54.29    75.51    54.32"
      ]
     },
     "metadata": {},
     "output_type": "display_data"
    }
   ],
   "source": [
    "row_labels = [\"STAT%.2d\" % i for i in range(1, 21)]\n",
    "df.index = row_labels\n",
    "display(df.head())"
   ]
  },
  {
   "cell_type": "markdown",
   "metadata": {},
   "source": [
    "print eng_fin column of df as Pandas Series.  \n",
    "print math_mid column of df as Pandas DataFrame.  \n",
    "print DataFrame with both math_mid, math_fin columns of cars, in this order."
   ]
  },
  {
   "cell_type": "code",
   "execution_count": 5,
   "metadata": {},
   "outputs": [
    {
     "name": "stdout",
     "output_type": "stream",
     "text": [
      "STAT01    48.89\n",
      "STAT02    50.04\n",
      "STAT03    48.81\n",
      "STAT04    63.45\n",
      "STAT05    54.32\n",
      "Name: eng_fin, dtype: float64\n",
      "        math_mid\n",
      "STAT01     94.37\n",
      "STAT02     60.82\n",
      "STAT03     62.08\n",
      "STAT04     53.91\n",
      "STAT05     82.98\n",
      "        math_mid  math_fin\n",
      "STAT01     94.37     51.12\n",
      "STAT02     60.82     42.22\n",
      "STAT03     62.08     41.76\n",
      "STAT04     53.91     34.86\n",
      "STAT05     82.98     54.29\n",
      "        math_mid  math_fin\n",
      "STAT01     94.37     51.12\n",
      "STAT02     60.82     42.22\n",
      "STAT03     62.08     41.76\n",
      "STAT04     53.91     34.86\n",
      "STAT05     82.98     54.29\n",
      "        math_mid  math_fin\n",
      "STAT01     94.37     51.12\n",
      "STAT02     60.82     42.22\n",
      "STAT03     62.08     41.76\n",
      "STAT04     53.91     34.86\n",
      "STAT05     82.98     54.29\n"
     ]
    }
   ],
   "source": [
    "print(df['eng_fin'].head())\n",
    "print(df[['math_mid']].head())\n",
    "print(df[['math_mid', 'math_fin']].head())\n",
    "print(df.iloc[:5, 1:3])\n",
    "print(df.loc['STAT01':'STAT05', ['math_mid', 'math_fin']])"
   ]
  },
  {
   "cell_type": "markdown",
   "metadata": {},
   "source": [
    "print observation for STAT03.  \n",
    "print english scores for STAT04 and STAT07."
   ]
  },
  {
   "cell_type": "code",
   "execution_count": 6,
   "metadata": {},
   "outputs": [
    {
     "name": "stdout",
     "output_type": "stream",
     "text": [
      "Student      3.00\n",
      "math_mid    62.08\n",
      "math_fin    41.76\n",
      "eng_mid     67.53\n",
      "eng_fin     48.81\n",
      "Name: STAT03, dtype: float64\n",
      "        Student  math_mid  math_fin  eng_mid  eng_fin\n",
      "STAT03        3     62.08     41.76    67.53    48.81\n",
      "        eng_mid  eng_fin\n",
      "STAT04    91.92    63.45\n",
      "STAT07    76.91    57.23\n",
      "        eng_mid  eng_fin\n",
      "STAT04    91.92    63.45\n",
      "STAT07    76.91    57.23\n"
     ]
    }
   ],
   "source": [
    "print(df.iloc[2])\n",
    "print(df.loc[['STAT03']])\n",
    "print(df.iloc[[3, 6], 3:])\n",
    "print(df.loc[['STAT04', 'STAT07'], ['eng_mid', 'eng_fin']])"
   ]
  },
  {
   "cell_type": "markdown",
   "metadata": {},
   "source": [
    "using lambda functions, print out math_mid in (60, 70)"
   ]
  },
  {
   "cell_type": "code",
   "execution_count": 7,
   "metadata": {},
   "outputs": [
    {
     "name": "stdout",
     "output_type": "stream",
     "text": [
      "[60.82, 62.08, 66.26, 65.16, 64.24, 67.41]\n"
     ]
    }
   ],
   "source": [
    "result = filter(lambda math_mid: math_mid > 60 and math_mid < 70, list(df['math_mid']))\n",
    "result_list = list(result)\n",
    "print(result_list)"
   ]
  },
  {
   "cell_type": "markdown",
   "metadata": {},
   "source": [
    "who get english final score between 40 and 50?"
   ]
  },
  {
   "cell_type": "code",
   "execution_count": 8,
   "metadata": {},
   "outputs": [
    {
     "name": "stdout",
     "output_type": "stream",
     "text": [
      "Index(['STAT01', 'STAT03', 'STAT06', 'STAT12', 'STAT13'], dtype='object')\n"
     ]
    }
   ],
   "source": [
    "index = map(lambda eng_fin : eng_fin > 40 and eng_fin < 50, list(df['eng_fin']))\n",
    "index_list = list(index)\n",
    "print(df[index_list].index)"
   ]
  },
  {
   "cell_type": "markdown",
   "metadata": {},
   "source": [
    "scatter plot x : math midterm score, y : math final score  \n",
    "title : Math score comparison"
   ]
  },
  {
   "cell_type": "code",
   "execution_count": 14,
   "metadata": {},
   "outputs": [
    {
     "data": {
      "image/png": "[encoded data removed]",
      "text/plain": [
       "<Figure size 432x288 with 1 Axes>"
      ]
     },
     "metadata": {
      "needs_background": "light"
     },
     "output_type": "display_data"
    }
   ],
   "source": [
    "import matplotlib.pyplot as plt\n",
    "plt.scatter(df['math_mid'], df['math_fin'])\n",
    "plt.xlabel(\"Midterm math score\")\n",
    "plt.ylabel(\"Final math score\")\n",
    "plt.title(\"Math score Comparison\")\n",
    "plt.show()"
   ]
  },
  {
   "cell_type": "markdown",
   "metadata": {},
   "source": [
    "add new columns of total scores of math and english"
   ]
  },
  {
   "cell_type": "code",
   "execution_count": 10,
   "metadata": {},
   "outputs": [
    {
     "data": {
      "text/html": [
       "<div>\n",
       "<style scoped>\n",
       "    .dataframe tbody tr th:only-of-type {\n",
       "        vertical-align: middle;\n",
       "    }\n",
       "\n",
       "    .dataframe tbody tr th {\n",
       "        vertical-align: top;\n",
       "    }\n",
       "\n",
       "    .dataframe thead th {\n",
       "        text-align: right;\n",
       "    }\n",
       "</style>\n",
       "<table border=\"1\" class=\"dataframe\">\n",
       "  <thead>\n",
       "    <tr style=\"text-align: right;\">\n",
       "      <th></th>\n",
       "      <th>Student</th>\n",
       "      <th>math_mid</th>\n",
       "      <th>math_fin</th>\n",
       "      <th>eng_mid</th>\n",
       "      <th>eng_fin</th>\n",
       "      <th>math_total</th>\n",
       "      <th>eng_total</th>\n",
       "    </tr>\n",
       "  </thead>\n",
       "  <tbody>\n",
       "    <tr>\n",
       "      <th>STAT01</th>\n",
       "      <td>1</td>\n",
       "      <td>94.37</td>\n",
       "      <td>51.12</td>\n",
       "      <td>73.08</td>\n",
       "      <td>48.89</td>\n",
       "      <td>145.49</td>\n",
       "      <td>121.97</td>\n",
       "    </tr>\n",
       "    <tr>\n",
       "      <th>STAT02</th>\n",
       "      <td>2</td>\n",
       "      <td>60.82</td>\n",
       "      <td>42.22</td>\n",
       "      <td>66.12</td>\n",
       "      <td>50.04</td>\n",
       "      <td>103.04</td>\n",
       "      <td>116.16</td>\n",
       "    </tr>\n",
       "    <tr>\n",
       "      <th>STAT03</th>\n",
       "      <td>3</td>\n",
       "      <td>62.08</td>\n",
       "      <td>41.76</td>\n",
       "      <td>67.53</td>\n",
       "      <td>48.81</td>\n",
       "      <td>103.84</td>\n",
       "      <td>116.34</td>\n",
       "    </tr>\n",
       "    <tr>\n",
       "      <th>STAT04</th>\n",
       "      <td>4</td>\n",
       "      <td>53.91</td>\n",
       "      <td>34.86</td>\n",
       "      <td>91.92</td>\n",
       "      <td>63.45</td>\n",
       "      <td>88.77</td>\n",
       "      <td>155.37</td>\n",
       "    </tr>\n",
       "    <tr>\n",
       "      <th>STAT05</th>\n",
       "      <td>5</td>\n",
       "      <td>82.98</td>\n",
       "      <td>54.29</td>\n",
       "      <td>75.51</td>\n",
       "      <td>54.32</td>\n",
       "      <td>137.27</td>\n",
       "      <td>129.83</td>\n",
       "    </tr>\n",
       "  </tbody>\n",
       "</table>\n",
       "</div>"
      ],
      "text/plain": [
       "        Student  math_mid  math_fin  eng_mid  eng_fin  math_total  eng_total\n",
       "STAT01        1     94.37     51.12    73.08    48.89      145.49     121.97\n",
       "STAT02        2     60.82     42.22    66.12    50.04      103.04     116.16\n",
       "STAT03        3     62.08     41.76    67.53    48.81      103.84     116.34\n",
       "STAT04        4     53.91     34.86    91.92    63.45       88.77     155.37\n",
       "STAT05        5     82.98     54.29    75.51    54.32      137.27     129.83"
      ]
     },
     "metadata": {},
     "output_type": "display_data"
    }
   ],
   "source": [
    "df['math_total'] = df['math_mid']+df['math_fin']\n",
    "df['eng_total'] = df['eng_mid']+df['eng_fin']\n",
    "display(df.head())"
   ]
  },
  {
   "cell_type": "markdown",
   "metadata": {},
   "source": [
    "scatter plot x : math total score, y : english total score  \n",
    "title : math total score vs. english total score"
   ]
  },
  {
   "cell_type": "code",
   "execution_count": 11,
   "metadata": {},
   "outputs": [
    {
     "data": {
      "image/png": "[encoded data removed]",
      "text/plain": [
       "<Figure size 432x288 with 1 Axes>"
      ]
     },
     "metadata": {
      "needs_background": "light"
     },
     "output_type": "display_data"
    }
   ],
   "source": [
    "import matplotlib.pyplot as plt\n",
    "plt.scatter(df['math_total'], df['eng_total'])\n",
    "plt.xlabel(\"Total math score\")\n",
    "plt.ylabel(\"Total english score\")\n",
    "plt.title(\"math total score vs. english total score\")\n",
    "plt.show()"
   ]
  },
  {
   "cell_type": "markdown",
   "metadata": {},
   "source": [
    "correlation matrix"
   ]
  },
  {
   "cell_type": "code",
   "execution_count": 12,
   "metadata": {},
   "outputs": [
    {
     "data": {
      "text/html": [
       "<div>\n",
       "<style scoped>\n",
       "    .dataframe tbody tr th:only-of-type {\n",
       "        vertical-align: middle;\n",
       "    }\n",
       "\n",
       "    .dataframe tbody tr th {\n",
       "        vertical-align: top;\n",
       "    }\n",
       "\n",
       "    .dataframe thead th {\n",
       "        text-align: right;\n",
       "    }\n",
       "</style>\n",
       "<table border=\"1\" class=\"dataframe\">\n",
       "  <thead>\n",
       "    <tr style=\"text-align: right;\">\n",
       "      <th></th>\n",
       "      <th>Student</th>\n",
       "      <th>math_mid</th>\n",
       "      <th>math_fin</th>\n",
       "      <th>eng_mid</th>\n",
       "      <th>eng_fin</th>\n",
       "      <th>math_total</th>\n",
       "      <th>eng_total</th>\n",
       "    </tr>\n",
       "  </thead>\n",
       "  <tbody>\n",
       "    <tr>\n",
       "      <th>Student</th>\n",
       "      <td>1.000000</td>\n",
       "      <td>-0.043619</td>\n",
       "      <td>-0.046685</td>\n",
       "      <td>0.227538</td>\n",
       "      <td>0.151588</td>\n",
       "      <td>-0.045646</td>\n",
       "      <td>0.200298</td>\n",
       "    </tr>\n",
       "    <tr>\n",
       "      <th>math_mid</th>\n",
       "      <td>-0.043619</td>\n",
       "      <td>1.000000</td>\n",
       "      <td>0.923762</td>\n",
       "      <td>-0.009337</td>\n",
       "      <td>0.031879</td>\n",
       "      <td>0.988433</td>\n",
       "      <td>0.009119</td>\n",
       "    </tr>\n",
       "    <tr>\n",
       "      <th>math_fin</th>\n",
       "      <td>-0.046685</td>\n",
       "      <td>0.923762</td>\n",
       "      <td>1.000000</td>\n",
       "      <td>-0.011671</td>\n",
       "      <td>0.049697</td>\n",
       "      <td>0.971158</td>\n",
       "      <td>0.015880</td>\n",
       "    </tr>\n",
       "    <tr>\n",
       "      <th>eng_mid</th>\n",
       "      <td>0.227538</td>\n",
       "      <td>-0.009337</td>\n",
       "      <td>-0.011671</td>\n",
       "      <td>1.000000</td>\n",
       "      <td>0.875484</td>\n",
       "      <td>-0.010435</td>\n",
       "      <td>0.975520</td>\n",
       "    </tr>\n",
       "    <tr>\n",
       "      <th>eng_fin</th>\n",
       "      <td>0.151588</td>\n",
       "      <td>0.031879</td>\n",
       "      <td>0.049697</td>\n",
       "      <td>0.875484</td>\n",
       "      <td>1.000000</td>\n",
       "      <td>0.039529</td>\n",
       "      <td>0.960324</td>\n",
       "    </tr>\n",
       "    <tr>\n",
       "      <th>math_total</th>\n",
       "      <td>-0.045646</td>\n",
       "      <td>0.988433</td>\n",
       "      <td>0.971158</td>\n",
       "      <td>-0.010435</td>\n",
       "      <td>0.039529</td>\n",
       "      <td>1.000000</td>\n",
       "      <td>0.011966</td>\n",
       "    </tr>\n",
       "    <tr>\n",
       "      <th>eng_total</th>\n",
       "      <td>0.200298</td>\n",
       "      <td>0.009119</td>\n",
       "      <td>0.015880</td>\n",
       "      <td>0.975520</td>\n",
       "      <td>0.960324</td>\n",
       "      <td>0.011966</td>\n",
       "      <td>1.000000</td>\n",
       "    </tr>\n",
       "  </tbody>\n",
       "</table>\n",
       "</div>"
      ],
      "text/plain": [
       "             Student  math_mid  math_fin   eng_mid   eng_fin  math_total  \\\n",
       "Student     1.000000 -0.043619 -0.046685  0.227538  0.151588   -0.045646   \n",
       "math_mid   -0.043619  1.000000  0.923762 -0.009337  0.031879    0.988433   \n",
       "math_fin   -0.046685  0.923762  1.000000 -0.011671  0.049697    0.971158   \n",
       "eng_mid     0.227538 -0.009337 -0.011671  1.000000  0.875484   -0.010435   \n",
       "eng_fin     0.151588  0.031879  0.049697  0.875484  1.000000    0.039529   \n",
       "math_total -0.045646  0.988433  0.971158 -0.010435  0.039529    1.000000   \n",
       "eng_total   0.200298  0.009119  0.015880  0.975520  0.960324    0.011966   \n",
       "\n",
       "            eng_total  \n",
       "Student      0.200298  \n",
       "math_mid     0.009119  \n",
       "math_fin     0.015880  \n",
       "eng_mid      0.975520  \n",
       "eng_fin      0.960324  \n",
       "math_total   0.011966  \n",
       "eng_total    1.000000  "
      ]
     },
     "execution_count": 12,
     "metadata": {},
     "output_type": "execute_result"
    }
   ],
   "source": [
    "df.corr()"
   ]
  },
  {
   "cell_type": "code",
   "execution_count": 13,
   "metadata": {},
   "outputs": [
    {
     "data": {
      "text/plain": [
       "<matplotlib.axes._subplots.AxesSubplot at 0x19769ededa0>"
      ]
     },
     "execution_count": 13,
     "metadata": {},
     "output_type": "execute_result"
    },
    {
     "data": {
      "image/png": "[encoded data removed]",
      "text/plain": [
       "<Figure size 432x288 with 2 Axes>"
      ]
     },
     "metadata": {
      "needs_background": "light"
     },
     "output_type": "display_data"
    }
   ],
   "source": [
    "import seaborn as sns\n",
    "sns.heatmap(data = df.corr())"
   ]
  }
 ],
 "metadata": {
  "kernelspec": {
   "display_name": "Python 3",
   "language": "python",
   "name": "python3"
  },
  "language_info": {
   "codemirror_mode": {
    "name": "ipython",
    "version": 3
   },
   "file_extension": ".py",
   "mimetype": "text/x-python",
   "name": "python",
   "nbconvert_exporter": "python",
   "pygments_lexer": "ipython3",
   "version": "3.6.5"
  }
 },
 "nbformat": 4,
 "nbformat_minor": 2
}
