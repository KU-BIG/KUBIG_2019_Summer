{
 "cells": [
  {
   "cell_type": "markdown",
   "metadata": {},
   "source": [
    "make user maked function * using *args **kwargs"
   ]
  },
  {
   "cell_type": "code",
   "execution_count": 1,
   "metadata": {},
   "outputs": [],
   "source": [
    "import pandas as pd\n",
    "import numpy as np\n",
    "\n",
    "np.random.seed(1)"
   ]
  },
  {
   "cell_type": "markdown",
   "metadata": {},
   "source": [
    "Let N(mu, standard deviation)  \n",
    "make student ID 1 to 20\n",
    "math midterm score has N(70, 15) distribution  \n",
    "math final score = math midterm score * 0.6 + N(0, 5)  \n",
    "english midterm score has N(75, 10) distribution  \n",
    "english final score = english midterm score * 0.7 + N(0, 3)  "
   ]
  },
  {
   "cell_type": "code",
   "execution_count": 21,
   "metadata": {},
   "outputs": [],
   "source": [
    "StudentsID = list(range(1, 21))\n",
    "math_mid = np.round(np.random.randn(20)*15 + 70, decimals = 2)\n",
    "math_fin = np.round(math_mid * 0.6 + np.random.randn(20)*5, decimals = 2)\n",
    "eng_mid = np.round(np.random.randn(20)*10 + 75, decimals = 2)\n",
    "eng_fin = np.round(eng_mid * 0.7 + np.random.randn(20)*3, decimals = 2)"
   ]
  },
  {
   "cell_type": "markdown",
   "metadata": {},
   "source": [
    "make pandas DataFrame with above 5 variables. And show that DataFrame."
   ]
  },
  {
   "cell_type": "code",
   "execution_count": 22,
   "metadata": {},
   "outputs": [
    {
     "data": {
      "text/html": [
       "<div>\n",
       "<style scoped>\n",
       "    .dataframe tbody tr th:only-of-type {\n",
       "        vertical-align: middle;\n",
       "    }\n",
       "\n",
       "    .dataframe tbody tr th {\n",
       "        vertical-align: top;\n",
       "    }\n",
       "\n",
       "    .dataframe thead th {\n",
       "        text-align: right;\n",
       "    }\n",
       "</style>\n",
       "<table border=\"1\" class=\"dataframe\">\n",
       "  <thead>\n",
       "    <tr style=\"text-align: right;\">\n",
       "      <th></th>\n",
       "      <th>Student</th>\n",
       "      <th>math_mid</th>\n",
       "      <th>math_fin</th>\n",
       "      <th>eng_mid</th>\n",
       "      <th>eng_fin</th>\n",
       "    </tr>\n",
       "  </thead>\n",
       "  <tbody>\n",
       "    <tr>\n",
       "      <th>0</th>\n",
       "      <td>1</td>\n",
       "      <td>50.91</td>\n",
       "      <td>36.35</td>\n",
       "      <td>70.99</td>\n",
       "      <td>48.71</td>\n",
       "    </tr>\n",
       "    <tr>\n",
       "      <th>1</th>\n",
       "      <td>2</td>\n",
       "      <td>74.70</td>\n",
       "      <td>46.67</td>\n",
       "      <td>83.24</td>\n",
       "      <td>54.24</td>\n",
       "    </tr>\n",
       "    <tr>\n",
       "      <th>2</th>\n",
       "      <td>3</td>\n",
       "      <td>77.55</td>\n",
       "      <td>56.05</td>\n",
       "      <td>69.38</td>\n",
       "      <td>51.91</td>\n",
       "    </tr>\n",
       "    <tr>\n",
       "      <th>3</th>\n",
       "      <td>4</td>\n",
       "      <td>89.40</td>\n",
       "      <td>59.20</td>\n",
       "      <td>94.55</td>\n",
       "      <td>64.43</td>\n",
       "    </tr>\n",
       "    <tr>\n",
       "      <th>4</th>\n",
       "      <td>5</td>\n",
       "      <td>68.34</td>\n",
       "      <td>44.30</td>\n",
       "      <td>61.68</td>\n",
       "      <td>39.47</td>\n",
       "    </tr>\n",
       "    <tr>\n",
       "      <th>5</th>\n",
       "      <td>6</td>\n",
       "      <td>60.74</td>\n",
       "      <td>28.31</td>\n",
       "      <td>57.39</td>\n",
       "      <td>42.80</td>\n",
       "    </tr>\n",
       "    <tr>\n",
       "      <th>6</th>\n",
       "      <td>7</td>\n",
       "      <td>78.44</td>\n",
       "      <td>50.08</td>\n",
       "      <td>58.49</td>\n",
       "      <td>42.81</td>\n",
       "    </tr>\n",
       "    <tr>\n",
       "      <th>7</th>\n",
       "      <td>8</td>\n",
       "      <td>73.61</td>\n",
       "      <td>46.27</td>\n",
       "      <td>66.09</td>\n",
       "      <td>44.96</td>\n",
       "    </tr>\n",
       "    <tr>\n",
       "      <th>8</th>\n",
       "      <td>9</td>\n",
       "      <td>74.21</td>\n",
       "      <td>48.58</td>\n",
       "      <td>63.81</td>\n",
       "      <td>48.89</td>\n",
       "    </tr>\n",
       "    <tr>\n",
       "      <th>9</th>\n",
       "      <td>10</td>\n",
       "      <td>68.90</td>\n",
       "      <td>46.56</td>\n",
       "      <td>94.56</td>\n",
       "      <td>66.58</td>\n",
       "    </tr>\n",
       "  </tbody>\n",
       "</table>\n",
       "</div>"
      ],
      "text/plain": [
       "   Student  math_mid  math_fin  eng_mid  eng_fin\n",
       "0        1     50.91     36.35    70.99    48.71\n",
       "1        2     74.70     46.67    83.24    54.24\n",
       "2        3     77.55     56.05    69.38    51.91\n",
       "3        4     89.40     59.20    94.55    64.43\n",
       "4        5     68.34     44.30    61.68    39.47\n",
       "5        6     60.74     28.31    57.39    42.80\n",
       "6        7     78.44     50.08    58.49    42.81\n",
       "7        8     73.61     46.27    66.09    44.96\n",
       "8        9     74.21     48.58    63.81    48.89\n",
       "9       10     68.90     46.56    94.56    66.58"
      ]
     },
     "metadata": {},
     "output_type": "display_data"
    }
   ],
   "source": [
    "df = pd.DataFrame({'Student' : Students, 'math_mid' : math_mid,\n",
    "                   'math_fin' : math_fin, 'eng_mid' : eng_mid, 'eng_fin' : eng_fin})\n",
    "display(df)"
   ]
  },
  {
   "cell_type": "markdown",
   "metadata": {},
   "source": [
    "make row labels as STAT01 to STAT10"
   ]
  },
  {
   "cell_type": "code",
   "execution_count": 23,
   "metadata": {},
   "outputs": [
    {
     "data": {
      "text/html": [
       "<div>\n",
       "<style scoped>\n",
       "    .dataframe tbody tr th:only-of-type {\n",
       "        vertical-align: middle;\n",
       "    }\n",
       "\n",
       "    .dataframe tbody tr th {\n",
       "        vertical-align: top;\n",
       "    }\n",
       "\n",
       "    .dataframe thead th {\n",
       "        text-align: right;\n",
       "    }\n",
       "</style>\n",
       "<table border=\"1\" class=\"dataframe\">\n",
       "  <thead>\n",
       "    <tr style=\"text-align: right;\">\n",
       "      <th></th>\n",
       "      <th>Student</th>\n",
       "      <th>math_mid</th>\n",
       "      <th>math_fin</th>\n",
       "      <th>eng_mid</th>\n",
       "      <th>eng_fin</th>\n",
       "    </tr>\n",
       "  </thead>\n",
       "  <tbody>\n",
       "    <tr>\n",
       "      <th>STAT01</th>\n",
       "      <td>1</td>\n",
       "      <td>50.91</td>\n",
       "      <td>36.35</td>\n",
       "      <td>70.99</td>\n",
       "      <td>48.71</td>\n",
       "    </tr>\n",
       "    <tr>\n",
       "      <th>STAT02</th>\n",
       "      <td>2</td>\n",
       "      <td>74.70</td>\n",
       "      <td>46.67</td>\n",
       "      <td>83.24</td>\n",
       "      <td>54.24</td>\n",
       "    </tr>\n",
       "    <tr>\n",
       "      <th>STAT03</th>\n",
       "      <td>3</td>\n",
       "      <td>77.55</td>\n",
       "      <td>56.05</td>\n",
       "      <td>69.38</td>\n",
       "      <td>51.91</td>\n",
       "    </tr>\n",
       "    <tr>\n",
       "      <th>STAT04</th>\n",
       "      <td>4</td>\n",
       "      <td>89.40</td>\n",
       "      <td>59.20</td>\n",
       "      <td>94.55</td>\n",
       "      <td>64.43</td>\n",
       "    </tr>\n",
       "    <tr>\n",
       "      <th>STAT05</th>\n",
       "      <td>5</td>\n",
       "      <td>68.34</td>\n",
       "      <td>44.30</td>\n",
       "      <td>61.68</td>\n",
       "      <td>39.47</td>\n",
       "    </tr>\n",
       "  </tbody>\n",
       "</table>\n",
       "</div>"
      ],
      "text/plain": [
       "        Student  math_mid  math_fin  eng_mid  eng_fin\n",
       "STAT01        1     50.91     36.35    70.99    48.71\n",
       "STAT02        2     74.70     46.67    83.24    54.24\n",
       "STAT03        3     77.55     56.05    69.38    51.91\n",
       "STAT04        4     89.40     59.20    94.55    64.43\n",
       "STAT05        5     68.34     44.30    61.68    39.47"
      ]
     },
     "metadata": {},
     "output_type": "display_data"
    }
   ],
   "source": [
    "row_labels = [\"STAT%.2d\" % i for i in range(1, 21)]\n",
    "df.index = row_labels\n",
    "display(df.head())"
   ]
  },
  {
   "cell_type": "markdown",
   "metadata": {},
   "source": [
    "print eng_fin column of df as Pandas Series.  \n",
    "print math_mid column of df as Pandas DataFrame.  \n",
    "print DataFrame with both math_mid, math_fin columns of cars, in this order."
   ]
  },
  {
   "cell_type": "code",
   "execution_count": 30,
   "metadata": {},
   "outputs": [
    {
     "name": "stdout",
     "output_type": "stream",
     "text": [
      "STAT01    48.71\n",
      "STAT02    54.24\n",
      "STAT03    51.91\n",
      "STAT04    64.43\n",
      "STAT05    39.47\n",
      "Name: eng_fin, dtype: float64\n",
      "        math_mid\n",
      "STAT01     50.91\n",
      "STAT02     74.70\n",
      "STAT03     77.55\n",
      "STAT04     89.40\n",
      "STAT05     68.34\n",
      "        math_mid  math_fin\n",
      "STAT01     50.91     36.35\n",
      "STAT02     74.70     46.67\n",
      "STAT03     77.55     56.05\n",
      "STAT04     89.40     59.20\n",
      "STAT05     68.34     44.30\n",
      "        math_mid  math_fin\n",
      "STAT01     50.91     36.35\n",
      "STAT02     74.70     46.67\n",
      "STAT03     77.55     56.05\n",
      "STAT04     89.40     59.20\n",
      "STAT05     68.34     44.30\n",
      "        math_mid  math_fin\n",
      "STAT01     50.91     36.35\n",
      "STAT02     74.70     46.67\n",
      "STAT03     77.55     56.05\n",
      "STAT04     89.40     59.20\n",
      "STAT05     68.34     44.30\n"
     ]
    }
   ],
   "source": [
    "print(df['eng_fin'].head())\n",
    "print(df[['math_mid']].head())\n",
    "print(df[['math_mid', 'math_fin']].head())\n",
    "print(df.iloc[:5, 1:3])\n",
    "print(df.loc['STAT01':'STAT05', ['math_mid', 'math_fin']])"
   ]
  },
  {
   "cell_type": "markdown",
   "metadata": {},
   "source": [
    "print observation for STAT03.  \n",
    "print english scores for STAT04 and STAT07."
   ]
  },
  {
   "cell_type": "code",
   "execution_count": 37,
   "metadata": {},
   "outputs": [
    {
     "name": "stdout",
     "output_type": "stream",
     "text": [
      "Student      3.00\n",
      "math_mid    77.55\n",
      "math_fin    56.05\n",
      "eng_mid     69.38\n",
      "eng_fin     51.91\n",
      "Name: STAT03, dtype: float64\n",
      "        Student  math_mid  math_fin  eng_mid  eng_fin\n",
      "STAT03        3     77.55     56.05    69.38    51.91\n",
      "        eng_mid  eng_fin\n",
      "STAT04    94.55    64.43\n",
      "STAT07    58.49    42.81\n",
      "        eng_mid  eng_fin\n",
      "STAT04    94.55    64.43\n",
      "STAT07    58.49    42.81\n"
     ]
    }
   ],
   "source": [
    "print(df.iloc[2])\n",
    "print(df.loc[['STAT03']])\n",
    "print(df.iloc[[3, 6], 3:])\n",
    "print(df.loc[['STAT04', 'STAT07'], ['eng_mid', 'eng_fin']])"
   ]
  },
  {
   "cell_type": "markdown",
   "metadata": {},
   "source": [
    "using lambda functions, print out math_mid in (60, 70)"
   ]
  },
  {
   "cell_type": "code",
   "execution_count": 49,
   "metadata": {},
   "outputs": [
    {
     "name": "stdout",
     "output_type": "stream",
     "text": [
      "[68.34, 60.74, 68.9]\n"
     ]
    }
   ],
   "source": [
    "result = filter(lambda math_mid: math_mid > 60 and math_mid < 70, list(df['math_mid']))\n",
    "result_list = list(result)\n",
    "print(result_list)"
   ]
  },
  {
   "cell_type": "markdown",
   "metadata": {},
   "source": [
    "who get english final score between 40 and 50?"
   ]
  },
  {
   "cell_type": "code",
   "execution_count": 58,
   "metadata": {},
   "outputs": [
    {
     "name": "stdout",
     "output_type": "stream",
     "text": [
      "Index(['STAT01', 'STAT06', 'STAT07', 'STAT08', 'STAT09'], dtype='object')\n"
     ]
    }
   ],
   "source": [
    "index = map(lambda eng_fin : eng_fin > 40 and eng_fin < 50, list(df['eng_fin']))\n",
    "index_list = list(index)\n",
    "print(df[index_list].index)"
   ]
  },
  {
   "cell_type": "markdown",
   "metadata": {},
   "source": [
    "scatter plot x : math midterm score, y : math final score  \n",
    "title : Math score comparison"
   ]
  },
  {
   "cell_type": "code",
   "execution_count": 60,
   "metadata": {},
   "outputs": [
    {
     "data": {
      "image/png": "[encoded data removed]",
      "text/plain": [
       "<Figure size 432x288 with 1 Axes>"
      ]
     },
     "metadata": {
      "needs_background": "light"
     },
     "output_type": "display_data"
    }
   ],
   "source": [
    "import matplotlib.pyplot as plt\n",
    "plt.scatter(df['math_mid'], df['math_fin'])\n",
    "plt.xlabel(\"Midterm math score\")\n",
    "plt.ylabel(\"Final math score\")\n",
    "plt.title(\"Math score Comparison\")\n",
    "plt.show()"
   ]
  },
  {
   "cell_type": "markdown",
   "metadata": {},
   "source": [
    "add new columns of total scores of math and english"
   ]
  },
  {
   "cell_type": "code",
   "execution_count": 62,
   "metadata": {},
   "outputs": [
    {
     "data": {
      "text/html": [
       "<div>\n",
       "<style scoped>\n",
       "    .dataframe tbody tr th:only-of-type {\n",
       "        vertical-align: middle;\n",
       "    }\n",
       "\n",
       "    .dataframe tbody tr th {\n",
       "        vertical-align: top;\n",
       "    }\n",
       "\n",
       "    .dataframe thead th {\n",
       "        text-align: right;\n",
       "    }\n",
       "</style>\n",
       "<table border=\"1\" class=\"dataframe\">\n",
       "  <thead>\n",
       "    <tr style=\"text-align: right;\">\n",
       "      <th></th>\n",
       "      <th>Student</th>\n",
       "      <th>math_mid</th>\n",
       "      <th>math_fin</th>\n",
       "      <th>eng_mid</th>\n",
       "      <th>eng_fin</th>\n",
       "      <th>math_total</th>\n",
       "      <th>eng_total</th>\n",
       "    </tr>\n",
       "  </thead>\n",
       "  <tbody>\n",
       "    <tr>\n",
       "      <th>STAT01</th>\n",
       "      <td>1</td>\n",
       "      <td>50.91</td>\n",
       "      <td>36.35</td>\n",
       "      <td>70.99</td>\n",
       "      <td>48.71</td>\n",
       "      <td>87.26</td>\n",
       "      <td>119.70</td>\n",
       "    </tr>\n",
       "    <tr>\n",
       "      <th>STAT02</th>\n",
       "      <td>2</td>\n",
       "      <td>74.70</td>\n",
       "      <td>46.67</td>\n",
       "      <td>83.24</td>\n",
       "      <td>54.24</td>\n",
       "      <td>121.37</td>\n",
       "      <td>137.48</td>\n",
       "    </tr>\n",
       "    <tr>\n",
       "      <th>STAT03</th>\n",
       "      <td>3</td>\n",
       "      <td>77.55</td>\n",
       "      <td>56.05</td>\n",
       "      <td>69.38</td>\n",
       "      <td>51.91</td>\n",
       "      <td>133.60</td>\n",
       "      <td>121.29</td>\n",
       "    </tr>\n",
       "    <tr>\n",
       "      <th>STAT04</th>\n",
       "      <td>4</td>\n",
       "      <td>89.40</td>\n",
       "      <td>59.20</td>\n",
       "      <td>94.55</td>\n",
       "      <td>64.43</td>\n",
       "      <td>148.60</td>\n",
       "      <td>158.98</td>\n",
       "    </tr>\n",
       "    <tr>\n",
       "      <th>STAT05</th>\n",
       "      <td>5</td>\n",
       "      <td>68.34</td>\n",
       "      <td>44.30</td>\n",
       "      <td>61.68</td>\n",
       "      <td>39.47</td>\n",
       "      <td>112.64</td>\n",
       "      <td>101.15</td>\n",
       "    </tr>\n",
       "  </tbody>\n",
       "</table>\n",
       "</div>"
      ],
      "text/plain": [
       "        Student  math_mid  math_fin  eng_mid  eng_fin  math_total  eng_total\n",
       "STAT01        1     50.91     36.35    70.99    48.71       87.26     119.70\n",
       "STAT02        2     74.70     46.67    83.24    54.24      121.37     137.48\n",
       "STAT03        3     77.55     56.05    69.38    51.91      133.60     121.29\n",
       "STAT04        4     89.40     59.20    94.55    64.43      148.60     158.98\n",
       "STAT05        5     68.34     44.30    61.68    39.47      112.64     101.15"
      ]
     },
     "metadata": {},
     "output_type": "display_data"
    }
   ],
   "source": [
    "df['math_total'] = df['math_mid']+df['math_fin']\n",
    "df['eng_total'] = df['eng_mid']+df['eng_fin']\n",
    "display(df.head())"
   ]
  },
  {
   "cell_type": "markdown",
   "metadata": {},
   "source": [
    "scatter plot x : math total score, y : english total score  \n",
    "title : math total score vs. english total score"
   ]
  },
  {
   "cell_type": "code",
   "execution_count": 64,
   "metadata": {},
   "outputs": [
    {
     "data": {
      "image/png": "[encoded data removed]",
      "text/plain": [
       "<Figure size 432x288 with 1 Axes>"
      ]
     },
     "metadata": {
      "needs_background": "light"
     },
     "output_type": "display_data"
    }
   ],
   "source": [
    "import matplotlib.pyplot as plt\n",
    "plt.scatter(df['math_total'], df['eng_total'])\n",
    "plt.xlabel(\"Total math score\")\n",
    "plt.ylabel(\"Total english score\")\n",
    "plt.title(\"math total score vs. english total score\")\n",
    "plt.show()"
   ]
  },
  {
   "cell_type": "markdown",
   "metadata": {},
   "source": [
    "correlation matrix"
   ]
  },
  {
   "cell_type": "code",
   "execution_count": 65,
   "metadata": {},
   "outputs": [
    {
     "data": {
      "text/html": [
       "<div>\n",
       "<style scoped>\n",
       "    .dataframe tbody tr th:only-of-type {\n",
       "        vertical-align: middle;\n",
       "    }\n",
       "\n",
       "    .dataframe tbody tr th {\n",
       "        vertical-align: top;\n",
       "    }\n",
       "\n",
       "    .dataframe thead th {\n",
       "        text-align: right;\n",
       "    }\n",
       "</style>\n",
       "<table border=\"1\" class=\"dataframe\">\n",
       "  <thead>\n",
       "    <tr style=\"text-align: right;\">\n",
       "      <th></th>\n",
       "      <th>Student</th>\n",
       "      <th>math_mid</th>\n",
       "      <th>math_fin</th>\n",
       "      <th>eng_mid</th>\n",
       "      <th>eng_fin</th>\n",
       "      <th>math_total</th>\n",
       "      <th>eng_total</th>\n",
       "    </tr>\n",
       "  </thead>\n",
       "  <tbody>\n",
       "    <tr>\n",
       "      <th>Student</th>\n",
       "      <td>1.000000</td>\n",
       "      <td>0.172560</td>\n",
       "      <td>0.026920</td>\n",
       "      <td>-0.069358</td>\n",
       "      <td>0.054650</td>\n",
       "      <td>0.109237</td>\n",
       "      <td>-0.020663</td>\n",
       "    </tr>\n",
       "    <tr>\n",
       "      <th>math_mid</th>\n",
       "      <td>0.172560</td>\n",
       "      <td>1.000000</td>\n",
       "      <td>0.872187</td>\n",
       "      <td>0.340347</td>\n",
       "      <td>0.365900</td>\n",
       "      <td>0.972714</td>\n",
       "      <td>0.354201</td>\n",
       "    </tr>\n",
       "    <tr>\n",
       "      <th>math_fin</th>\n",
       "      <td>0.026920</td>\n",
       "      <td>0.872187</td>\n",
       "      <td>1.000000</td>\n",
       "      <td>0.447893</td>\n",
       "      <td>0.474810</td>\n",
       "      <td>0.961880</td>\n",
       "      <td>0.463449</td>\n",
       "    </tr>\n",
       "    <tr>\n",
       "      <th>eng_mid</th>\n",
       "      <td>-0.069358</td>\n",
       "      <td>0.340347</td>\n",
       "      <td>0.447893</td>\n",
       "      <td>1.000000</td>\n",
       "      <td>0.955628</td>\n",
       "      <td>0.402700</td>\n",
       "      <td>0.993079</td>\n",
       "    </tr>\n",
       "    <tr>\n",
       "      <th>eng_fin</th>\n",
       "      <td>0.054650</td>\n",
       "      <td>0.365900</td>\n",
       "      <td>0.474810</td>\n",
       "      <td>0.955628</td>\n",
       "      <td>1.000000</td>\n",
       "      <td>0.429751</td>\n",
       "      <td>0.983612</td>\n",
       "    </tr>\n",
       "    <tr>\n",
       "      <th>math_total</th>\n",
       "      <td>0.109237</td>\n",
       "      <td>0.972714</td>\n",
       "      <td>0.961880</td>\n",
       "      <td>0.402700</td>\n",
       "      <td>0.429751</td>\n",
       "      <td>1.000000</td>\n",
       "      <td>0.417822</td>\n",
       "    </tr>\n",
       "    <tr>\n",
       "      <th>eng_total</th>\n",
       "      <td>-0.020663</td>\n",
       "      <td>0.354201</td>\n",
       "      <td>0.463449</td>\n",
       "      <td>0.993079</td>\n",
       "      <td>0.983612</td>\n",
       "      <td>0.417822</td>\n",
       "      <td>1.000000</td>\n",
       "    </tr>\n",
       "  </tbody>\n",
       "</table>\n",
       "</div>"
      ],
      "text/plain": [
       "             Student  math_mid  math_fin   eng_mid   eng_fin  math_total  \\\n",
       "Student     1.000000  0.172560  0.026920 -0.069358  0.054650    0.109237   \n",
       "math_mid    0.172560  1.000000  0.872187  0.340347  0.365900    0.972714   \n",
       "math_fin    0.026920  0.872187  1.000000  0.447893  0.474810    0.961880   \n",
       "eng_mid    -0.069358  0.340347  0.447893  1.000000  0.955628    0.402700   \n",
       "eng_fin     0.054650  0.365900  0.474810  0.955628  1.000000    0.429751   \n",
       "math_total  0.109237  0.972714  0.961880  0.402700  0.429751    1.000000   \n",
       "eng_total  -0.020663  0.354201  0.463449  0.993079  0.983612    0.417822   \n",
       "\n",
       "            eng_total  \n",
       "Student     -0.020663  \n",
       "math_mid     0.354201  \n",
       "math_fin     0.463449  \n",
       "eng_mid      0.993079  \n",
       "eng_fin      0.983612  \n",
       "math_total   0.417822  \n",
       "eng_total    1.000000  "
      ]
     },
     "execution_count": 65,
     "metadata": {},
     "output_type": "execute_result"
    }
   ],
   "source": [
    "df.corr()"
   ]
  },
  {
   "cell_type": "code",
   "execution_count": 66,
   "metadata": {},
   "outputs": [
    {
     "data": {
      "text/plain": [
       "<matplotlib.axes._subplots.AxesSubplot at 0x1ac966fc860>"
      ]
     },
     "execution_count": 66,
     "metadata": {},
     "output_type": "execute_result"
    },
    {
     "data": {
      "image/png": "[encoded data removed]",
      "text/plain": [
       "<Figure size 432x288 with 2 Axes>"
      ]
     },
     "metadata": {
      "needs_background": "light"
     },
     "output_type": "display_data"
    }
   ],
   "source": [
    "import seaborn as sns\n",
    "sns.heatmap(data = df.corr())"
   ]
  }
 ],
 "metadata": {
  "kernelspec": {
   "display_name": "Python 3",
   "language": "python",
   "name": "python3"
  },
  "language_info": {
   "codemirror_mode": {
    "name": "ipython",
    "version": 3
   },
   "file_extension": ".py",
   "mimetype": "text/x-python",
   "name": "python",
   "nbconvert_exporter": "python",
   "pygments_lexer": "ipython3",
   "version": "3.6.5"
  }
 },
 "nbformat": 4,
 "nbformat_minor": 2
}
