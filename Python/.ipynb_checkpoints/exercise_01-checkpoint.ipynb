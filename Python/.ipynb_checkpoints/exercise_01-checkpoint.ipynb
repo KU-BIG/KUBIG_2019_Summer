{
 "cells": [
  {
   "cell_type": "markdown",
   "metadata": {},
   "source": [
    "## 1. Pandas training.\n",
    "#### Setting\n",
    "* import pandas as pd\n",
    "* import numpy as np\n",
    "* set seed number as 1."
   ]
  },
  {
   "cell_type": "code",
   "execution_count": null,
   "metadata": {},
   "outputs": [],
   "source": []
  },
  {
   "cell_type": "markdown",
   "metadata": {},
   "source": [
    "#### Variables\n",
    "Let Normal distribution notation as N(mu, sd).  \n",
    "\n",
    "* Students : list of 1 to 20\n",
    "* math_mid : midterm math score. / math_mid ~ N(70, 15)  \n",
    "* math_fin : final math score / $math_{fin} = math_{mid} * 0.6 + \\epsilon$, $\\epsilon \\sim N(0, 5)$ \n",
    "* eng_mid : midterm english score. / eng_mid ~ N(75, 10)  \n",
    "* math_fin : final math score / $eng_{fin} = eng_{mid} * 0.7 + \\epsilon$, $\\epsilon \\sim N(0, 3)$ \n",
    "\n",
    "Please round up to second decimal place\n",
    "\n",
    "* _Hint : np.round(value, decimal = n), np.random.randn()_"
   ]
  },
  {
   "cell_type": "code",
   "execution_count": null,
   "metadata": {},
   "outputs": [],
   "source": []
  },
  {
   "cell_type": "markdown",
   "metadata": {},
   "source": [
    "#### Pandas DataFrame\n",
    "* Make pandas DataFrame 'df' by using above 5 variables.\n",
    "* Display df.\n",
    "\n",
    "* _Hint : Using Dictionary_"
   ]
  },
  {
   "cell_type": "code",
   "execution_count": null,
   "metadata": {
    "scrolled": true
   },
   "outputs": [],
   "source": []
  },
  {
   "cell_type": "markdown",
   "metadata": {},
   "source": [
    "* Make row labels. (STAT01 to STAT20)\n",
    "\n",
    "* _Hint : Using String Formatting_\n",
    "*If you do not know about formatting, this site would help you*  \n",
    "https://wikidocs.net/13#_15 (문자열 포매팅)"
   ]
  },
  {
   "cell_type": "code",
   "execution_count": 1,
   "metadata": {},
   "outputs": [
    {
     "name": "stdout",
     "output_type": "stream",
     "text": [
      "HELLO, 0012?\n"
     ]
    }
   ],
   "source": [
    "# Example\n",
    "print(\"HELLO, %.4d?\" % 12)"
   ]
  },
  {
   "cell_type": "code",
   "execution_count": 2,
   "metadata": {},
   "outputs": [],
   "source": [
    "row_labels =\n",
    "\n",
    "display(df.head())"
   ]
  },
  {
   "cell_type": "markdown",
   "metadata": {},
   "source": [
    "#### Pandas Indexing\n",
    "* Print eng_fin column of df as Pandas Series with head() method.  \n",
    "* Print math_mid column of df as Pandas DataFrame with head() method.\n",
    "* Print top 5 observation of math_mid and math_fin of df as PanDas Data Frame, in this order.\n",
    "    - Not using iloc, loc. but using head() method.\n",
    "    - Using iloc, but not using head() method.\n",
    "    - Using loc, but not using head() method."
   ]
  },
  {
   "cell_type": "code",
   "execution_count": null,
   "metadata": {},
   "outputs": [],
   "source": []
  },
  {
   "cell_type": "markdown",
   "metadata": {},
   "source": [
    "* Print observation for STAT03 by using iloc and loc respectively.  \n",
    "* Print english scores for STAT04 and STAT07 by using iloc and loc respectively."
   ]
  },
  {
   "cell_type": "code",
   "execution_count": null,
   "metadata": {},
   "outputs": [],
   "source": []
  },
  {
   "cell_type": "markdown",
   "metadata": {},
   "source": [
    "#### Lambda functions\n",
    "* Print out math_mid between 60 and 70, by using lambda function."
   ]
  },
  {
   "cell_type": "code",
   "execution_count": 3,
   "metadata": {},
   "outputs": [],
   "source": [
    "result = "
   ]
  },
  {
   "cell_type": "markdown",
   "metadata": {},
   "source": [
    "* Who get english final score between 40 and 50, by using lambda function?  \n",
    "    - please get row_index"
   ]
  },
  {
   "cell_type": "code",
   "execution_count": null,
   "metadata": {},
   "outputs": [],
   "source": []
  },
  {
   "cell_type": "markdown",
   "metadata": {},
   "source": [
    "* Who get Highest total score?\n",
    "    - Using lambda score\n",
    "    - Caculate total score as math_mid + math_fin + eng_mid + eng_fin\n",
    "    - Answer like this! : A gets highest total score, 100.\n",
    "\n",
    "* _HINT : Check pandas.DataFrame.drop(), pandas.DataFrame.apply() and pandas.Series.idxmax()_  \n",
    "    - Should change something in print statement"
   ]
  },
  {
   "cell_type": "code",
   "execution_count": 4,
   "metadata": {},
   "outputs": [],
   "source": [
    "print(\"%d gets highest total score, %.2p.\" %)"
   ]
  },
  {
   "cell_type": "markdown",
   "metadata": {},
   "source": [
    "#### Ploting\n",
    "Import matplotlib.pyplot as plt  \n",
    "Make **scatter plot** of math_mid as x-axis and math_fin as y-axis\n",
    "* labels - x : Midterm math score, y : Final math score\n",
    "* title : Math score Comparison"
   ]
  },
  {
   "cell_type": "code",
   "execution_count": null,
   "metadata": {},
   "outputs": [],
   "source": []
  },
  {
   "cell_type": "markdown",
   "metadata": {},
   "source": [
    "* Add new columns of total scores of math and english.\n",
    "* Display the DataFrame with head()."
   ]
  },
  {
   "cell_type": "code",
   "execution_count": null,
   "metadata": {},
   "outputs": [],
   "source": []
  },
  {
   "cell_type": "markdown",
   "metadata": {},
   "source": [
    "Make **scatter plot** of math_total as x-axis and eng_total as y-axis\n",
    "* labels - x : Total math score, y : Total english score\n",
    "* title : Math total score vs. English total score"
   ]
  },
  {
   "cell_type": "code",
   "execution_count": null,
   "metadata": {},
   "outputs": [],
   "source": []
  },
  {
   "cell_type": "markdown",
   "metadata": {},
   "source": [
    "* Display correlation matrix.\n",
    "    - _Hint: using pandas.DataFrame.corr()_"
   ]
  },
  {
   "cell_type": "code",
   "execution_count": null,
   "metadata": {},
   "outputs": [],
   "source": []
  },
  {
   "cell_type": "markdown",
   "metadata": {},
   "source": [
    "Import seaborn as sns.\n",
    "* Display heatmap.\n",
    "    - _Hint: using sns.heatmap()_"
   ]
  },
  {
   "cell_type": "code",
   "execution_count": null,
   "metadata": {},
   "outputs": [],
   "source": []
  },
  {
   "cell_type": "markdown",
   "metadata": {},
   "source": [
    "**END**"
   ]
  }
 ],
 "metadata": {
  "kernelspec": {
   "display_name": "Python 3",
   "language": "python",
   "name": "python3"
  },
  "language_info": {
   "codemirror_mode": {
    "name": "ipython",
    "version": 3
   },
   "file_extension": ".py",
   "mimetype": "text/x-python",
   "name": "python",
   "nbconvert_exporter": "python",
   "pygments_lexer": "ipython3",
   "version": "3.6.5"
  }
 },
 "nbformat": 4,
 "nbformat_minor": 2
}
