{
 "cells": [
  {
   "cell_type": "markdown",
   "metadata": {},
   "source": [
    "## 1. Pandas training.\n",
    "#### Setting\n",
    "* import pandas as pd\n",
    "* import numpy as np\n",
    "* set seed number as 1."
   ]
  },
  {
   "cell_type": "code",
   "execution_count": null,
   "metadata": {},
   "outputs": [],
   "source": []
  },
  {
   "cell_type": "markdown",
   "metadata": {},
   "source": [
    "#### Variables\n",
    "Let Normal distribution notation as N(mu, sd).  \n",
    "\n",
    "* Students : list of 1 to 20\n",
    "* math_mid : midterm math score. / math_mid ~ N(70, 15)  \n",
    "* math_fin : final math score. / $math\\_fin = math\\_mid * 0.6 + \\epsilon$, $\\epsilon \\sim N(0, 5)$ \n",
    "* eng_mid : midterm english score. / eng_mid ~ N(75, 10)  \n",
    "* math_fin : final math score. / $eng\\_fin = eng\\_mid * 0.7 + \\epsilon$, $\\epsilon \\sim N(0, 3)$ \n",
    "\n",
    "Please round up to second decimal place\n",
    "\n",
    "* _Hint : np.round(value, decimal = n), np.random.randn()_"
   ]
  },
  {
   "cell_type": "code",
   "execution_count": null,
   "metadata": {},
   "outputs": [],
   "source": [
    "Students = \n",
    "math_mid = \n",
    "math_fin = \n",
    "eng_mid = \n",
    "eng_fin = "
   ]
  },
  {
   "cell_type": "markdown",
   "metadata": {},
   "source": [
    "#### Pandas DataFrame\n",
    "* Make pandas DataFrame by using above 5 variables.\n",
    "* Display the DataFrame.\n",
    "\n",
    "* _Hint : Using Dictionary_"
   ]
  },
  {
   "cell_type": "code",
   "execution_count": null,
   "metadata": {},
   "outputs": [],
   "source": [
    "df = \n",
    "display(df)"
   ]
  },
  {
   "cell_type": "markdown",
   "metadata": {},
   "source": [
    "* Make row labels. (STAT01 to STAT20)\n",
    "\n",
    "* _Hint : Using String Formatting_\n",
    "*If you do not know about formatting, this site would help you*  \n",
    "https://wikidocs.net/13#_15 (문자열 포매팅)"
   ]
  },
  {
   "cell_type": "code",
   "execution_count": 1,
   "metadata": {},
   "outputs": [
    {
     "name": "stdout",
     "output_type": "stream",
     "text": [
      "HELLO, 0012?\n"
     ]
    }
   ],
   "source": [
    "# Example\n",
    "print(\"HELLO, %.4d?\" % 12)"
   ]
  },
  {
   "cell_type": "code",
   "execution_count": null,
   "metadata": {},
   "outputs": [],
   "source": [
    "row_labels = \n",
    "\n",
    "display(df.head())"
   ]
  },
  {
   "cell_type": "markdown",
   "metadata": {},
   "source": [
    "#### Pandas Indexing\n",
    "* Print eng_fin column of df as Pandas Series with head() method.  \n",
    "* Print math_mid column of df as Pandas DataFrame with head() method.\n",
    "* Print top 5 observation of math_mid and math_fin of df as PanDas Data Frame, in this order.\n",
    "    - Not using iloc, loc. but using head() method.\n",
    "    - Using iloc, but not using head() method.\n",
    "    - Using loc, but not using head() method."
   ]
  },
  {
   "cell_type": "code",
   "execution_count": null,
   "metadata": {},
   "outputs": [],
   "source": [
    "print()\n",
    "print()\n",
    "print()\n",
    "print()\n",
    "print()"
   ]
  },
  {
   "cell_type": "markdown",
   "metadata": {},
   "source": [
    "* Print observation for STAT03 by using iloc and loc respectively.  \n",
    "* Print english scores for STAT04 and STAT07 by using iloc and loc respectively."
   ]
  },
  {
   "cell_type": "code",
   "execution_count": null,
   "metadata": {},
   "outputs": [],
   "source": [
    "print()\n",
    "print()\n",
    "print()\n",
    "print()"
   ]
  },
  {
   "cell_type": "markdown",
   "metadata": {},
   "source": [
    "#### Lambda functions\n",
    "* Print out math_mid between 60 and 70, by using lambda function."
   ]
  },
  {
   "cell_type": "code",
   "execution_count": null,
   "metadata": {},
   "outputs": [],
   "source": []
  },
  {
   "cell_type": "markdown",
   "metadata": {},
   "source": [
    "* Who get english final score between 40 and 50, by using lambda function?  \n",
    "    - please get row_index"
   ]
  },
  {
   "cell_type": "code",
   "execution_count": null,
   "metadata": {},
   "outputs": [],
   "source": []
  },
  {
   "cell_type": "markdown",
   "metadata": {},
   "source": [
    "* Who get Highest total score?\n",
    "    - Using lambda score\n",
    "    - Caculate total score as math_mid + math_fin + eng_mid + eng_fin\n",
    "    - Answer like this! : A gets highest total score, 100.\n",
    "\n",
    "*_HINT : Check pandas.DataFrame.drop(), pandas.DataFrame.apply() and pandas.Series.idxmax()_"
   ]
  },
  {
   "cell_type": "code",
   "execution_count": null,
   "metadata": {},
   "outputs": [],
   "source": []
  },
  {
   "cell_type": "markdown",
   "metadata": {},
   "source": [
    "#### Ploting\n",
    "Import matplotlib.pyplot as plt  \n",
    "Make **scatter plot** of math_mid as x-axis and math_fin as y-axis\n",
    "* labels - x : Midterm math score, y : Final math score\n",
    "* title : Math score Comparison"
   ]
  },
  {
   "cell_type": "code",
   "execution_count": null,
   "metadata": {},
   "outputs": [],
   "source": []
  },
  {
   "cell_type": "markdown",
   "metadata": {},
   "source": [
    "* Add new columns of total scores of math and english. \n",
    "    - math_total, eng_total\n",
    "* Display the DataFrame with head()."
   ]
  },
  {
   "cell_type": "code",
   "execution_count": null,
   "metadata": {},
   "outputs": [],
   "source": []
  },
  {
   "cell_type": "markdown",
   "metadata": {},
   "source": [
    "Make **scatter plot** of math_total as x-axis and eng_total as y-axis\n",
    "* labels - x : Total math score, y : Total english score\n",
    "* title : Math total score vs. English total score"
   ]
  },
  {
   "cell_type": "code",
   "execution_count": null,
   "metadata": {},
   "outputs": [],
   "source": []
  },
  {
   "cell_type": "markdown",
   "metadata": {},
   "source": [
    "* Display correlation matrix.\n",
    "    - _Hint: using pandas.DataFrame.corr()_"
   ]
  },
  {
   "cell_type": "code",
   "execution_count": null,
   "metadata": {},
   "outputs": [],
   "source": []
  },
  {
   "cell_type": "markdown",
   "metadata": {},
   "source": [
    "Import seaborn as sns.\n",
    "* Display heatmap.\n",
    "    - _Hint: using sns.heatmap()_"
   ]
  },
  {
   "cell_type": "code",
   "execution_count": null,
   "metadata": {},
   "outputs": [],
   "source": []
  },
  {
   "cell_type": "markdown",
   "metadata": {},
   "source": [
    "**END**"
   ]
  },
  {
   "cell_type": "markdown",
   "metadata": {},
   "source": [
    "### 2. Marcov Chain training\n",
    "이 문제는 STAT323 통계계산방법 2018년도 1학기 과제 중 일부입니다.\n",
    "\n",
    "어느 연못에는 1, 2, 3, 4, 5, 6의 번호를 갖는 6개의 수련 잎(lily pad)이 있고, 특정한 확률로 6개의 수련 잎을 옮겨다니는 개구리 한 마리가 있다고 가정하자.  \n",
    "구체적으로, 이 개구리는 다음과 같은 방식으로 옮겨다닌다.\n",
    "\n",
    "\n",
    "* 수련 잎 3에서는 1/4의 확률로 2, 4, 5, 6 중의 한 잎으로 이동한다.\n",
    "* 수련 잎 6에서는 1/2의 확률로 3 또는 4의 잎으로 이동한다.\n",
    "* 수련 잎 1에서는 언제나 수련 잎 2로 이동한다.\n",
    "* 수련 잎 2에서는 1/4의 확률로 1, 3, 4, 5 중의 한 잎으로 이동한다.\n",
    "* 수련 잎 4에서는 1/4의 확률로 2, 3, 5, 6 중의 한 잎으로 이동한다.\n",
    "* 수련 잎 5에서는 1/3의 확률로 2, 3, 4 중의 한 잎으로 이동한다.\n",
    "\n",
    "이러한 개구리의 이동방식은 마코프 체인을 따른다.\n",
    "* 전이확률 $p_{ij}$와 전이 행렬 P를 계산하고, 1번 잎에 앉아있던 개구리가 100번 이동 후에 각 수련 잎에 앉게 될 확률을 계산하시오."
   ]
  },
  {
   "cell_type": "markdown",
   "metadata": {},
   "source": [
    "#### Trasition matrix P\n",
    "* 전이 행렬 P를 numpy.array로 만드세요.  \n",
    "    - P : 6 x 6 matrix\n",
    "\n",
    "$$P=\\begin{pmatrix}\n",
    "&\\mathbf1&\\mathbf2&\\mathbf3&\\mathbf4&\\mathbf5&\\mathbf6\\\\\n",
    "\\mathbf1&0&1&0&0&0&0\\\\\n",
    "\\mathbf2&0&0&1/4&1/4&1/4&1/4\\\\\n",
    "\\mathbf3&0&1/4&0&1/4&1/4&1/4\\\\\n",
    "\\mathbf4&0&1/4&1/4&0&1/4&1/4\\\\\n",
    "\\mathbf5&0&1/3&1/3&1/3&0&0\\\\\n",
    "\\mathbf6&0&0&1/2&1/2&0&0\\\\\n",
    "\\end{pmatrix}$$"
   ]
  },
  {
   "cell_type": "markdown",
   "metadata": {},
   "source": [
    "위의 전이 행렬을 간단하게 설명하자면,  \n",
    "$P_{1,2}$가 1인 것을 보아 1번 잎에 앉아있던 개구리가 2번으로 건너갈 확률은 1이다.  \n",
    "$P_{3,2}$가 1/4인 것을 보아 3번 잎에 앉아있던 개구리가 2번으로 건너갈 확률은 1/4이다.  \n",
    "즉 m번 행의 n번째 열의 요소는 m번째 상황(state)에서 n번째 상황(state)로 진행될 확률이다.\n",
    "\n",
    "위의 전이 행렬에서 1번 행 요소의 합은 1이다. 다른 행도 이와 마찬가지다.  \n",
    "즉 m번 행은 m번째 상황에서 다음 상황으로 건너가게 될 확률분포를 의미한다."
   ]
  },
  {
   "cell_type": "code",
   "execution_count": null,
   "metadata": {},
   "outputs": [],
   "source": [
    "import numpy as np\n",
    "P = \n",
    "print(P)"
   ]
  },
  {
   "cell_type": "markdown",
   "metadata": {},
   "source": [
    "* 개구리가 100번 동안 어떻게 이동하는지 list로 표현하세요\n",
    "    - _HINT: numpy.random.choice_"
   ]
  },
  {
   "cell_type": "code",
   "execution_count": null,
   "metadata": {},
   "outputs": [],
   "source": [
    "# More Hints\n",
    "print(list(P[0]))\n",
    "print(list(range(1,7)))\n",
    "print(int(np.random.choice(list(range(1, 7)), 1, p = list(P[0]))))"
   ]
  },
  {
   "cell_type": "code",
   "execution_count": null,
   "metadata": {},
   "outputs": [],
   "source": [
    "state = [1]\n",
    "for iter in range(100):\n",
    "    \n",
    "print([len(state), state])"
   ]
  },
  {
   "cell_type": "markdown",
   "metadata": {},
   "source": [
    "#### Make matrix power function\n",
    "* Sqaure matrix의 k제곱 함수 powermat(matrix, k)를 만들어보자.\n",
    "    - matrix가 sqaure matrix가 아닐 때 ValueError를 일으키세요.\n",
    "    - k가 int형이 아닐 때 TypeError를 일으키세요.\n",
    "    - k가 음수일 때 ValueError를 일으키세요."
   ]
  },
  {
   "cell_type": "code",
   "execution_count": null,
   "metadata": {},
   "outputs": [],
   "source": [
    "def powermat(mat, k) :\n",
    "    if k == 0 :\n",
    "        return np.identity(mat.shape[0])\n",
    "    elif k == 1 :\n",
    "        return mat\n",
    "    elif k > 1 :\n",
    "        return mat @ powermat(mat, k-1)"
   ]
  },
  {
   "cell_type": "markdown",
   "metadata": {},
   "source": [
    "- check the type error powermat(P, 0.1)"
   ]
  },
  {
   "cell_type": "code",
   "execution_count": null,
   "metadata": {},
   "outputs": [],
   "source": [
    "print()"
   ]
  },
  {
   "cell_type": "markdown",
   "metadata": {},
   "source": [
    "- check the value error powermat(P, -1)"
   ]
  },
  {
   "cell_type": "code",
   "execution_count": null,
   "metadata": {},
   "outputs": [],
   "source": [
    "print()"
   ]
  },
  {
   "cell_type": "markdown",
   "metadata": {},
   "source": [
    "- check the value error powermat(np.ones((2,3)), 1)"
   ]
  },
  {
   "cell_type": "code",
   "execution_count": null,
   "metadata": {},
   "outputs": [],
   "source": [
    "print(np.ones((2,3)))\n",
    "print()"
   ]
  },
  {
   "cell_type": "markdown",
   "metadata": {},
   "source": [
    "#### Get probability of states by using trasition matrix\n",
    "* P를 100제곱하여, 1번 잎에 앉아있던 개구리가 100번 이동 후에 각 수련 잎에 앉게 될 확률을 계산하시오."
   ]
  },
  {
   "cell_type": "code",
   "execution_count": null,
   "metadata": {},
   "outputs": [],
   "source": [
    "# print P^100 matrix\n",
    "print()\n",
    "\n",
    "print(\"\"\"\\n이와 같이 오랜 전이 이후에 각 행의 요소들이 모두 같은 값을 같게 되었을 때를 \n",
    "정상분포(stationary distribution)이라고 한다.\\n\"\"\")\n",
    "\n",
    "# print the probability by rounding up to 4 decimals.\n",
    "answer = tuple()\n",
    "shout = f\"\"\"1번 잎에 앉아있던 개구리가 100번 이동 후에\n",
    "1번 잎에 앉을 확률은 {answer[0]},\n",
    "2번 잎에 앉을 확률은 {answer[1]},\n",
    "3번 잎에 앉을 확률은 {answer[2]},\n",
    "4번 잎에 앉을 확률은 {answer[3]},\n",
    "5번 잎에 앉을 확률은 {answer[4]},\n",
    "6번 잎에 앉을 확률은 {answer[5]}이다.\"\"\"\n",
    "\n",
    "print(shout)"
   ]
  },
  {
   "cell_type": "markdown",
   "metadata": {},
   "source": [
    "#### Get probability of states by using MCMC\n",
    "* MCMC를 통하여, 1번 잎에 앉아있던 개구리가 100번 이동 후에 각 수련 잎에 앉게 될 확률을 계산하시오.\n",
    "    - MCMC : (Marcov Chain Monte Carlo)\n",
    "    - _HINT : 위에서 이미 했었을 겁니다._"
   ]
  },
  {
   "cell_type": "code",
   "execution_count": null,
   "metadata": {},
   "outputs": [],
   "source": [
    "# More Hints\n",
    "stateList=[]\n",
    "for iter in range(100):\n",
    "    state = 1 - 1\n",
    "    for round in range(100):\n",
    "        state = int(np.random.choice(list(range(P.shape[0])), 1, p = list(P[state])))\n",
    "    stateList.append(state)\n",
    "probs = np.round(np.bincount(stateList)/100, 4)\n",
    "print(probs)"
   ]
  },
  {
   "cell_type": "code",
   "execution_count": null,
   "metadata": {},
   "outputs": [],
   "source": [
    "# don't change parameters\n",
    "def mcmc(Pmat, start = 1, rounds = 100, max_iter = 10000) :\n",
    "   "
   ]
  },
  {
   "cell_type": "code",
   "execution_count": null,
   "metadata": {},
   "outputs": [],
   "source": [
    "print(answer)\n",
    "print(mcmc(P))"
   ]
  },
  {
   "cell_type": "markdown",
   "metadata": {},
   "source": [
    "두 확률 분포가 비슷해야 정답입니다. ^^\n",
    "* answer : transition을 제곱하여 얻은 실제 확률 분포\n",
    "* mcmc(P) : Marcov Chain Monte Carlo Simulation을 통해서 얻은 확률 분포."
   ]
  },
  {
   "cell_type": "markdown",
   "metadata": {},
   "source": [
    "#### For 심심 person\n",
    "* start point를 4로 하여서 다시 한번 진행해보세요.\n",
    "    - Get probability distribution by using powermat().\n",
    "    - Get probability distribtuion by using mcmc()."
   ]
  },
  {
   "cell_type": "code",
   "execution_count": null,
   "metadata": {},
   "outputs": [],
   "source": []
  },
  {
   "cell_type": "markdown",
   "metadata": {},
   "source": [
    "고생 많으셨습니다. ^^\n",
    "\n",
    "#### END"
   ]
  }
 ],
 "metadata": {
  "kernelspec": {
   "display_name": "Python 3",
   "language": "python",
   "name": "python3"
  },
  "language_info": {
   "codemirror_mode": {
    "name": "ipython",
    "version": 3
   },
   "file_extension": ".py",
   "mimetype": "text/x-python",
   "name": "python",
   "nbconvert_exporter": "python",
   "pygments_lexer": "ipython3",
   "version": "3.6.5"
  }
 },
 "nbformat": 4,
 "nbformat_minor": 2
}
