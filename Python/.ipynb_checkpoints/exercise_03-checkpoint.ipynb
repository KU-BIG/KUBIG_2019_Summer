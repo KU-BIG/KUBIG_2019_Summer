{
 "cells": [
  {
   "cell_type": "markdown",
   "metadata": {},
   "source": [
    "### Olympic Medals with pandas!"
   ]
  },
  {
   "cell_type": "code",
   "execution_count": null,
   "metadata": {},
   "outputs": [],
   "source": [
    "import numpy as np\n",
    "import pandas as pd"
   ]
  },
  {
   "cell_type": "markdown",
   "metadata": {},
   "source": [
    "* web에서 csv를 불러오기.  \n",
    "https://bit.ly/2YdeLFK"
   ]
  },
  {
   "cell_type": "code",
   "execution_count": null,
   "metadata": {},
   "outputs": [],
   "source": [
    "medals = \n",
    "\n",
    "# display top 5 rows\n",
    "\n",
    "\n",
    "# display last 5 rows\n"
   ]
  },
  {
   "cell_type": "markdown",
   "metadata": {},
   "source": [
    "* medals에서 NOC를 추출하여 알파벳 순서대로 정렬한 뒤 countries에 저장하세요."
   ]
  },
  {
   "cell_type": "code",
   "execution_count": null,
   "metadata": {},
   "outputs": [],
   "source": [
    "countries = \n",
    "print(countries)"
   ]
  },
  {
   "cell_type": "markdown",
   "metadata": {},
   "source": [
    "* Iterating with a for loop\n",
    "    - countries 내의 요소를 for loop로 하나씩 빼내서 print 하세요."
   ]
  },
  {
   "cell_type": "code",
   "execution_count": null,
   "metadata": {},
   "outputs": [],
   "source": [
    "for __in __:\n",
    "    print(__)"
   ]
  },
  {
   "cell_type": "markdown",
   "metadata": {},
   "source": [
    "* Make iterator country_it with countries\n",
    "* Iterating over iterables : next()"
   ]
  },
  {
   "cell_type": "code",
   "execution_count": null,
   "metadata": {},
   "outputs": [],
   "source": [
    "country_it = __(countries)\n",
    "\n",
    "# print country_it with next()\n",
    "\n",
    "\n",
    "# two more times.\n"
   ]
  },
  {
   "cell_type": "markdown",
   "metadata": {},
   "source": [
    "* Make dictionary olympic_dic with comprehesions.  \n",
    "ex) {1896: 'Athens', 1900: 'Paris', ..., 2008: 'Beijing'}  \n",
    "key : medals.Edition.   value : medals.City  \n",
    "    - _HINT : using zip()!_"
   ]
  },
  {
   "cell_type": "code",
   "execution_count": null,
   "metadata": {},
   "outputs": [],
   "source": [
    "years = \n",
    "cities = \n",
    "\n",
    "# zip years and cities\n",
    "\n",
    "\n",
    "# print list of the zip\n"
   ]
  },
  {
   "cell_type": "code",
   "execution_count": null,
   "metadata": {},
   "outputs": [],
   "source": [
    "olympic_dic = \n",
    "print(olympic_dic)"
   ]
  },
  {
   "cell_type": "markdown",
   "metadata": {},
   "source": [
    "* Iterating over dicionaries (olympic_dic)\n",
    "    - olympic_dic의 key와 value를 하나씩 빼내서 print 하세요."
   ]
  },
  {
   "cell_type": "code",
   "execution_count": null,
   "metadata": {},
   "outputs": [],
   "source": [
    "for __, __ in __:\n",
    "    print(__, __)"
   ]
  },
  {
   "cell_type": "markdown",
   "metadata": {},
   "source": [
    "* Make dictionary olympic_dic1 with nested sturcture.  \n",
    "    - 위에 했던 코드 응용하면 매우 좋습니다.  \n",
    "    - winners는 해당 년도 올림픽의 전체 수상자 수입니다.  \n",
    "ex) {1896: {'City': 'Athens', 'winners': 151}, 2008: {'City': 'Beijing', 'winners': 2042}}"
   ]
  },
  {
   "cell_type": "code",
   "execution_count": null,
   "metadata": {},
   "outputs": [],
   "source": [
    "winners = \n",
    "\n",
    "# zip cities, winners as z1, and zip years and z1\n",
    "\n",
    "\n",
    "# print list of the zip\n"
   ]
  },
  {
   "cell_type": "code",
   "execution_count": null,
   "metadata": {},
   "outputs": [],
   "source": [
    "olympic_dic1 = \n",
    "print(olympic_dic1)"
   ]
  },
  {
   "cell_type": "markdown",
   "metadata": {},
   "source": [
    "* Iterating over dicionaries (olympic_dic1)\n",
    "    - olympic_dic1의 key와 value를 하나씩 빼내서 print 하세요."
   ]
  },
  {
   "cell_type": "code",
   "execution_count": 1,
   "metadata": {},
   "outputs": [],
   "source": [
    "for __,__  in ___:\n",
    "    print(__, __)"
   ]
  },
  {
   "cell_type": "markdown",
   "metadata": {},
   "source": [
    "* By Using dictionary olympic_dic1\n",
    "    - Sydney 올림픽은 몇 년에 열렸습니까?\n",
    "    - 1972년에 열린 올림픽은 어느 도시에서 열렸습니까?\n",
    "    - Beijing 올림픽의 전체 메달 수상자는 총 몇 명이었습니까?"
   ]
  },
  {
   "cell_type": "code",
   "execution_count": null,
   "metadata": {},
   "outputs": [],
   "source": [
    "# print first answer\n",
    "\n",
    "# print second answer\n",
    "\n",
    "# print third answer\n"
   ]
  }
 ],
 "metadata": {
  "kernelspec": {
   "display_name": "Python 3",
   "language": "python",
   "name": "python3"
  },
  "language_info": {
   "codemirror_mode": {
    "name": "ipython",
    "version": 3
   },
   "file_extension": ".py",
   "mimetype": "text/x-python",
   "name": "python",
   "nbconvert_exporter": "python",
   "pygments_lexer": "ipython3",
   "version": "3.6.5"
  }
 },
 "nbformat": 4,
 "nbformat_minor": 4
}
