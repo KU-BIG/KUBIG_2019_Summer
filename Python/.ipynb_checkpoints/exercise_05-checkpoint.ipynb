{
 "cells": [
  {
   "cell_type": "markdown",
   "metadata": {},
   "source": [
    "### Life Table Training 1 with pandas\n",
    "file path : ~\\KUBIG\\KUBIG_2019_Summer\\Python\\data\\life_table.xlsx  \n",
    "통계청 생명표 : https://bit.ly/2M6DTaW  \n",
    "- 오늘의 목표는 간단합니다.\n",
    "- 생명표 연습 시리즈는 다시 돌아올 예정입니다."
   ]
  },
  {
   "cell_type": "code",
   "execution_count": null,
   "metadata": {},
   "outputs": [],
   "source": [
    "import numpy as np\n",
    "import pandas as pd"
   ]
  },
  {
   "cell_type": "code",
   "execution_count": null,
   "metadata": {},
   "outputs": [],
   "source": [
    "import os\n",
    "print(os.getcwd())\n",
    "\n",
    "# 만약에 life_table.xlsx가 있는 폴더가 디렉토리가 아니라면 재 설정 하세요.\n",
    "os.chdir(\"~\\\\KUBIG\\\\KUBIG_2019_Summer\\\\Python\\\\data\")\n",
    "\n",
    "# print your directory\n",
    "print(os.getcwd())"
   ]
  },
  {
   "cell_type": "markdown",
   "metadata": {},
   "source": [
    "#### Setting to solve exercise.\n",
    "\n",
    "- 지정된 file path에서 엑셀 파일의 모든 시트를 포함해서 불러오세요.\n",
    "    - sheet 이름들을 출력하세요.\n",
    "    - _HINT: pd.ExcelFile, ExcelFile.sheet_names_"
   ]
  },
  {
   "cell_type": "code",
   "execution_count": null,
   "metadata": {},
   "outputs": [],
   "source": [
    "# 아직 xlrd가 안 깔렸다면 cmd 혹은 terminal에서 pip3 install xlrd하세요.\n",
    "xlsx = \n",
    "print(xlsx)"
   ]
  },
  {
   "cell_type": "markdown",
   "metadata": {},
   "source": [
    "* 첫번째 시트를 데이터 프레임으로 불러오세요. : df1"
   ]
  },
  {
   "cell_type": "code",
   "execution_count": null,
   "metadata": {},
   "outputs": [],
   "source": [
    "df1 = \n",
    "\n",
    "# Display tail of the dataframe.\n",
    "\n",
    "\n",
    "# Display tail of the dataframe.\n"
   ]
  },
  {
   "cell_type": "markdown",
   "metadata": {},
   "source": [
    "* 세번째 시트를 데이터 프레임으로 불러오세요. : df2"
   ]
  },
  {
   "cell_type": "code",
   "execution_count": null,
   "metadata": {},
   "outputs": [],
   "source": [
    "df2 = \n",
    "\n",
    "# Display head of the dataframe.\n"
   ]
  },
  {
   "cell_type": "markdown",
   "metadata": {},
   "source": [
    "* 뭔가 감이 잡히쥬?\n",
    "    - 이번에는 제대로 생명표를 불러와봅시다.\n",
    "    - 병합도 연습해보죠.\n",
    "* ex)  \n",
    "_  연령  사망률 생존자수 사망자수 정지인구 총생존년수 기대여명  연령.1  "
   ]
  },
  {
   "cell_type": "code",
   "execution_count": null,
   "metadata": {},
   "outputs": [],
   "source": [
    "# parse first dataframe.\n",
    "df1 = \n",
    "display(df1.tail())\n",
    "\n",
    "# parse second dataframe.\n",
    "df2 = \n",
    "display(df2.head())"
   ]
  },
  {
   "cell_type": "code",
   "execution_count": null,
   "metadata": {},
   "outputs": [],
   "source": [
    "# df1, df2를 병합하여 complete_lifetable을 만드시오.\n",
    "complete_lifetable = \n",
    "\n",
    "# Display head of the dataframe.\n",
    "\n",
    "\n",
    "# Display tail of the dataframe.\n"
   ]
  },
  {
   "cell_type": "markdown",
   "metadata": {},
   "source": [
    "* 연령.1을 없애시오.\n",
    "* 연령을 index로 두고, 데이터 프레임에서는 남기지 마시오."
   ]
  },
  {
   "cell_type": "code",
   "execution_count": null,
   "metadata": {},
   "outputs": [],
   "source": [
    "# drop 연령.1 column.\n",
    "complete_lifetable = \n",
    "\n",
    "# set new index.\n",
    "\n",
    "\n",
    "# display tail of the dataframe.\n"
   ]
  },
  {
   "cell_type": "markdown",
   "metadata": {},
   "source": [
    "* 사망자수 column을 제외하고 모두 없애세요 : dead"
   ]
  },
  {
   "cell_type": "code",
   "execution_count": null,
   "metadata": {},
   "outputs": [],
   "source": [
    "\n",
    "\n",
    "# print head of dead.\n"
   ]
  },
  {
   "cell_type": "markdown",
   "metadata": {},
   "source": [
    "#### **설명**\n",
    "이 설명들은 허명회 교수님의 '법과 통계학' 교재의 95페이지, 96페이지의 내용입니다.\n",
    "\n",
    "- 연령 x ($\\le 100$)\n",
    "- 사망률 $q_x$ : 연령 x의 사람이 연령 x+1에 이르기 이전에 사망할 확률\n",
    "- 생존자 수 $l_x$ : 출생인구 100,000명 중 연령 x에 이른 사람 수\n",
    "- 사망자 수 $d_x$ : 연령 x에 생존, 연령 x+1에 이르지 못한 사람 수\n",
    "- 기대여명 $e_x$ : 연령 x 이후 평균 생존시간\n",
    "\n",
    "더 자세한 설명은 통계청의 자료를 참조하세요.  \n",
    "통계청 생명표 작성방법 문답 : https://bit.ly/2YemXl3"
   ]
  },
  {
   "cell_type": "markdown",
   "metadata": {},
   "source": [
    "1. 생존자 수 series를 만드세요. : live\n",
    "    - _HINT : numpy에는 cumulative sum을 할 수 있는 method가 있습니다._"
   ]
  },
  {
   "cell_type": "code",
   "execution_count": null,
   "metadata": {},
   "outputs": [],
   "source": [
    "# make live list.\n",
    "\n",
    "\n",
    "\n",
    "print(live)"
   ]
  },
  {
   "cell_type": "code",
   "execution_count": null,
   "metadata": {},
   "outputs": [],
   "source": [
    "# convert live list to series.\n",
    "\n",
    "\n",
    "\n",
    "# print head of live.\n"
   ]
  },
  {
   "cell_type": "markdown",
   "metadata": {},
   "source": [
    "2. 사망확률 series를 만드세요. : death_prob\n",
    "    - 소숫점 밑 6번째 자리에서 반올림 하세요."
   ]
  },
  {
   "cell_type": "code",
   "execution_count": null,
   "metadata": {},
   "outputs": [],
   "source": [
    "\n",
    "\n",
    "# print head of death_prob.\n"
   ]
  },
  {
   "cell_type": "markdown",
   "metadata": {},
   "source": [
    "3. 정지인구 Series를 만드시오 : stop\n",
    "    - x세 정지인구=[x세 생존자수+(x+1세 생존자수)]/2\n",
    "    - 100+세의 정지인구는 5240입니다.\n",
    "    - 반올림 하세요.\n",
    "    - dtype : int"
   ]
  },
  {
   "cell_type": "code",
   "execution_count": null,
   "metadata": {},
   "outputs": [],
   "source": [
    "\n",
    "\n",
    "\n",
    "\n",
    "# print tail of stop.\n"
   ]
  },
  {
   "cell_type": "markdown",
   "metadata": {},
   "source": [
    "4. 총생존년수 Series를 만드시오 : survived_year  \n",
    "각 연령별 정지인구의 합 : $\\sum_{x\\ge i} 정지인구_i$"
   ]
  },
  {
   "cell_type": "code",
   "execution_count": null,
   "metadata": {},
   "outputs": [],
   "source": [
    "\n",
    "\n",
    "# print head of survived_year.\n"
   ]
  },
  {
   "cell_type": "markdown",
   "metadata": {},
   "source": [
    "5. 기대여명 Series를 만드시오. : expectancy  \n",
    "총생존년수 / 생존자수\n",
    "- 소숫점 아래 셋째 자리의 수에서 반올림하시오."
   ]
  },
  {
   "cell_type": "code",
   "execution_count": null,
   "metadata": {},
   "outputs": [],
   "source": [
    "\n",
    "\n",
    "# print \n"
   ]
  },
  {
   "cell_type": "markdown",
   "metadata": {},
   "source": [
    "#### Merge Series\n",
    "지금까지 구한 모든 Series들을 합하여 Dataframe을 만들어 봅시다! : lifetable  \n",
    "- 연령 | 사망률 생존자수 사망자수 정지인구 총생존년수 기대여명"
   ]
  },
  {
   "cell_type": "code",
   "execution_count": null,
   "metadata": {},
   "outputs": [],
   "source": [
    "\n",
    "\n",
    "\n",
    "\n",
    "\n",
    "# display head of lifetable.\n"
   ]
  },
  {
   "cell_type": "markdown",
   "metadata": {},
   "source": [
    "고생하셨습니다.  \n",
    "Life Table Training 2에서 다시 만나요!\n",
    "## END"
   ]
  }
 ],
 "metadata": {
  "kernelspec": {
   "display_name": "Python 3",
   "language": "python",
   "name": "python3"
  },
  "language_info": {
   "codemirror_mode": {
    "name": "ipython",
    "version": 3
   },
   "file_extension": ".py",
   "mimetype": "text/x-python",
   "name": "python",
   "nbconvert_exporter": "python",
   "pygments_lexer": "ipython3",
   "version": "3.6.5"
  }
 },
 "nbformat": 4,
 "nbformat_minor": 4
}
