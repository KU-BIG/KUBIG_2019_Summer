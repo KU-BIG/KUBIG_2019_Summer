{
 "cells": [
  {
   "cell_type": "code",
   "execution_count": null,
   "metadata": {},
   "outputs": [],
   "source": [
    "import numpy as np\n",
    "\n",
    "np.random.seed(70)\n",
    "\n",
    "\n",
    "random_walk = [1000]\n",
    "\n",
    "for x in range(100) :\n",
    "        reserve = random_walk[-1]\n",
    "        roulette = np.random.randint(1,101)\n",
    "        if  roulette <=10 :\n",
    "            reserve = reserve+roulette\n",
    "            \n",
    "        \n",
    "        elif roulette <= 70:\n",
    "            reserve = max(0, reserve - 5)\n",
    "        \n",
    "        elif roulette <= 95:\n",
    "             reserve = reserve + 2\n",
    "                \n",
    "        else:\n",
    "             reserve = max(0, reserve -10)\n",
    "        \n",
    "        if np.random.rand() <= 0.001 :\n",
    "            reserve = 0\n",
    "            \n",
    "        if reserve <=0:\n",
    "            break\n",
    "        random_walk.append(reserve)\n",
    "\n",
    "    \n",
    "\n",
    "# Import matplotlib.pyplot as plt\n",
    "import matplotlib.pyplot as plt\n",
    "\n",
    "# Plot random_walk\n",
    "plt.plot(random_walk)\n",
    "\n",
    "# Show the plot\n",
    "plt.show()\n",
    "\n"
   ]
  },
  {
   "cell_type": "code",
   "execution_count": null,
   "metadata": {},
   "outputs": [],
   "source": [
    "\n",
    "\n",
    "# Simulate random walk 500 times\n",
    "all_walks = []\n",
    "for i in range(500) :\n",
    "    random_walk = [1000]\n",
    "    for x in range(100) :\n",
    "        reserve = random_walk[-1]\n",
    "        roulette = np.random.randint(1,101)\n",
    "        if roulette <=10:\n",
    "            reserve = reserve+roulette\n",
    "        \n",
    "        elif roulette <= 70:\n",
    "            reserve = max(0, reserve - 5)\n",
    "        \n",
    "        elif roulette <= 95:\n",
    "             reserve = reserve + 2\n",
    "                \n",
    "        else:\n",
    "             reserve = max(0, reserve -10)\n",
    "        \n",
    "        if np.random.rand() <= 0.001 :\n",
    "            reserve = 0\n",
    "        if reserve <=0 :\n",
    "            break\n",
    "        random_walk.append(reserve)\n",
    "    all_walks.append(random_walk[-1])\n",
    "\n",
    "\n",
    "ends=np.array(all_walks)\n",
    "\n",
    "\n",
    "\n",
    "plt.plot(ends)\n",
    "plt.show()"
   ]
  },
  {
   "cell_type": "code",
   "execution_count": null,
   "metadata": {},
   "outputs": [],
   "source": [
    "plt.clf()\n",
    "plt.hist(ends)\n",
    "plt.plot()"
   ]
  },
  {
   "cell_type": "code",
   "execution_count": null,
   "metadata": {},
   "outputs": [],
   "source": [
    "id={'2011123':'영희','2011456':'민수','2011789':'민식','2011321':'영구'}\n",
    "\n",
    "for key,value in id.items():\n",
    "    print(value+\"의 학번은\"+\" \"+key+\"입니다.\")\n",
    "    "
   ]
  }
 ],
 "metadata": {
  "kernelspec": {
   "display_name": "Python 3",
   "language": "python",
   "name": "python3"
  },
  "language_info": {
   "codemirror_mode": {
    "name": "ipython",
    "version": 3
   },
   "file_extension": ".py",
   "mimetype": "text/x-python",
   "name": "python",
   "nbconvert_exporter": "python",
   "pygments_lexer": "ipython3",
   "version": "3.7.3"
  }
 },
 "nbformat": 4,
 "nbformat_minor": 2
}
