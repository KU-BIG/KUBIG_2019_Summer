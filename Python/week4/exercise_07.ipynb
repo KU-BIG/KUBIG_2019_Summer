{
 "cells": [
  {
   "cell_type": "markdown",
   "metadata": {},
   "source": [
    "## Pokemon Party!"
   ]
  },
  {
   "cell_type": "markdown",
   "metadata": {},
   "source": [
    "file path : ~\\KUBIG\\KUBIG_2019_Summer\\Python\\data\\pokemon.csv   \n",
    "kaggle : https://www.kaggle.com/rounakbanik/pokemon  \n",
    "EDA of pokemon data"
   ]
  },
  {
   "cell_type": "markdown",
   "metadata": {},
   "source": [
    "* Import packages.\n",
    "    - numpy, pandas, matplotlib.pyplot, seaborn"
   ]
  },
  {
   "cell_type": "code",
   "execution_count": null,
   "metadata": {},
   "outputs": [],
   "source": [
    "\n",
    "\n",
    "\n"
   ]
  },
  {
   "cell_type": "markdown",
   "metadata": {},
   "source": [
    "* Read the file into a DataFrame. : pokemon"
   ]
  },
  {
   "cell_type": "code",
   "execution_count": null,
   "metadata": {},
   "outputs": [],
   "source": [
    "import os\n",
    "path = \n",
    "pokemon = pd.read_csv(path + '\\data\\pokemon.csv')"
   ]
  },
  {
   "cell_type": "markdown",
   "metadata": {},
   "source": [
    "### 1. Check basic information of pokemon data"
   ]
  },
  {
   "cell_type": "code",
   "execution_count": null,
   "metadata": {},
   "outputs": [],
   "source": [
    "# display the head of pokemon\n",
    "\n",
    "\n",
    "# display the tail of pokemon\n"
   ]
  },
  {
   "cell_type": "code",
   "execution_count": null,
   "metadata": {},
   "outputs": [],
   "source": [
    "# print the shape of pokemon\n",
    "\n",
    "\n",
    "# print the columns of pokemon\n"
   ]
  },
  {
   "cell_type": "code",
   "execution_count": null,
   "metadata": {},
   "outputs": [],
   "source": [
    "# print the info of pokemon\n"
   ]
  },
  {
   "cell_type": "code",
   "execution_count": null,
   "metadata": {},
   "outputs": [],
   "source": [
    "# print describe of pokemon\n"
   ]
  },
  {
   "cell_type": "markdown",
   "metadata": {},
   "source": [
    "* Using 'dropna=False' in the method."
   ]
  },
  {
   "cell_type": "code",
   "execution_count": null,
   "metadata": {},
   "outputs": [],
   "source": [
    "# print value counts for against_ghost\n",
    "\n",
    "\n",
    "# print value counts for height_m\n",
    "\n",
    "\n",
    "# print value counts for percentage_male\n"
   ]
  },
  {
   "cell_type": "markdown",
   "metadata": {},
   "source": [
    "* Set index with name, japanese_name in order."
   ]
  },
  {
   "cell_type": "code",
   "execution_count": null,
   "metadata": {},
   "outputs": [],
   "source": [
    "\n",
    "\n",
    "# display top 3 rows of pokemon\n"
   ]
  },
  {
   "cell_type": "markdown",
   "metadata": {},
   "source": [
    "OMG! 가타카나 (히라가나)가 보입니다.  \n",
    "이것을 정규식을 이용하여 제거해봅시다."
   ]
  },
  {
   "cell_type": "markdown",
   "metadata": {},
   "source": [
    "-----------------------------------------------------------\n",
    "### 2. Regular expression"
   ]
  },
  {
   "cell_type": "markdown",
   "metadata": {},
   "source": [
    "* Reset index."
   ]
  },
  {
   "cell_type": "code",
   "execution_count": null,
   "metadata": {},
   "outputs": [],
   "source": [
    "\n",
    "\n",
    "# display the tail of pokemon\n"
   ]
  },
  {
   "cell_type": "markdown",
   "metadata": {},
   "source": [
    "* Import proper package to use regualr expression."
   ]
  },
  {
   "cell_type": "code",
   "execution_count": null,
   "metadata": {},
   "outputs": [],
   "source": [
    "import re"
   ]
  },
  {
   "cell_type": "markdown",
   "metadata": {},
   "source": [
    "* Extract only alphabets in pokemon.japnese_name.\n",
    "        - First try at japanese_name[0]."
   ]
  },
  {
   "cell_type": "code",
   "execution_count": null,
   "metadata": {},
   "outputs": [],
   "source": [
    "jap_name = \n",
    "\n",
    "english = \n",
    "\n",
    "# print jap_name\n",
    "\n",
    "\n",
    "# print the answer\n"
   ]
  },
  {
   "cell_type": "markdown",
   "metadata": {},
   "source": [
    "* 감이 잡혔으니 loop를 통해서 해결해봅시다.\n",
    "    - list의 entry들이 str이 되도록 주의합시다!"
   ]
  },
  {
   "cell_type": "code",
   "execution_count": null,
   "metadata": {},
   "outputs": [],
   "source": [
    "# Make empty list : new_japanes_name\n",
    "new_japanese_name = \n",
    "\n",
    "# Make for loop to solve the problem\n",
    "\n",
    "\n",
    "\n",
    "\n",
    "# print the first 5 entries of new_japanese_name\n"
   ]
  },
  {
   "cell_type": "markdown",
   "metadata": {},
   "source": [
    "* Change japanese_name column!"
   ]
  },
  {
   "cell_type": "code",
   "execution_count": null,
   "metadata": {},
   "outputs": [],
   "source": [
    "pokemon['japanese_name'] = new_japanese_name\n",
    "\n",
    "# print the head of the pokemon.japanese_name\n"
   ]
  },
  {
   "cell_type": "markdown",
   "metadata": {},
   "source": [
    "* Set Index by using name, japanese_name in order."
   ]
  },
  {
   "cell_type": "code",
   "execution_count": null,
   "metadata": {},
   "outputs": [],
   "source": [
    "\n",
    "\n",
    "# display the tail of the pokemon\n"
   ]
  },
  {
   "cell_type": "markdown",
   "metadata": {},
   "source": [
    "-----------------------------------------\n",
    "#### 3. Plotting!"
   ]
  },
  {
   "cell_type": "markdown",
   "metadata": {},
   "source": [
    "* Frequency of type1 column with bar chart"
   ]
  },
  {
   "cell_type": "code",
   "execution_count": null,
   "metadata": {},
   "outputs": [],
   "source": [
    "# print value_counts of type1\n"
   ]
  },
  {
   "cell_type": "markdown",
   "metadata": {},
   "source": [
    "* Make Bar plot of type1\n",
    "    - Horizontal bar plot\n",
    "    - Descending sort\n",
    "    - title : Counts of type1\n",
    "    - xlabel : Frequency\n",
    "    - ylabel : types\n",
    "    - color = Using type_color"
   ]
  },
  {
   "cell_type": "code",
   "execution_count": null,
   "metadata": {},
   "outputs": [],
   "source": [
    "type_color = {'water':'#6890F0', 'normal':'#A8A878', 'grass':'#78C850',\n",
    "              'bug':'#A8B820', 'psychic':'#F85888', 'fire':'#F08030',\n",
    "              'rock':'#B8A038', 'electric':'#F8D030', 'ground':'#E0C068',\n",
    "              'poison':'#990099', 'dark':'#705848', 'fighting':'#C03028',\n",
    "             'ghost':'#660099', 'dragon':'#7038F8', 'steel':'#705898',\n",
    "              'ice':'#98D8D8', 'fairy':'#EE99AC', 'flying':'#A890F0', np.NaN:'#68A090'}"
   ]
  },
  {
   "cell_type": "code",
   "execution_count": null,
   "metadata": {},
   "outputs": [],
   "source": [
    "# make bar plot of type1\n",
    "my_color = [type_color[___] for ___ in ___________________________]\n",
    "\n",
    "\n",
    "\n",
    "\n",
    "\n"
   ]
  },
  {
   "cell_type": "markdown",
   "metadata": {},
   "source": [
    "------------------------------------------------\n",
    "* Make Bar plot of combination of type1 and type2\n",
    "    - Descending sort\n",
    "    - title : Counts of type1\n",
    "    - xlabel : Frequency\n",
    "    - ylabel : types\n",
    "    - color = Using type_color"
   ]
  },
  {
   "cell_type": "code",
   "execution_count": null,
   "metadata": {},
   "outputs": [],
   "source": [
    "print(pokemon.groupby('type1').type2.value_counts(dropna=False).head())"
   ]
  },
  {
   "cell_type": "markdown",
   "metadata": {},
   "source": [
    "* 각 type1별로 type2에 대한 bar plot을 그리세요.\n",
    "    - Using plt.subplot()"
   ]
  },
  {
   "cell_type": "code",
   "execution_count": null,
   "metadata": {},
   "outputs": [],
   "source": [
    "# Hints\n",
    "type1s = pokemon.groupby('type1').type2.value_counts().sort_values().index.levels[0]\n",
    "sub_series = pokemon.groupby('type1').type2.value_counts(dropna=False).sort_values().loc[type1s[1]]\n",
    "print(sub_series)"
   ]
  },
  {
   "cell_type": "code",
   "execution_count": null,
   "metadata": {},
   "outputs": [],
   "source": [
    "# try your code\n",
    "\n",
    "\n",
    "# plt rcParams Setting\n",
    "fig_default = plt.rcParams.get('figure.figsize')\n",
    "plt.rcParams['figure.figsize'] = [25, 15]\n",
    "\n",
    "# for loop\n",
    "\n",
    "\n",
    "\n",
    "\n",
    "\n",
    "\n",
    "\n",
    "\n",
    "\n",
    "\n"
   ]
  },
  {
   "cell_type": "markdown",
   "metadata": {},
   "source": [
    "* 풀, 풀 타입을 가진 포켓몬을 찾아봅시다."
   ]
  },
  {
   "cell_type": "code",
   "execution_count": null,
   "metadata": {},
   "outputs": [],
   "source": [
    "pokemon.loc[____________________]"
   ]
  },
  {
   "cell_type": "markdown",
   "metadata": {},
   "source": [
    "* 각 타입별로 중첩된 타입을 가진 포켓몬들을 모두 찾아봅시다. \n",
    "    - ex) 풀, 풀 타입"
   ]
  },
  {
   "cell_type": "code",
   "execution_count": null,
   "metadata": {},
   "outputs": [],
   "source": []
  },
  {
   "cell_type": "markdown",
   "metadata": {},
   "source": [
    "---------------------------------------------------\n",
    "* The frequency of hit points(hp) using a line chart."
   ]
  },
  {
   "cell_type": "code",
   "execution_count": null,
   "metadata": {},
   "outputs": [],
   "source": [
    "print(fig_default)\n",
    "plt.rcParams['figure.figsize'] = fig_default\n",
    "\n",
    "\n",
    "\n",
    "\n"
   ]
  },
  {
   "cell_type": "markdown",
   "metadata": {},
   "source": [
    "It looks like dirty.  \n",
    "* Sort hp columns with descending then plot again.  \n",
    "what about this?\n",
    "    - plt.axvline(x=30, color='red)\n",
    "    - plt.axvline(x=780, color = 'yellowgreen')"
   ]
  },
  {
   "cell_type": "code",
   "execution_count": null,
   "metadata": {},
   "outputs": [],
   "source": [
    "\n",
    "\n",
    "\n",
    "\n",
    "\n",
    "\n"
   ]
  },
  {
   "cell_type": "markdown",
   "metadata": {},
   "source": [
    "cool!"
   ]
  },
  {
   "cell_type": "markdown",
   "metadata": {},
   "source": [
    "* Let's See top 30 pokemons."
   ]
  },
  {
   "cell_type": "code",
   "execution_count": null,
   "metadata": {},
   "outputs": [],
   "source": []
  },
  {
   "cell_type": "markdown",
   "metadata": {},
   "source": [
    "* Let's see pokemons below the green line."
   ]
  },
  {
   "cell_type": "code",
   "execution_count": null,
   "metadata": {},
   "outputs": [],
   "source": []
  },
  {
   "cell_type": "markdown",
   "metadata": {},
   "source": [
    "------------------------\n",
    "* Make scatter plot of height and weight\n",
    "    - x : height_m, y : weight_kg\n",
    "    - title : Pokemon Height vs. Weight\n",
    "    - xlabel : Height (M)\n",
    "    - yalbel : Weight (Kg)"
   ]
  },
  {
   "cell_type": "code",
   "execution_count": null,
   "metadata": {},
   "outputs": [],
   "source": [
    "\n",
    "\n",
    "\n",
    "\n",
    "\n"
   ]
  },
  {
   "cell_type": "markdown",
   "metadata": {},
   "source": [
    "* 위의 코드로는 심심하니까 레전더리 포켓몬과 일반 포켓몬 간에 색깔을 다르게 줍시다.\n",
    "    - argument : c = pokemon.is_legendary, cmap = plt.cm.get_cmap('winter, 2), alpha = 0.5\n",
    "    - plt.colorbar()"
   ]
  },
  {
   "cell_type": "code",
   "execution_count": null,
   "metadata": {},
   "outputs": [],
   "source": [
    "\n",
    "\n",
    "\n",
    "\n",
    "\n"
   ]
  },
  {
   "cell_type": "markdown",
   "metadata": {},
   "source": [
    "아름다움!"
   ]
  },
  {
   "cell_type": "markdown",
   "metadata": {},
   "source": [
    "--------------------------------\n",
    "* Let's Calculate pokemon BMI\n",
    "    - BMI : weight_kg / (height_m)^2"
   ]
  },
  {
   "cell_type": "code",
   "execution_count": null,
   "metadata": {},
   "outputs": [],
   "source": [
    "pokemon_BMI = \n",
    "\n",
    "# print the head of pokemon_BMI\n",
    "\n",
    "\n",
    "# print the number of nan in pokemon_BMI\n"
   ]
  },
  {
   "cell_type": "markdown",
   "metadata": {},
   "source": [
    "* BMI가 높을 수록 hit point도 높을까요?\n",
    "    - make scatter plot.\n",
    "    - Nan이 있으니 이를 drop하시오."
   ]
  },
  {
   "cell_type": "code",
   "execution_count": null,
   "metadata": {},
   "outputs": [],
   "source": [
    "\n"
   ]
  },
  {
   "cell_type": "markdown",
   "metadata": {},
   "source": [
    "한 친구가 문제입니다.  \n",
    "* Cosmoem을 확인해보세요."
   ]
  },
  {
   "cell_type": "code",
   "execution_count": null,
   "metadata": {},
   "outputs": [],
   "source": [
    "# print 'Cosmoem' row of pokemon\n",
    "print(pokemon.loc['Cosmoem', ['height_m', 'weight_kg']])\n",
    "\n",
    "# print 'Cosmoem' row of pokemon_BMI\n",
    "print(pokemon_BMI['Cosmoem'])"
   ]
  },
  {
   "cell_type": "markdown",
   "metadata": {},
   "source": [
    "* cosmoem을 제외하고 다시 해보세요.\n",
    "    - title : BMI vs. HP\n",
    "    - xlabel : BMI\n",
    "    - ylabel : "
   ]
  },
  {
   "cell_type": "code",
   "execution_count": null,
   "metadata": {},
   "outputs": [],
   "source": [
    "\n",
    "\n",
    "\n",
    "\n",
    "\n",
    "\n",
    "\n"
   ]
  },
  {
   "cell_type": "markdown",
   "metadata": {},
   "source": [
    "* 레전더리 포켓몬과 일반 포켓몬 색깔을 다르게 줘서 다시 해봅시다."
   ]
  },
  {
   "cell_type": "code",
   "execution_count": null,
   "metadata": {},
   "outputs": [],
   "source": [
    "\n",
    "\n",
    "\n",
    "\n",
    "\n",
    "\n"
   ]
  },
  {
   "cell_type": "markdown",
   "metadata": {},
   "source": [
    "Pokemon Party는 여기까지입니다.  \n",
    "다음에 더 괜찮은 Party로 찾아보도록 하겠습니다.  \n",
    "고생하셨습니다.\n",
    "\n",
    "### END"
   ]
  }
 ],
 "metadata": {
  "kernelspec": {
   "display_name": "Python 3",
   "language": "python",
   "name": "python3"
  },
  "language_info": {
   "codemirror_mode": {
    "name": "ipython",
    "version": 3
   },
   "file_extension": ".py",
   "mimetype": "text/x-python",
   "name": "python",
   "nbconvert_exporter": "python",
   "pygments_lexer": "ipython3",
   "version": "3.6.5"
  }
 },
 "nbformat": 4,
 "nbformat_minor": 4
}
