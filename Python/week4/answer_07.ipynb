{
 "cells": [
  {
   "cell_type": "markdown",
   "metadata": {},
   "source": [
    "## Pokemon Party!"
   ]
  },
  {
   "cell_type": "markdown",
   "metadata": {},
   "source": [
    "file path : ~\\KUBIG\\KUBIG_2019_Summer\\Python\\data\\pokemon.csv   \n",
    "kaggle : https://www.kaggle.com/rounakbanik/pokemon  \n",
    "EDA of pokemon data"
   ]
  },
  {
   "cell_type": "markdown",
   "metadata": {},
   "source": [
    "* Import packages.\n",
    "    - numpy, pandas, matplotlib.pyplot, seaborn"
   ]
  },
  {
   "cell_type": "code",
   "execution_count": 1,
   "metadata": {},
   "outputs": [],
   "source": [
    "import numpy as np\n",
    "import pandas as pd\n",
    "import matplotlib.pyplot as plt\n",
    "import seaborn as sns"
   ]
  },
  {
   "cell_type": "markdown",
   "metadata": {},
   "source": [
    "* Read the file into a DataFrame. : pokemon"
   ]
  },
  {
   "cell_type": "code",
   "execution_count": 2,
   "metadata": {},
   "outputs": [],
   "source": [
    "import os\n",
    "path = os.getcwd()\n",
    "pokemon = pd.read_csv(path + '\\data\\pokemon.csv')"
   ]
  },
  {
   "cell_type": "markdown",
   "metadata": {},
   "source": [
    "### 1. Check basic information of pokemon data"
   ]
  },
  {
   "cell_type": "code",
   "execution_count": 3,
   "metadata": {},
   "outputs": [
    {
     "data": {
      "text/html": [
       "<div>\n",
       "<style scoped>\n",
       "    .dataframe tbody tr th:only-of-type {\n",
       "        vertical-align: middle;\n",
       "    }\n",
       "\n",
       "    .dataframe tbody tr th {\n",
       "        vertical-align: top;\n",
       "    }\n",
       "\n",
       "    .dataframe thead th {\n",
       "        text-align: right;\n",
       "    }\n",
       "</style>\n",
       "<table border=\"1\" class=\"dataframe\">\n",
       "  <thead>\n",
       "    <tr style=\"text-align: right;\">\n",
       "      <th></th>\n",
       "      <th>abilities</th>\n",
       "      <th>against_bug</th>\n",
       "      <th>against_dark</th>\n",
       "      <th>against_dragon</th>\n",
       "      <th>against_electric</th>\n",
       "      <th>against_fairy</th>\n",
       "      <th>against_fight</th>\n",
       "      <th>against_fire</th>\n",
       "      <th>against_flying</th>\n",
       "      <th>against_ghost</th>\n",
       "      <th>...</th>\n",
       "      <th>percentage_male</th>\n",
       "      <th>pokedex_number</th>\n",
       "      <th>sp_attack</th>\n",
       "      <th>sp_defense</th>\n",
       "      <th>speed</th>\n",
       "      <th>type1</th>\n",
       "      <th>type2</th>\n",
       "      <th>weight_kg</th>\n",
       "      <th>generation</th>\n",
       "      <th>is_legendary</th>\n",
       "    </tr>\n",
       "  </thead>\n",
       "  <tbody>\n",
       "    <tr>\n",
       "      <th>0</th>\n",
       "      <td>['Overgrow', 'Chlorophyll']</td>\n",
       "      <td>1.0</td>\n",
       "      <td>1.0</td>\n",
       "      <td>1.0</td>\n",
       "      <td>0.5</td>\n",
       "      <td>0.5</td>\n",
       "      <td>0.5</td>\n",
       "      <td>2.0</td>\n",
       "      <td>2.0</td>\n",
       "      <td>1.0</td>\n",
       "      <td>...</td>\n",
       "      <td>88.1</td>\n",
       "      <td>1</td>\n",
       "      <td>65</td>\n",
       "      <td>65</td>\n",
       "      <td>45</td>\n",
       "      <td>grass</td>\n",
       "      <td>poison</td>\n",
       "      <td>6.9</td>\n",
       "      <td>1</td>\n",
       "      <td>0</td>\n",
       "    </tr>\n",
       "    <tr>\n",
       "      <th>1</th>\n",
       "      <td>['Overgrow', 'Chlorophyll']</td>\n",
       "      <td>1.0</td>\n",
       "      <td>1.0</td>\n",
       "      <td>1.0</td>\n",
       "      <td>0.5</td>\n",
       "      <td>0.5</td>\n",
       "      <td>0.5</td>\n",
       "      <td>2.0</td>\n",
       "      <td>2.0</td>\n",
       "      <td>1.0</td>\n",
       "      <td>...</td>\n",
       "      <td>88.1</td>\n",
       "      <td>2</td>\n",
       "      <td>80</td>\n",
       "      <td>80</td>\n",
       "      <td>60</td>\n",
       "      <td>grass</td>\n",
       "      <td>poison</td>\n",
       "      <td>13.0</td>\n",
       "      <td>1</td>\n",
       "      <td>0</td>\n",
       "    </tr>\n",
       "    <tr>\n",
       "      <th>2</th>\n",
       "      <td>['Overgrow', 'Chlorophyll']</td>\n",
       "      <td>1.0</td>\n",
       "      <td>1.0</td>\n",
       "      <td>1.0</td>\n",
       "      <td>0.5</td>\n",
       "      <td>0.5</td>\n",
       "      <td>0.5</td>\n",
       "      <td>2.0</td>\n",
       "      <td>2.0</td>\n",
       "      <td>1.0</td>\n",
       "      <td>...</td>\n",
       "      <td>88.1</td>\n",
       "      <td>3</td>\n",
       "      <td>122</td>\n",
       "      <td>120</td>\n",
       "      <td>80</td>\n",
       "      <td>grass</td>\n",
       "      <td>poison</td>\n",
       "      <td>100.0</td>\n",
       "      <td>1</td>\n",
       "      <td>0</td>\n",
       "    </tr>\n",
       "    <tr>\n",
       "      <th>3</th>\n",
       "      <td>['Blaze', 'Solar Power']</td>\n",
       "      <td>0.5</td>\n",
       "      <td>1.0</td>\n",
       "      <td>1.0</td>\n",
       "      <td>1.0</td>\n",
       "      <td>0.5</td>\n",
       "      <td>1.0</td>\n",
       "      <td>0.5</td>\n",
       "      <td>1.0</td>\n",
       "      <td>1.0</td>\n",
       "      <td>...</td>\n",
       "      <td>88.1</td>\n",
       "      <td>4</td>\n",
       "      <td>60</td>\n",
       "      <td>50</td>\n",
       "      <td>65</td>\n",
       "      <td>fire</td>\n",
       "      <td>NaN</td>\n",
       "      <td>8.5</td>\n",
       "      <td>1</td>\n",
       "      <td>0</td>\n",
       "    </tr>\n",
       "    <tr>\n",
       "      <th>4</th>\n",
       "      <td>['Blaze', 'Solar Power']</td>\n",
       "      <td>0.5</td>\n",
       "      <td>1.0</td>\n",
       "      <td>1.0</td>\n",
       "      <td>1.0</td>\n",
       "      <td>0.5</td>\n",
       "      <td>1.0</td>\n",
       "      <td>0.5</td>\n",
       "      <td>1.0</td>\n",
       "      <td>1.0</td>\n",
       "      <td>...</td>\n",
       "      <td>88.1</td>\n",
       "      <td>5</td>\n",
       "      <td>80</td>\n",
       "      <td>65</td>\n",
       "      <td>80</td>\n",
       "      <td>fire</td>\n",
       "      <td>NaN</td>\n",
       "      <td>19.0</td>\n",
       "      <td>1</td>\n",
       "      <td>0</td>\n",
       "    </tr>\n",
       "  </tbody>\n",
       "</table>\n",
       "<p>5 rows × 41 columns</p>\n",
       "</div>"
      ],
      "text/plain": [
       "                     abilities  against_bug  against_dark  against_dragon  \\\n",
       "0  ['Overgrow', 'Chlorophyll']          1.0           1.0             1.0   \n",
       "1  ['Overgrow', 'Chlorophyll']          1.0           1.0             1.0   \n",
       "2  ['Overgrow', 'Chlorophyll']          1.0           1.0             1.0   \n",
       "3     ['Blaze', 'Solar Power']          0.5           1.0             1.0   \n",
       "4     ['Blaze', 'Solar Power']          0.5           1.0             1.0   \n",
       "\n",
       "   against_electric  against_fairy  against_fight  against_fire  \\\n",
       "0               0.5            0.5            0.5           2.0   \n",
       "1               0.5            0.5            0.5           2.0   \n",
       "2               0.5            0.5            0.5           2.0   \n",
       "3               1.0            0.5            1.0           0.5   \n",
       "4               1.0            0.5            1.0           0.5   \n",
       "\n",
       "   against_flying  against_ghost  ...  percentage_male  pokedex_number  \\\n",
       "0             2.0            1.0  ...             88.1               1   \n",
       "1             2.0            1.0  ...             88.1               2   \n",
       "2             2.0            1.0  ...             88.1               3   \n",
       "3             1.0            1.0  ...             88.1               4   \n",
       "4             1.0            1.0  ...             88.1               5   \n",
       "\n",
       "   sp_attack  sp_defense  speed  type1   type2  weight_kg  generation  \\\n",
       "0         65          65     45  grass  poison        6.9           1   \n",
       "1         80          80     60  grass  poison       13.0           1   \n",
       "2        122         120     80  grass  poison      100.0           1   \n",
       "3         60          50     65   fire     NaN        8.5           1   \n",
       "4         80          65     80   fire     NaN       19.0           1   \n",
       "\n",
       "   is_legendary  \n",
       "0             0  \n",
       "1             0  \n",
       "2             0  \n",
       "3             0  \n",
       "4             0  \n",
       "\n",
       "[5 rows x 41 columns]"
      ]
     },
     "metadata": {},
     "output_type": "display_data"
    },
    {
     "data": {
      "text/html": [
       "<div>\n",
       "<style scoped>\n",
       "    .dataframe tbody tr th:only-of-type {\n",
       "        vertical-align: middle;\n",
       "    }\n",
       "\n",
       "    .dataframe tbody tr th {\n",
       "        vertical-align: top;\n",
       "    }\n",
       "\n",
       "    .dataframe thead th {\n",
       "        text-align: right;\n",
       "    }\n",
       "</style>\n",
       "<table border=\"1\" class=\"dataframe\">\n",
       "  <thead>\n",
       "    <tr style=\"text-align: right;\">\n",
       "      <th></th>\n",
       "      <th>abilities</th>\n",
       "      <th>against_bug</th>\n",
       "      <th>against_dark</th>\n",
       "      <th>against_dragon</th>\n",
       "      <th>against_electric</th>\n",
       "      <th>against_fairy</th>\n",
       "      <th>against_fight</th>\n",
       "      <th>against_fire</th>\n",
       "      <th>against_flying</th>\n",
       "      <th>against_ghost</th>\n",
       "      <th>...</th>\n",
       "      <th>percentage_male</th>\n",
       "      <th>pokedex_number</th>\n",
       "      <th>sp_attack</th>\n",
       "      <th>sp_defense</th>\n",
       "      <th>speed</th>\n",
       "      <th>type1</th>\n",
       "      <th>type2</th>\n",
       "      <th>weight_kg</th>\n",
       "      <th>generation</th>\n",
       "      <th>is_legendary</th>\n",
       "    </tr>\n",
       "  </thead>\n",
       "  <tbody>\n",
       "    <tr>\n",
       "      <th>796</th>\n",
       "      <td>['Beast Boost']</td>\n",
       "      <td>0.25</td>\n",
       "      <td>1.0</td>\n",
       "      <td>0.5</td>\n",
       "      <td>2.0</td>\n",
       "      <td>0.5</td>\n",
       "      <td>1.0</td>\n",
       "      <td>2.0</td>\n",
       "      <td>0.5</td>\n",
       "      <td>1.0</td>\n",
       "      <td>...</td>\n",
       "      <td>NaN</td>\n",
       "      <td>797</td>\n",
       "      <td>107</td>\n",
       "      <td>101</td>\n",
       "      <td>61</td>\n",
       "      <td>steel</td>\n",
       "      <td>flying</td>\n",
       "      <td>999.9</td>\n",
       "      <td>7</td>\n",
       "      <td>1</td>\n",
       "    </tr>\n",
       "    <tr>\n",
       "      <th>797</th>\n",
       "      <td>['Beast Boost']</td>\n",
       "      <td>1.00</td>\n",
       "      <td>1.0</td>\n",
       "      <td>0.5</td>\n",
       "      <td>0.5</td>\n",
       "      <td>0.5</td>\n",
       "      <td>2.0</td>\n",
       "      <td>4.0</td>\n",
       "      <td>1.0</td>\n",
       "      <td>1.0</td>\n",
       "      <td>...</td>\n",
       "      <td>NaN</td>\n",
       "      <td>798</td>\n",
       "      <td>59</td>\n",
       "      <td>31</td>\n",
       "      <td>109</td>\n",
       "      <td>grass</td>\n",
       "      <td>steel</td>\n",
       "      <td>0.1</td>\n",
       "      <td>7</td>\n",
       "      <td>1</td>\n",
       "    </tr>\n",
       "    <tr>\n",
       "      <th>798</th>\n",
       "      <td>['Beast Boost']</td>\n",
       "      <td>2.00</td>\n",
       "      <td>0.5</td>\n",
       "      <td>2.0</td>\n",
       "      <td>0.5</td>\n",
       "      <td>4.0</td>\n",
       "      <td>2.0</td>\n",
       "      <td>0.5</td>\n",
       "      <td>1.0</td>\n",
       "      <td>0.5</td>\n",
       "      <td>...</td>\n",
       "      <td>NaN</td>\n",
       "      <td>799</td>\n",
       "      <td>97</td>\n",
       "      <td>53</td>\n",
       "      <td>43</td>\n",
       "      <td>dark</td>\n",
       "      <td>dragon</td>\n",
       "      <td>888.0</td>\n",
       "      <td>7</td>\n",
       "      <td>1</td>\n",
       "    </tr>\n",
       "    <tr>\n",
       "      <th>799</th>\n",
       "      <td>['Prism Armor']</td>\n",
       "      <td>2.00</td>\n",
       "      <td>2.0</td>\n",
       "      <td>1.0</td>\n",
       "      <td>1.0</td>\n",
       "      <td>1.0</td>\n",
       "      <td>0.5</td>\n",
       "      <td>1.0</td>\n",
       "      <td>1.0</td>\n",
       "      <td>2.0</td>\n",
       "      <td>...</td>\n",
       "      <td>NaN</td>\n",
       "      <td>800</td>\n",
       "      <td>127</td>\n",
       "      <td>89</td>\n",
       "      <td>79</td>\n",
       "      <td>psychic</td>\n",
       "      <td>NaN</td>\n",
       "      <td>230.0</td>\n",
       "      <td>7</td>\n",
       "      <td>1</td>\n",
       "    </tr>\n",
       "    <tr>\n",
       "      <th>800</th>\n",
       "      <td>['Soul-Heart']</td>\n",
       "      <td>0.25</td>\n",
       "      <td>0.5</td>\n",
       "      <td>0.0</td>\n",
       "      <td>1.0</td>\n",
       "      <td>0.5</td>\n",
       "      <td>1.0</td>\n",
       "      <td>2.0</td>\n",
       "      <td>0.5</td>\n",
       "      <td>1.0</td>\n",
       "      <td>...</td>\n",
       "      <td>NaN</td>\n",
       "      <td>801</td>\n",
       "      <td>130</td>\n",
       "      <td>115</td>\n",
       "      <td>65</td>\n",
       "      <td>steel</td>\n",
       "      <td>fairy</td>\n",
       "      <td>80.5</td>\n",
       "      <td>7</td>\n",
       "      <td>1</td>\n",
       "    </tr>\n",
       "  </tbody>\n",
       "</table>\n",
       "<p>5 rows × 41 columns</p>\n",
       "</div>"
      ],
      "text/plain": [
       "           abilities  against_bug  against_dark  against_dragon  \\\n",
       "796  ['Beast Boost']         0.25           1.0             0.5   \n",
       "797  ['Beast Boost']         1.00           1.0             0.5   \n",
       "798  ['Beast Boost']         2.00           0.5             2.0   \n",
       "799  ['Prism Armor']         2.00           2.0             1.0   \n",
       "800   ['Soul-Heart']         0.25           0.5             0.0   \n",
       "\n",
       "     against_electric  against_fairy  against_fight  against_fire  \\\n",
       "796               2.0            0.5            1.0           2.0   \n",
       "797               0.5            0.5            2.0           4.0   \n",
       "798               0.5            4.0            2.0           0.5   \n",
       "799               1.0            1.0            0.5           1.0   \n",
       "800               1.0            0.5            1.0           2.0   \n",
       "\n",
       "     against_flying  against_ghost  ...  percentage_male  pokedex_number  \\\n",
       "796             0.5            1.0  ...              NaN             797   \n",
       "797             1.0            1.0  ...              NaN             798   \n",
       "798             1.0            0.5  ...              NaN             799   \n",
       "799             1.0            2.0  ...              NaN             800   \n",
       "800             0.5            1.0  ...              NaN             801   \n",
       "\n",
       "     sp_attack  sp_defense  speed    type1   type2  weight_kg  generation  \\\n",
       "796        107         101     61    steel  flying      999.9           7   \n",
       "797         59          31    109    grass   steel        0.1           7   \n",
       "798         97          53     43     dark  dragon      888.0           7   \n",
       "799        127          89     79  psychic     NaN      230.0           7   \n",
       "800        130         115     65    steel   fairy       80.5           7   \n",
       "\n",
       "     is_legendary  \n",
       "796             1  \n",
       "797             1  \n",
       "798             1  \n",
       "799             1  \n",
       "800             1  \n",
       "\n",
       "[5 rows x 41 columns]"
      ]
     },
     "metadata": {},
     "output_type": "display_data"
    }
   ],
   "source": [
    "# display the head of pokemon\n",
    "display(pokemon.head())\n",
    "\n",
    "# display the tail of pokemon\n",
    "display(pokemon.tail())"
   ]
  },
  {
   "cell_type": "code",
   "execution_count": 4,
   "metadata": {},
   "outputs": [
    {
     "name": "stdout",
     "output_type": "stream",
     "text": [
      "(801, 41)\n",
      "Index(['abilities', 'against_bug', 'against_dark', 'against_dragon',\n",
      "       'against_electric', 'against_fairy', 'against_fight', 'against_fire',\n",
      "       'against_flying', 'against_ghost', 'against_grass', 'against_ground',\n",
      "       'against_ice', 'against_normal', 'against_poison', 'against_psychic',\n",
      "       'against_rock', 'against_steel', 'against_water', 'attack',\n",
      "       'base_egg_steps', 'base_happiness', 'base_total', 'capture_rate',\n",
      "       'classfication', 'defense', 'experience_growth', 'height_m', 'hp',\n",
      "       'japanese_name', 'name', 'percentage_male', 'pokedex_number',\n",
      "       'sp_attack', 'sp_defense', 'speed', 'type1', 'type2', 'weight_kg',\n",
      "       'generation', 'is_legendary'],\n",
      "      dtype='object')\n"
     ]
    }
   ],
   "source": [
    "# print the shape of pokemon\n",
    "print(pokemon.shape)\n",
    "\n",
    "# print the columns of pokemon\n",
    "print(pokemon.columns)"
   ]
  },
  {
   "cell_type": "code",
   "execution_count": 5,
   "metadata": {},
   "outputs": [
    {
     "name": "stdout",
     "output_type": "stream",
     "text": [
      "<class 'pandas.core.frame.DataFrame'>\n",
      "RangeIndex: 801 entries, 0 to 800\n",
      "Data columns (total 41 columns):\n",
      "abilities            801 non-null object\n",
      "against_bug          801 non-null float64\n",
      "against_dark         801 non-null float64\n",
      "against_dragon       801 non-null float64\n",
      "against_electric     801 non-null float64\n",
      "against_fairy        801 non-null float64\n",
      "against_fight        801 non-null float64\n",
      "against_fire         801 non-null float64\n",
      "against_flying       801 non-null float64\n",
      "against_ghost        801 non-null float64\n",
      "against_grass        801 non-null float64\n",
      "against_ground       801 non-null float64\n",
      "against_ice          801 non-null float64\n",
      "against_normal       801 non-null float64\n",
      "against_poison       801 non-null float64\n",
      "against_psychic      801 non-null float64\n",
      "against_rock         801 non-null float64\n",
      "against_steel        801 non-null float64\n",
      "against_water        801 non-null float64\n",
      "attack               801 non-null int64\n",
      "base_egg_steps       801 non-null int64\n",
      "base_happiness       801 non-null int64\n",
      "base_total           801 non-null int64\n",
      "capture_rate         801 non-null object\n",
      "classfication        801 non-null object\n",
      "defense              801 non-null int64\n",
      "experience_growth    801 non-null int64\n",
      "height_m             781 non-null float64\n",
      "hp                   801 non-null int64\n",
      "japanese_name        801 non-null object\n",
      "name                 801 non-null object\n",
      "percentage_male      703 non-null float64\n",
      "pokedex_number       801 non-null int64\n",
      "sp_attack            801 non-null int64\n",
      "sp_defense           801 non-null int64\n",
      "speed                801 non-null int64\n",
      "type1                801 non-null object\n",
      "type2                417 non-null object\n",
      "weight_kg            781 non-null float64\n",
      "generation           801 non-null int64\n",
      "is_legendary         801 non-null int64\n",
      "dtypes: float64(21), int64(13), object(7)\n",
      "memory usage: 256.6+ KB\n",
      "None\n"
     ]
    }
   ],
   "source": [
    "# print the info of pokemon\n",
    "print(pokemon.info())"
   ]
  },
  {
   "cell_type": "code",
   "execution_count": 6,
   "metadata": {},
   "outputs": [
    {
     "name": "stdout",
     "output_type": "stream",
     "text": [
      "       against_bug  against_dark  against_dragon  against_electric  \\\n",
      "count   801.000000    801.000000      801.000000        801.000000   \n",
      "mean      0.996255      1.057116        0.968789          1.073970   \n",
      "std       0.597248      0.438142        0.353058          0.654962   \n",
      "min       0.250000      0.250000        0.000000          0.000000   \n",
      "25%       0.500000      1.000000        1.000000          0.500000   \n",
      "50%       1.000000      1.000000        1.000000          1.000000   \n",
      "75%       1.000000      1.000000        1.000000          1.000000   \n",
      "max       4.000000      4.000000        2.000000          4.000000   \n",
      "\n",
      "       against_fairy  against_fight  against_fire  against_flying  \\\n",
      "count     801.000000     801.000000    801.000000      801.000000   \n",
      "mean        1.068976       1.065543      1.135456        1.192884   \n",
      "std         0.522167       0.717251      0.691853        0.604488   \n",
      "min         0.250000       0.000000      0.250000        0.250000   \n",
      "25%         1.000000       0.500000      0.500000        1.000000   \n",
      "50%         1.000000       1.000000      1.000000        1.000000   \n",
      "75%         1.000000       1.000000      2.000000        1.000000   \n",
      "max         4.000000       4.000000      4.000000        4.000000   \n",
      "\n",
      "       against_ghost  against_grass  ...    height_m          hp  \\\n",
      "count     801.000000     801.000000  ...  781.000000  801.000000   \n",
      "mean        0.985019       1.034020  ...    1.163892   68.958801   \n",
      "std         0.558256       0.788896  ...    1.080326   26.576015   \n",
      "min         0.000000       0.250000  ...    0.100000    1.000000   \n",
      "25%         1.000000       0.500000  ...    0.600000   50.000000   \n",
      "50%         1.000000       1.000000  ...    1.000000   65.000000   \n",
      "75%         1.000000       1.000000  ...    1.500000   80.000000   \n",
      "max         4.000000       4.000000  ...   14.500000  255.000000   \n",
      "\n",
      "       percentage_male  pokedex_number   sp_attack  sp_defense       speed  \\\n",
      "count       703.000000      801.000000  801.000000  801.000000  801.000000   \n",
      "mean         55.155761      401.000000   71.305868   70.911361   66.334582   \n",
      "std          20.261623      231.373075   32.353826   27.942501   28.907662   \n",
      "min           0.000000        1.000000   10.000000   20.000000    5.000000   \n",
      "25%          50.000000      201.000000   45.000000   50.000000   45.000000   \n",
      "50%          50.000000      401.000000   65.000000   66.000000   65.000000   \n",
      "75%          50.000000      601.000000   91.000000   90.000000   85.000000   \n",
      "max         100.000000      801.000000  194.000000  230.000000  180.000000   \n",
      "\n",
      "        weight_kg  generation  is_legendary  \n",
      "count  781.000000  801.000000    801.000000  \n",
      "mean    61.378105    3.690387      0.087391  \n",
      "std    109.354766    1.930420      0.282583  \n",
      "min      0.100000    1.000000      0.000000  \n",
      "25%      9.000000    2.000000      0.000000  \n",
      "50%     27.300000    4.000000      0.000000  \n",
      "75%     64.800000    5.000000      0.000000  \n",
      "max    999.900000    7.000000      1.000000  \n",
      "\n",
      "[8 rows x 34 columns]\n"
     ]
    }
   ],
   "source": [
    "# print describe of pokemon\n",
    "print(pokemon.describe())"
   ]
  },
  {
   "cell_type": "markdown",
   "metadata": {},
   "source": [
    "* Using 'dropna=False' in the method."
   ]
  },
  {
   "cell_type": "code",
   "execution_count": 7,
   "metadata": {},
   "outputs": [
    {
     "name": "stdout",
     "output_type": "stream",
     "text": [
      "1.0    536\n",
      "2.0    112\n",
      "0.0    109\n",
      "0.5     42\n",
      "4.0      2\n",
      "Name: against_ghost, dtype: int64\n",
      "0.6     70\n",
      "0.5     60\n",
      "0.4     59\n",
      "1.0     57\n",
      "0.3     53\n",
      "1.2     49\n",
      "0.8     43\n",
      "1.5     43\n",
      "0.7     37\n",
      "1.1     36\n",
      "0.9     32\n",
      "1.3     29\n",
      "1.4     28\n",
      "1.6     25\n",
      "1.7     23\n",
      "1.8     21\n",
      "2.0     21\n",
      "NaN     20\n",
      "0.2     17\n",
      "1.9     13\n",
      "2.1      8\n",
      "2.2      6\n",
      "0.1      5\n",
      "2.5      5\n",
      "2.3      3\n",
      "3.0      3\n",
      "2.4      3\n",
      "2.7      2\n",
      "3.5      2\n",
      "4.5      2\n",
      "4.0      2\n",
      "9.2      2\n",
      "3.8      2\n",
      "3.2      2\n",
      "5.8      1\n",
      "4.2      1\n",
      "3.9      1\n",
      "2.8      1\n",
      "5.2      1\n",
      "3.4      1\n",
      "6.5      1\n",
      "5.4      1\n",
      "14.5     1\n",
      "2.6      1\n",
      "7.0      1\n",
      "2.9      1\n",
      "5.0      1\n",
      "5.5      1\n",
      "8.8      1\n",
      "3.7      1\n",
      "3.3      1\n",
      "6.2      1\n",
      "Name: height_m, dtype: int64\n",
      "50.0     501\n",
      "88.1     111\n",
      "NaN       98\n",
      "0.0       27\n",
      "24.6      24\n",
      "75.4      19\n",
      "100.0     19\n",
      "11.2       2\n",
      "Name: percentage_male, dtype: int64\n"
     ]
    }
   ],
   "source": [
    "# print value counts for against_ghost\n",
    "print(pokemon.against_ghost.value_counts(dropna=False))\n",
    "\n",
    "# print value counts for height_m\n",
    "print(pokemon.height_m.value_counts(dropna=False))\n",
    "\n",
    "# print value counts for percentage_male\n",
    "print(pokemon.percentage_male.value_counts(dropna=False))"
   ]
  },
  {
   "cell_type": "markdown",
   "metadata": {},
   "source": [
    "* Set index with name, japanese_name in order."
   ]
  },
  {
   "cell_type": "code",
   "execution_count": 8,
   "metadata": {},
   "outputs": [
    {
     "data": {
      "text/html": [
       "<div>\n",
       "<style scoped>\n",
       "    .dataframe tbody tr th:only-of-type {\n",
       "        vertical-align: middle;\n",
       "    }\n",
       "\n",
       "    .dataframe tbody tr th {\n",
       "        vertical-align: top;\n",
       "    }\n",
       "\n",
       "    .dataframe thead th {\n",
       "        text-align: right;\n",
       "    }\n",
       "</style>\n",
       "<table border=\"1\" class=\"dataframe\">\n",
       "  <thead>\n",
       "    <tr style=\"text-align: right;\">\n",
       "      <th></th>\n",
       "      <th></th>\n",
       "      <th>abilities</th>\n",
       "      <th>against_bug</th>\n",
       "      <th>against_dark</th>\n",
       "      <th>against_dragon</th>\n",
       "      <th>against_electric</th>\n",
       "      <th>against_fairy</th>\n",
       "      <th>against_fight</th>\n",
       "      <th>against_fire</th>\n",
       "      <th>against_flying</th>\n",
       "      <th>against_ghost</th>\n",
       "      <th>...</th>\n",
       "      <th>percentage_male</th>\n",
       "      <th>pokedex_number</th>\n",
       "      <th>sp_attack</th>\n",
       "      <th>sp_defense</th>\n",
       "      <th>speed</th>\n",
       "      <th>type1</th>\n",
       "      <th>type2</th>\n",
       "      <th>weight_kg</th>\n",
       "      <th>generation</th>\n",
       "      <th>is_legendary</th>\n",
       "    </tr>\n",
       "    <tr>\n",
       "      <th>name</th>\n",
       "      <th>japanese_name</th>\n",
       "      <th></th>\n",
       "      <th></th>\n",
       "      <th></th>\n",
       "      <th></th>\n",
       "      <th></th>\n",
       "      <th></th>\n",
       "      <th></th>\n",
       "      <th></th>\n",
       "      <th></th>\n",
       "      <th></th>\n",
       "      <th></th>\n",
       "      <th></th>\n",
       "      <th></th>\n",
       "      <th></th>\n",
       "      <th></th>\n",
       "      <th></th>\n",
       "      <th></th>\n",
       "      <th></th>\n",
       "      <th></th>\n",
       "      <th></th>\n",
       "      <th></th>\n",
       "    </tr>\n",
       "  </thead>\n",
       "  <tbody>\n",
       "    <tr>\n",
       "      <th>Bulbasaur</th>\n",
       "      <th>Fushigidaneフシギダネ</th>\n",
       "      <td>['Overgrow', 'Chlorophyll']</td>\n",
       "      <td>1.0</td>\n",
       "      <td>1.0</td>\n",
       "      <td>1.0</td>\n",
       "      <td>0.5</td>\n",
       "      <td>0.5</td>\n",
       "      <td>0.5</td>\n",
       "      <td>2.0</td>\n",
       "      <td>2.0</td>\n",
       "      <td>1.0</td>\n",
       "      <td>...</td>\n",
       "      <td>88.1</td>\n",
       "      <td>1</td>\n",
       "      <td>65</td>\n",
       "      <td>65</td>\n",
       "      <td>45</td>\n",
       "      <td>grass</td>\n",
       "      <td>poison</td>\n",
       "      <td>6.9</td>\n",
       "      <td>1</td>\n",
       "      <td>0</td>\n",
       "    </tr>\n",
       "    <tr>\n",
       "      <th>Ivysaur</th>\n",
       "      <th>Fushigisouフシギソウ</th>\n",
       "      <td>['Overgrow', 'Chlorophyll']</td>\n",
       "      <td>1.0</td>\n",
       "      <td>1.0</td>\n",
       "      <td>1.0</td>\n",
       "      <td>0.5</td>\n",
       "      <td>0.5</td>\n",
       "      <td>0.5</td>\n",
       "      <td>2.0</td>\n",
       "      <td>2.0</td>\n",
       "      <td>1.0</td>\n",
       "      <td>...</td>\n",
       "      <td>88.1</td>\n",
       "      <td>2</td>\n",
       "      <td>80</td>\n",
       "      <td>80</td>\n",
       "      <td>60</td>\n",
       "      <td>grass</td>\n",
       "      <td>poison</td>\n",
       "      <td>13.0</td>\n",
       "      <td>1</td>\n",
       "      <td>0</td>\n",
       "    </tr>\n",
       "    <tr>\n",
       "      <th>Venusaur</th>\n",
       "      <th>Fushigibanaフシギバナ</th>\n",
       "      <td>['Overgrow', 'Chlorophyll']</td>\n",
       "      <td>1.0</td>\n",
       "      <td>1.0</td>\n",
       "      <td>1.0</td>\n",
       "      <td>0.5</td>\n",
       "      <td>0.5</td>\n",
       "      <td>0.5</td>\n",
       "      <td>2.0</td>\n",
       "      <td>2.0</td>\n",
       "      <td>1.0</td>\n",
       "      <td>...</td>\n",
       "      <td>88.1</td>\n",
       "      <td>3</td>\n",
       "      <td>122</td>\n",
       "      <td>120</td>\n",
       "      <td>80</td>\n",
       "      <td>grass</td>\n",
       "      <td>poison</td>\n",
       "      <td>100.0</td>\n",
       "      <td>1</td>\n",
       "      <td>0</td>\n",
       "    </tr>\n",
       "  </tbody>\n",
       "</table>\n",
       "<p>3 rows × 39 columns</p>\n",
       "</div>"
      ],
      "text/plain": [
       "                                              abilities  against_bug  \\\n",
       "name      japanese_name                                                \n",
       "Bulbasaur Fushigidaneフシギダネ  ['Overgrow', 'Chlorophyll']          1.0   \n",
       "Ivysaur   Fushigisouフシギソウ   ['Overgrow', 'Chlorophyll']          1.0   \n",
       "Venusaur  Fushigibanaフシギバナ  ['Overgrow', 'Chlorophyll']          1.0   \n",
       "\n",
       "                            against_dark  against_dragon  against_electric  \\\n",
       "name      japanese_name                                                      \n",
       "Bulbasaur Fushigidaneフシギダネ           1.0             1.0               0.5   \n",
       "Ivysaur   Fushigisouフシギソウ            1.0             1.0               0.5   \n",
       "Venusaur  Fushigibanaフシギバナ           1.0             1.0               0.5   \n",
       "\n",
       "                            against_fairy  against_fight  against_fire  \\\n",
       "name      japanese_name                                                  \n",
       "Bulbasaur Fushigidaneフシギダネ            0.5            0.5           2.0   \n",
       "Ivysaur   Fushigisouフシギソウ             0.5            0.5           2.0   \n",
       "Venusaur  Fushigibanaフシギバナ            0.5            0.5           2.0   \n",
       "\n",
       "                            against_flying  against_ghost  ...  \\\n",
       "name      japanese_name                                    ...   \n",
       "Bulbasaur Fushigidaneフシギダネ             2.0            1.0  ...   \n",
       "Ivysaur   Fushigisouフシギソウ              2.0            1.0  ...   \n",
       "Venusaur  Fushigibanaフシギバナ             2.0            1.0  ...   \n",
       "\n",
       "                            percentage_male  pokedex_number  sp_attack  \\\n",
       "name      japanese_name                                                  \n",
       "Bulbasaur Fushigidaneフシギダネ             88.1               1         65   \n",
       "Ivysaur   Fushigisouフシギソウ              88.1               2         80   \n",
       "Venusaur  Fushigibanaフシギバナ             88.1               3        122   \n",
       "\n",
       "                            sp_defense  speed  type1   type2  weight_kg  \\\n",
       "name      japanese_name                                                   \n",
       "Bulbasaur Fushigidaneフシギダネ          65     45  grass  poison        6.9   \n",
       "Ivysaur   Fushigisouフシギソウ           80     60  grass  poison       13.0   \n",
       "Venusaur  Fushigibanaフシギバナ         120     80  grass  poison      100.0   \n",
       "\n",
       "                            generation  is_legendary  \n",
       "name      japanese_name                               \n",
       "Bulbasaur Fushigidaneフシギダネ           1             0  \n",
       "Ivysaur   Fushigisouフシギソウ            1             0  \n",
       "Venusaur  Fushigibanaフシギバナ           1             0  \n",
       "\n",
       "[3 rows x 39 columns]"
      ]
     },
     "metadata": {},
     "output_type": "display_data"
    }
   ],
   "source": [
    "pokemon.set_index(['name', 'japanese_name'], inplace=True)\n",
    "\n",
    "# display top 3 rows of pokemon\n",
    "display(pokemon.head(3))"
   ]
  },
  {
   "cell_type": "markdown",
   "metadata": {},
   "source": [
    "OMG! 가타카나 (히라가나)가 보입니다.  \n",
    "이것을 정규식을 이용하여 제거해봅시다."
   ]
  },
  {
   "cell_type": "markdown",
   "metadata": {},
   "source": [
    "-----------------------------------------------------------\n",
    "### 2. Regular expression"
   ]
  },
  {
   "cell_type": "markdown",
   "metadata": {},
   "source": [
    "* Reset index."
   ]
  },
  {
   "cell_type": "code",
   "execution_count": 9,
   "metadata": {},
   "outputs": [
    {
     "data": {
      "text/html": [
       "<div>\n",
       "<style scoped>\n",
       "    .dataframe tbody tr th:only-of-type {\n",
       "        vertical-align: middle;\n",
       "    }\n",
       "\n",
       "    .dataframe tbody tr th {\n",
       "        vertical-align: top;\n",
       "    }\n",
       "\n",
       "    .dataframe thead th {\n",
       "        text-align: right;\n",
       "    }\n",
       "</style>\n",
       "<table border=\"1\" class=\"dataframe\">\n",
       "  <thead>\n",
       "    <tr style=\"text-align: right;\">\n",
       "      <th></th>\n",
       "      <th>name</th>\n",
       "      <th>japanese_name</th>\n",
       "      <th>abilities</th>\n",
       "      <th>against_bug</th>\n",
       "      <th>against_dark</th>\n",
       "      <th>against_dragon</th>\n",
       "      <th>against_electric</th>\n",
       "      <th>against_fairy</th>\n",
       "      <th>against_fight</th>\n",
       "      <th>against_fire</th>\n",
       "      <th>...</th>\n",
       "      <th>percentage_male</th>\n",
       "      <th>pokedex_number</th>\n",
       "      <th>sp_attack</th>\n",
       "      <th>sp_defense</th>\n",
       "      <th>speed</th>\n",
       "      <th>type1</th>\n",
       "      <th>type2</th>\n",
       "      <th>weight_kg</th>\n",
       "      <th>generation</th>\n",
       "      <th>is_legendary</th>\n",
       "    </tr>\n",
       "  </thead>\n",
       "  <tbody>\n",
       "    <tr>\n",
       "      <th>0</th>\n",
       "      <td>Bulbasaur</td>\n",
       "      <td>Fushigidaneフシギダネ</td>\n",
       "      <td>['Overgrow', 'Chlorophyll']</td>\n",
       "      <td>1.0</td>\n",
       "      <td>1.0</td>\n",
       "      <td>1.0</td>\n",
       "      <td>0.5</td>\n",
       "      <td>0.5</td>\n",
       "      <td>0.5</td>\n",
       "      <td>2.0</td>\n",
       "      <td>...</td>\n",
       "      <td>88.1</td>\n",
       "      <td>1</td>\n",
       "      <td>65</td>\n",
       "      <td>65</td>\n",
       "      <td>45</td>\n",
       "      <td>grass</td>\n",
       "      <td>poison</td>\n",
       "      <td>6.9</td>\n",
       "      <td>1</td>\n",
       "      <td>0</td>\n",
       "    </tr>\n",
       "    <tr>\n",
       "      <th>1</th>\n",
       "      <td>Ivysaur</td>\n",
       "      <td>Fushigisouフシギソウ</td>\n",
       "      <td>['Overgrow', 'Chlorophyll']</td>\n",
       "      <td>1.0</td>\n",
       "      <td>1.0</td>\n",
       "      <td>1.0</td>\n",
       "      <td>0.5</td>\n",
       "      <td>0.5</td>\n",
       "      <td>0.5</td>\n",
       "      <td>2.0</td>\n",
       "      <td>...</td>\n",
       "      <td>88.1</td>\n",
       "      <td>2</td>\n",
       "      <td>80</td>\n",
       "      <td>80</td>\n",
       "      <td>60</td>\n",
       "      <td>grass</td>\n",
       "      <td>poison</td>\n",
       "      <td>13.0</td>\n",
       "      <td>1</td>\n",
       "      <td>0</td>\n",
       "    </tr>\n",
       "    <tr>\n",
       "      <th>2</th>\n",
       "      <td>Venusaur</td>\n",
       "      <td>Fushigibanaフシギバナ</td>\n",
       "      <td>['Overgrow', 'Chlorophyll']</td>\n",
       "      <td>1.0</td>\n",
       "      <td>1.0</td>\n",
       "      <td>1.0</td>\n",
       "      <td>0.5</td>\n",
       "      <td>0.5</td>\n",
       "      <td>0.5</td>\n",
       "      <td>2.0</td>\n",
       "      <td>...</td>\n",
       "      <td>88.1</td>\n",
       "      <td>3</td>\n",
       "      <td>122</td>\n",
       "      <td>120</td>\n",
       "      <td>80</td>\n",
       "      <td>grass</td>\n",
       "      <td>poison</td>\n",
       "      <td>100.0</td>\n",
       "      <td>1</td>\n",
       "      <td>0</td>\n",
       "    </tr>\n",
       "    <tr>\n",
       "      <th>3</th>\n",
       "      <td>Charmander</td>\n",
       "      <td>Hitokageヒトカゲ</td>\n",
       "      <td>['Blaze', 'Solar Power']</td>\n",
       "      <td>0.5</td>\n",
       "      <td>1.0</td>\n",
       "      <td>1.0</td>\n",
       "      <td>1.0</td>\n",
       "      <td>0.5</td>\n",
       "      <td>1.0</td>\n",
       "      <td>0.5</td>\n",
       "      <td>...</td>\n",
       "      <td>88.1</td>\n",
       "      <td>4</td>\n",
       "      <td>60</td>\n",
       "      <td>50</td>\n",
       "      <td>65</td>\n",
       "      <td>fire</td>\n",
       "      <td>NaN</td>\n",
       "      <td>8.5</td>\n",
       "      <td>1</td>\n",
       "      <td>0</td>\n",
       "    </tr>\n",
       "    <tr>\n",
       "      <th>4</th>\n",
       "      <td>Charmeleon</td>\n",
       "      <td>Lizardoリザード</td>\n",
       "      <td>['Blaze', 'Solar Power']</td>\n",
       "      <td>0.5</td>\n",
       "      <td>1.0</td>\n",
       "      <td>1.0</td>\n",
       "      <td>1.0</td>\n",
       "      <td>0.5</td>\n",
       "      <td>1.0</td>\n",
       "      <td>0.5</td>\n",
       "      <td>...</td>\n",
       "      <td>88.1</td>\n",
       "      <td>5</td>\n",
       "      <td>80</td>\n",
       "      <td>65</td>\n",
       "      <td>80</td>\n",
       "      <td>fire</td>\n",
       "      <td>NaN</td>\n",
       "      <td>19.0</td>\n",
       "      <td>1</td>\n",
       "      <td>0</td>\n",
       "    </tr>\n",
       "  </tbody>\n",
       "</table>\n",
       "<p>5 rows × 41 columns</p>\n",
       "</div>"
      ],
      "text/plain": [
       "         name     japanese_name                    abilities  against_bug  \\\n",
       "0   Bulbasaur  Fushigidaneフシギダネ  ['Overgrow', 'Chlorophyll']          1.0   \n",
       "1     Ivysaur   Fushigisouフシギソウ  ['Overgrow', 'Chlorophyll']          1.0   \n",
       "2    Venusaur  Fushigibanaフシギバナ  ['Overgrow', 'Chlorophyll']          1.0   \n",
       "3  Charmander      Hitokageヒトカゲ     ['Blaze', 'Solar Power']          0.5   \n",
       "4  Charmeleon       Lizardoリザード     ['Blaze', 'Solar Power']          0.5   \n",
       "\n",
       "   against_dark  against_dragon  against_electric  against_fairy  \\\n",
       "0           1.0             1.0               0.5            0.5   \n",
       "1           1.0             1.0               0.5            0.5   \n",
       "2           1.0             1.0               0.5            0.5   \n",
       "3           1.0             1.0               1.0            0.5   \n",
       "4           1.0             1.0               1.0            0.5   \n",
       "\n",
       "   against_fight  against_fire  ...  percentage_male  pokedex_number  \\\n",
       "0            0.5           2.0  ...             88.1               1   \n",
       "1            0.5           2.0  ...             88.1               2   \n",
       "2            0.5           2.0  ...             88.1               3   \n",
       "3            1.0           0.5  ...             88.1               4   \n",
       "4            1.0           0.5  ...             88.1               5   \n",
       "\n",
       "   sp_attack  sp_defense  speed  type1   type2  weight_kg  generation  \\\n",
       "0         65          65     45  grass  poison        6.9           1   \n",
       "1         80          80     60  grass  poison       13.0           1   \n",
       "2        122         120     80  grass  poison      100.0           1   \n",
       "3         60          50     65   fire     NaN        8.5           1   \n",
       "4         80          65     80   fire     NaN       19.0           1   \n",
       "\n",
       "   is_legendary  \n",
       "0             0  \n",
       "1             0  \n",
       "2             0  \n",
       "3             0  \n",
       "4             0  \n",
       "\n",
       "[5 rows x 41 columns]"
      ]
     },
     "metadata": {},
     "output_type": "display_data"
    }
   ],
   "source": [
    "pokemon.reset_index(inplace=True)\n",
    "\n",
    "# display the tail of pokemon\n",
    "display(pokemon.head())"
   ]
  },
  {
   "cell_type": "markdown",
   "metadata": {},
   "source": [
    "* Import proper package to use regualr expression."
   ]
  },
  {
   "cell_type": "code",
   "execution_count": 10,
   "metadata": {},
   "outputs": [],
   "source": [
    "import re"
   ]
  },
  {
   "cell_type": "markdown",
   "metadata": {},
   "source": [
    "* Extract only alphabets in pokemon.japnese_name.\n",
    "        - First try at japanese_name[0]."
   ]
  },
  {
   "cell_type": "code",
   "execution_count": 11,
   "metadata": {},
   "outputs": [
    {
     "name": "stdout",
     "output_type": "stream",
     "text": [
      "Fushigidaneフシギダネ\n",
      "['Fushigidane']\n"
     ]
    }
   ],
   "source": [
    "jap_name = pokemon.japanese_name[0]\n",
    "\n",
    "english = re.compile('[A-Za-z]+')\n",
    "\n",
    "# print jap_name\n",
    "print(jap_name)\n",
    "\n",
    "# print the answer\n",
    "print(english.findall(jap_name))"
   ]
  },
  {
   "cell_type": "markdown",
   "metadata": {},
   "source": [
    "* 감이 잡혔으니 loop를 통해서 해결해봅시다.\n",
    "    - list의 entry들이 str이 되도록 주의합시다!"
   ]
  },
  {
   "cell_type": "code",
   "execution_count": 12,
   "metadata": {},
   "outputs": [
    {
     "name": "stdout",
     "output_type": "stream",
     "text": [
      "['Fushigidane', 'Fushigisou', 'Fushigibana', 'Hitokage', 'Lizardo']\n"
     ]
    }
   ],
   "source": [
    "# Make empty list : new_japanes_name\n",
    "new_japanese_name = []\n",
    "\n",
    "# Make for loop to solve the problem\n",
    "for jap_name in pokemon.japanese_name:\n",
    "    english = re.compile('[A-Za-z]+')\n",
    "    new_japanese_name.append(english.findall(jap_name)[0])\n",
    "\n",
    "# print the first 5 entries of new_japanese_name\n",
    "print(new_japanese_name[:5])"
   ]
  },
  {
   "cell_type": "markdown",
   "metadata": {},
   "source": [
    "* Change japanese_name column!"
   ]
  },
  {
   "cell_type": "code",
   "execution_count": 13,
   "metadata": {},
   "outputs": [
    {
     "name": "stdout",
     "output_type": "stream",
     "text": [
      "0    Fushigidane\n",
      "1     Fushigisou\n",
      "2    Fushigibana\n",
      "3       Hitokage\n",
      "4        Lizardo\n",
      "Name: japanese_name, dtype: object\n"
     ]
    }
   ],
   "source": [
    "pokemon['japanese_name'] = new_japanese_name\n",
    "\n",
    "# print the head of the pokemon.japanese_name\n",
    "print(pokemon.japanese_name.head())"
   ]
  },
  {
   "cell_type": "markdown",
   "metadata": {},
   "source": [
    "* Set Index by using name, japanese_name in order."
   ]
  },
  {
   "cell_type": "code",
   "execution_count": 14,
   "metadata": {},
   "outputs": [
    {
     "data": {
      "text/html": [
       "<div>\n",
       "<style scoped>\n",
       "    .dataframe tbody tr th:only-of-type {\n",
       "        vertical-align: middle;\n",
       "    }\n",
       "\n",
       "    .dataframe tbody tr th {\n",
       "        vertical-align: top;\n",
       "    }\n",
       "\n",
       "    .dataframe thead th {\n",
       "        text-align: right;\n",
       "    }\n",
       "</style>\n",
       "<table border=\"1\" class=\"dataframe\">\n",
       "  <thead>\n",
       "    <tr style=\"text-align: right;\">\n",
       "      <th></th>\n",
       "      <th></th>\n",
       "      <th>abilities</th>\n",
       "      <th>against_bug</th>\n",
       "      <th>against_dark</th>\n",
       "      <th>against_dragon</th>\n",
       "      <th>against_electric</th>\n",
       "      <th>against_fairy</th>\n",
       "      <th>against_fight</th>\n",
       "      <th>against_fire</th>\n",
       "      <th>against_flying</th>\n",
       "      <th>against_ghost</th>\n",
       "      <th>...</th>\n",
       "      <th>percentage_male</th>\n",
       "      <th>pokedex_number</th>\n",
       "      <th>sp_attack</th>\n",
       "      <th>sp_defense</th>\n",
       "      <th>speed</th>\n",
       "      <th>type1</th>\n",
       "      <th>type2</th>\n",
       "      <th>weight_kg</th>\n",
       "      <th>generation</th>\n",
       "      <th>is_legendary</th>\n",
       "    </tr>\n",
       "    <tr>\n",
       "      <th>name</th>\n",
       "      <th>japanese_name</th>\n",
       "      <th></th>\n",
       "      <th></th>\n",
       "      <th></th>\n",
       "      <th></th>\n",
       "      <th></th>\n",
       "      <th></th>\n",
       "      <th></th>\n",
       "      <th></th>\n",
       "      <th></th>\n",
       "      <th></th>\n",
       "      <th></th>\n",
       "      <th></th>\n",
       "      <th></th>\n",
       "      <th></th>\n",
       "      <th></th>\n",
       "      <th></th>\n",
       "      <th></th>\n",
       "      <th></th>\n",
       "      <th></th>\n",
       "      <th></th>\n",
       "      <th></th>\n",
       "    </tr>\n",
       "  </thead>\n",
       "  <tbody>\n",
       "    <tr>\n",
       "      <th>Celesteela</th>\n",
       "      <th>Tekkaguya</th>\n",
       "      <td>['Beast Boost']</td>\n",
       "      <td>0.25</td>\n",
       "      <td>1.0</td>\n",
       "      <td>0.5</td>\n",
       "      <td>2.0</td>\n",
       "      <td>0.5</td>\n",
       "      <td>1.0</td>\n",
       "      <td>2.0</td>\n",
       "      <td>0.5</td>\n",
       "      <td>1.0</td>\n",
       "      <td>...</td>\n",
       "      <td>NaN</td>\n",
       "      <td>797</td>\n",
       "      <td>107</td>\n",
       "      <td>101</td>\n",
       "      <td>61</td>\n",
       "      <td>steel</td>\n",
       "      <td>flying</td>\n",
       "      <td>999.9</td>\n",
       "      <td>7</td>\n",
       "      <td>1</td>\n",
       "    </tr>\n",
       "    <tr>\n",
       "      <th>Kartana</th>\n",
       "      <th>Kamiturugi</th>\n",
       "      <td>['Beast Boost']</td>\n",
       "      <td>1.00</td>\n",
       "      <td>1.0</td>\n",
       "      <td>0.5</td>\n",
       "      <td>0.5</td>\n",
       "      <td>0.5</td>\n",
       "      <td>2.0</td>\n",
       "      <td>4.0</td>\n",
       "      <td>1.0</td>\n",
       "      <td>1.0</td>\n",
       "      <td>...</td>\n",
       "      <td>NaN</td>\n",
       "      <td>798</td>\n",
       "      <td>59</td>\n",
       "      <td>31</td>\n",
       "      <td>109</td>\n",
       "      <td>grass</td>\n",
       "      <td>steel</td>\n",
       "      <td>0.1</td>\n",
       "      <td>7</td>\n",
       "      <td>1</td>\n",
       "    </tr>\n",
       "    <tr>\n",
       "      <th>Guzzlord</th>\n",
       "      <th>Akuziking</th>\n",
       "      <td>['Beast Boost']</td>\n",
       "      <td>2.00</td>\n",
       "      <td>0.5</td>\n",
       "      <td>2.0</td>\n",
       "      <td>0.5</td>\n",
       "      <td>4.0</td>\n",
       "      <td>2.0</td>\n",
       "      <td>0.5</td>\n",
       "      <td>1.0</td>\n",
       "      <td>0.5</td>\n",
       "      <td>...</td>\n",
       "      <td>NaN</td>\n",
       "      <td>799</td>\n",
       "      <td>97</td>\n",
       "      <td>53</td>\n",
       "      <td>43</td>\n",
       "      <td>dark</td>\n",
       "      <td>dragon</td>\n",
       "      <td>888.0</td>\n",
       "      <td>7</td>\n",
       "      <td>1</td>\n",
       "    </tr>\n",
       "    <tr>\n",
       "      <th>Necrozma</th>\n",
       "      <th>Necrozma</th>\n",
       "      <td>['Prism Armor']</td>\n",
       "      <td>2.00</td>\n",
       "      <td>2.0</td>\n",
       "      <td>1.0</td>\n",
       "      <td>1.0</td>\n",
       "      <td>1.0</td>\n",
       "      <td>0.5</td>\n",
       "      <td>1.0</td>\n",
       "      <td>1.0</td>\n",
       "      <td>2.0</td>\n",
       "      <td>...</td>\n",
       "      <td>NaN</td>\n",
       "      <td>800</td>\n",
       "      <td>127</td>\n",
       "      <td>89</td>\n",
       "      <td>79</td>\n",
       "      <td>psychic</td>\n",
       "      <td>NaN</td>\n",
       "      <td>230.0</td>\n",
       "      <td>7</td>\n",
       "      <td>1</td>\n",
       "    </tr>\n",
       "    <tr>\n",
       "      <th>Magearna</th>\n",
       "      <th>Magearna</th>\n",
       "      <td>['Soul-Heart']</td>\n",
       "      <td>0.25</td>\n",
       "      <td>0.5</td>\n",
       "      <td>0.0</td>\n",
       "      <td>1.0</td>\n",
       "      <td>0.5</td>\n",
       "      <td>1.0</td>\n",
       "      <td>2.0</td>\n",
       "      <td>0.5</td>\n",
       "      <td>1.0</td>\n",
       "      <td>...</td>\n",
       "      <td>NaN</td>\n",
       "      <td>801</td>\n",
       "      <td>130</td>\n",
       "      <td>115</td>\n",
       "      <td>65</td>\n",
       "      <td>steel</td>\n",
       "      <td>fairy</td>\n",
       "      <td>80.5</td>\n",
       "      <td>7</td>\n",
       "      <td>1</td>\n",
       "    </tr>\n",
       "  </tbody>\n",
       "</table>\n",
       "<p>5 rows × 39 columns</p>\n",
       "</div>"
      ],
      "text/plain": [
       "                                abilities  against_bug  against_dark  \\\n",
       "name       japanese_name                                               \n",
       "Celesteela Tekkaguya      ['Beast Boost']         0.25           1.0   \n",
       "Kartana    Kamiturugi     ['Beast Boost']         1.00           1.0   \n",
       "Guzzlord   Akuziking      ['Beast Boost']         2.00           0.5   \n",
       "Necrozma   Necrozma       ['Prism Armor']         2.00           2.0   \n",
       "Magearna   Magearna        ['Soul-Heart']         0.25           0.5   \n",
       "\n",
       "                          against_dragon  against_electric  against_fairy  \\\n",
       "name       japanese_name                                                    \n",
       "Celesteela Tekkaguya                 0.5               2.0            0.5   \n",
       "Kartana    Kamiturugi                0.5               0.5            0.5   \n",
       "Guzzlord   Akuziking                 2.0               0.5            4.0   \n",
       "Necrozma   Necrozma                  1.0               1.0            1.0   \n",
       "Magearna   Magearna                  0.0               1.0            0.5   \n",
       "\n",
       "                          against_fight  against_fire  against_flying  \\\n",
       "name       japanese_name                                                \n",
       "Celesteela Tekkaguya                1.0           2.0             0.5   \n",
       "Kartana    Kamiturugi               2.0           4.0             1.0   \n",
       "Guzzlord   Akuziking                2.0           0.5             1.0   \n",
       "Necrozma   Necrozma                 0.5           1.0             1.0   \n",
       "Magearna   Magearna                 1.0           2.0             0.5   \n",
       "\n",
       "                          against_ghost  ...  percentage_male  pokedex_number  \\\n",
       "name       japanese_name                 ...                                    \n",
       "Celesteela Tekkaguya                1.0  ...              NaN             797   \n",
       "Kartana    Kamiturugi               1.0  ...              NaN             798   \n",
       "Guzzlord   Akuziking                0.5  ...              NaN             799   \n",
       "Necrozma   Necrozma                 2.0  ...              NaN             800   \n",
       "Magearna   Magearna                 1.0  ...              NaN             801   \n",
       "\n",
       "                          sp_attack  sp_defense  speed    type1   type2  \\\n",
       "name       japanese_name                                                  \n",
       "Celesteela Tekkaguya            107         101     61    steel  flying   \n",
       "Kartana    Kamiturugi            59          31    109    grass   steel   \n",
       "Guzzlord   Akuziking             97          53     43     dark  dragon   \n",
       "Necrozma   Necrozma             127          89     79  psychic     NaN   \n",
       "Magearna   Magearna             130         115     65    steel   fairy   \n",
       "\n",
       "                          weight_kg  generation  is_legendary  \n",
       "name       japanese_name                                       \n",
       "Celesteela Tekkaguya          999.9           7             1  \n",
       "Kartana    Kamiturugi           0.1           7             1  \n",
       "Guzzlord   Akuziking          888.0           7             1  \n",
       "Necrozma   Necrozma           230.0           7             1  \n",
       "Magearna   Magearna            80.5           7             1  \n",
       "\n",
       "[5 rows x 39 columns]"
      ]
     },
     "metadata": {},
     "output_type": "display_data"
    }
   ],
   "source": [
    "pokemon.set_index(['name', 'japanese_name'], inplace=True)\n",
    "\n",
    "# display the tail of the pokemon\n",
    "display(pokemon.tail())"
   ]
  },
  {
   "cell_type": "markdown",
   "metadata": {},
   "source": [
    "-----------------------------------------\n",
    "#### 3. Plotting!"
   ]
  },
  {
   "cell_type": "markdown",
   "metadata": {},
   "source": [
    "* Frequency of type1 column with bar chart"
   ]
  },
  {
   "cell_type": "code",
   "execution_count": 15,
   "metadata": {},
   "outputs": [
    {
     "name": "stdout",
     "output_type": "stream",
     "text": [
      "water       114\n",
      "normal      105\n",
      "grass        78\n",
      "bug          72\n",
      "psychic      53\n",
      "fire         52\n",
      "rock         45\n",
      "electric     39\n",
      "ground       32\n",
      "poison       32\n",
      "dark         29\n",
      "fighting     28\n",
      "ghost        27\n",
      "dragon       27\n",
      "steel        24\n",
      "ice          23\n",
      "fairy        18\n",
      "flying        3\n",
      "Name: type1, dtype: int64\n"
     ]
    }
   ],
   "source": [
    "# print value_counts of type1\n",
    "print(pokemon.type1.value_counts())"
   ]
  },
  {
   "cell_type": "markdown",
   "metadata": {},
   "source": [
    "* Make Bar plot of type1\n",
    "    - Horizontal bar plot\n",
    "    - Descending sort\n",
    "    - title : Counts of type1\n",
    "    - xlabel : Frequency\n",
    "    - ylabel : types\n",
    "    - color = Using type_color"
   ]
  },
  {
   "cell_type": "code",
   "execution_count": 16,
   "metadata": {},
   "outputs": [],
   "source": [
    "type_color = {'water':'#6890F0', 'normal':'#A8A878', 'grass':'#78C850',\n",
    "              'bug':'#A8B820', 'psychic':'#F85888', 'fire':'#F08030',\n",
    "              'rock':'#B8A038', 'electric':'#F8D030', 'ground':'#E0C068',\n",
    "              'poison':'#990099', 'dark':'#705848', 'fighting':'#C03028',\n",
    "             'ghost':'#660099', 'dragon':'#7038F8', 'steel':'#705898',\n",
    "              'ice':'#98D8D8', 'fairy':'#EE99AC', 'flying':'#A890F0', np.NaN:'#68A090'}"
   ]
  },
  {
   "cell_type": "code",
   "execution_count": 17,
   "metadata": {},
   "outputs": [
    {
     "data": {
      "image/png": "[encoded data removed]",
      "text/plain": [
       "<Figure size 432x288 with 1 Axes>"
      ]
     },
     "metadata": {
      "needs_background": "light"
     },
     "output_type": "display_data"
    }
   ],
   "source": [
    "# make bar plot of type1\n",
    "my_color = [type_color[key] for key in pokemon.type1.value_counts().sort_values().index]\n",
    "pokemon.type1.value_counts().sort_values().plot.barh(color=my_color)\n",
    "plt.title('Counts of type1')\n",
    "plt.xlabel('Frequency')\n",
    "plt.ylabel('types')\n",
    "plt.show()"
   ]
  },
  {
   "cell_type": "markdown",
   "metadata": {},
   "source": [
    "------------------------------------------------\n",
    "* Make Bar plot of combination of type1 and type2\n",
    "    - Descending sort\n",
    "    - title : Counts of type1\n",
    "    - xlabel : Frequency\n",
    "    - ylabel : types\n",
    "    - color = Using type_color"
   ]
  },
  {
   "cell_type": "code",
   "execution_count": 18,
   "metadata": {},
   "outputs": [
    {
     "name": "stdout",
     "output_type": "stream",
     "text": [
      "type1  type2 \n",
      "bug    NaN       18\n",
      "       flying    13\n",
      "       poison    11\n",
      "       grass      6\n",
      "       steel      5\n",
      "Name: type2, dtype: int64\n"
     ]
    }
   ],
   "source": [
    "print(pokemon.groupby('type1').type2.value_counts(dropna=False).head())"
   ]
  },
  {
   "cell_type": "markdown",
   "metadata": {},
   "source": [
    "* 각 type1별로 type2에 대한 bar plot을 그리세요.\n",
    "    - Using plt.subplot()"
   ]
  },
  {
   "cell_type": "code",
   "execution_count": 19,
   "metadata": {},
   "outputs": [
    {
     "name": "stdout",
     "output_type": "stream",
     "text": [
      "type2\n",
      "ghost       1\n",
      "fighting    2\n",
      "fire        2\n",
      "steel       2\n",
      "ice         2\n",
      "psychic     2\n",
      "dragon      4\n",
      "flying      5\n",
      "NaN         9\n",
      "Name: type2, dtype: int64\n"
     ]
    }
   ],
   "source": [
    "# Hints\n",
    "type1s = pokemon.groupby('type1').type2.value_counts().sort_values().index.levels[0]\n",
    "sub_series = pokemon.groupby('type1').type2.value_counts(dropna=False).sort_values().loc[type1s[1]]\n",
    "print(sub_series)"
   ]
  },
  {
   "cell_type": "code",
   "execution_count": 20,
   "metadata": {},
   "outputs": [
    {
     "data": {
      "image/png": "[encoded data removed]",
      "text/plain": [
       "<Figure size 1800x1080 with 18 Axes>"
      ]
     },
     "metadata": {
      "needs_background": "light"
     },
     "output_type": "display_data"
    }
   ],
   "source": [
    "# try your code\n",
    "type1s = pokemon.groupby('type1').type2.value_counts(dropna=False).sort_values().index.levels[0]\n",
    "\n",
    "# plt rcParams Setting\n",
    "fig_default = plt.rcParams.get('figure.figsize')\n",
    "plt.rcParams['figure.figsize'] = [25, 15]\n",
    "\n",
    "# for loop\n",
    "for key, type1 in enumerate(type1s):\n",
    "    sub_series = pokemon.groupby('type1').type2.value_counts(dropna=False).sort_values().loc[type1]\n",
    "    mycolor = [type_color[key] for key in sub_series.index]\n",
    "    title = \"type1 : \" + type1\n",
    "    \n",
    "    plt.subplot(3, 6, key+1)\n",
    "    sub_series.plot(kind='barh', color = mycolor)\n",
    "    plt.title(title)\n",
    "    plt.xlabel('Frequency')\n",
    "\n",
    "plt.show()"
   ]
  },
  {
   "cell_type": "markdown",
   "metadata": {},
   "source": [
    "* 풀, 풀 타입을 가진 포켓몬을 찾아봅시다."
   ]
  },
  {
   "cell_type": "code",
   "execution_count": 21,
   "metadata": {},
   "outputs": [
    {
     "data": {
      "text/html": [
       "<div>\n",
       "<style scoped>\n",
       "    .dataframe tbody tr th:only-of-type {\n",
       "        vertical-align: middle;\n",
       "    }\n",
       "\n",
       "    .dataframe tbody tr th {\n",
       "        vertical-align: top;\n",
       "    }\n",
       "\n",
       "    .dataframe thead th {\n",
       "        text-align: right;\n",
       "    }\n",
       "</style>\n",
       "<table border=\"1\" class=\"dataframe\">\n",
       "  <thead>\n",
       "    <tr style=\"text-align: right;\">\n",
       "      <th></th>\n",
       "      <th></th>\n",
       "      <th>abilities</th>\n",
       "      <th>against_bug</th>\n",
       "      <th>against_dark</th>\n",
       "      <th>against_dragon</th>\n",
       "      <th>against_electric</th>\n",
       "      <th>against_fairy</th>\n",
       "      <th>against_fight</th>\n",
       "      <th>against_fire</th>\n",
       "      <th>against_flying</th>\n",
       "      <th>against_ghost</th>\n",
       "      <th>...</th>\n",
       "      <th>percentage_male</th>\n",
       "      <th>pokedex_number</th>\n",
       "      <th>sp_attack</th>\n",
       "      <th>sp_defense</th>\n",
       "      <th>speed</th>\n",
       "      <th>type1</th>\n",
       "      <th>type2</th>\n",
       "      <th>weight_kg</th>\n",
       "      <th>generation</th>\n",
       "      <th>is_legendary</th>\n",
       "    </tr>\n",
       "    <tr>\n",
       "      <th>name</th>\n",
       "      <th>japanese_name</th>\n",
       "      <th></th>\n",
       "      <th></th>\n",
       "      <th></th>\n",
       "      <th></th>\n",
       "      <th></th>\n",
       "      <th></th>\n",
       "      <th></th>\n",
       "      <th></th>\n",
       "      <th></th>\n",
       "      <th></th>\n",
       "      <th></th>\n",
       "      <th></th>\n",
       "      <th></th>\n",
       "      <th></th>\n",
       "      <th></th>\n",
       "      <th></th>\n",
       "      <th></th>\n",
       "      <th></th>\n",
       "      <th></th>\n",
       "      <th></th>\n",
       "      <th></th>\n",
       "    </tr>\n",
       "  </thead>\n",
       "  <tbody>\n",
       "    <tr>\n",
       "      <th>Shaymin</th>\n",
       "      <th>Shaymin</th>\n",
       "      <td>['Natural Cure', 'Serene Grace']</td>\n",
       "      <td>2.0</td>\n",
       "      <td>1.0</td>\n",
       "      <td>1.0</td>\n",
       "      <td>0.5</td>\n",
       "      <td>1.0</td>\n",
       "      <td>1.0</td>\n",
       "      <td>2.0</td>\n",
       "      <td>2.0</td>\n",
       "      <td>1.0</td>\n",
       "      <td>...</td>\n",
       "      <td>NaN</td>\n",
       "      <td>492</td>\n",
       "      <td>120</td>\n",
       "      <td>75</td>\n",
       "      <td>127</td>\n",
       "      <td>grass</td>\n",
       "      <td>grass</td>\n",
       "      <td>2.1</td>\n",
       "      <td>4</td>\n",
       "      <td>1</td>\n",
       "    </tr>\n",
       "  </tbody>\n",
       "</table>\n",
       "<p>1 rows × 39 columns</p>\n",
       "</div>"
      ],
      "text/plain": [
       "                                              abilities  against_bug  \\\n",
       "name    japanese_name                                                  \n",
       "Shaymin Shaymin        ['Natural Cure', 'Serene Grace']          2.0   \n",
       "\n",
       "                       against_dark  against_dragon  against_electric  \\\n",
       "name    japanese_name                                                   \n",
       "Shaymin Shaymin                 1.0             1.0               0.5   \n",
       "\n",
       "                       against_fairy  against_fight  against_fire  \\\n",
       "name    japanese_name                                               \n",
       "Shaymin Shaymin                  1.0            1.0           2.0   \n",
       "\n",
       "                       against_flying  against_ghost  ...  percentage_male  \\\n",
       "name    japanese_name                                 ...                    \n",
       "Shaymin Shaymin                   2.0            1.0  ...              NaN   \n",
       "\n",
       "                       pokedex_number  sp_attack  sp_defense  speed  type1  \\\n",
       "name    japanese_name                                                        \n",
       "Shaymin Shaymin                   492        120          75    127  grass   \n",
       "\n",
       "                       type2  weight_kg  generation  is_legendary  \n",
       "name    japanese_name                                              \n",
       "Shaymin Shaymin        grass        2.1           4             1  \n",
       "\n",
       "[1 rows x 39 columns]"
      ]
     },
     "execution_count": 21,
     "metadata": {},
     "output_type": "execute_result"
    }
   ],
   "source": [
    "pokemon.loc[(pokemon.type1 == 'grass')&(pokemon.type2 == 'grass')]"
   ]
  },
  {
   "cell_type": "markdown",
   "metadata": {},
   "source": [
    "* 각 타입별로 중첩된 타입을 가진 포켓몬들을 모두 찾아봅시다. \n",
    "    - ex) 풀, 풀 타입"
   ]
  },
  {
   "cell_type": "code",
   "execution_count": 22,
   "metadata": {},
   "outputs": [
    {
     "data": {
      "text/plain": [
       "name        japanese_name\n",
       "Raichu      Raichu           electric\n",
       "Diglett     Digda              ground\n",
       "Dugtrio     Dugtrio            ground\n",
       "Grimer      Betbeter           poison\n",
       "Muk         Betbeton           poison\n",
       "Shaymin     Shaymin             grass\n",
       "Darmanitan  Hihidaruma           fire\n",
       "Name: type1, dtype: object"
      ]
     },
     "metadata": {},
     "output_type": "display_data"
    }
   ],
   "source": [
    "display(pokemon[pokemon.type1 == pokemon.type2]['type1'])"
   ]
  },
  {
   "cell_type": "markdown",
   "metadata": {},
   "source": [
    "---------------------------------------------------\n",
    "* The frequency of hit points(hp) using a line chart."
   ]
  },
  {
   "cell_type": "code",
   "execution_count": 23,
   "metadata": {},
   "outputs": [
    {
     "name": "stdout",
     "output_type": "stream",
     "text": [
      "[6.0, 4.0]\n"
     ]
    },
    {
     "data": {
      "image/png": "[encoded data removed]",
      "text/plain": [
       "<Figure size 432x288 with 1 Axes>"
      ]
     },
     "metadata": {
      "needs_background": "light"
     },
     "output_type": "display_data"
    }
   ],
   "source": [
    "print(fig_default)\n",
    "plt.rcParams['figure.figsize'] = fig_default\n",
    "pokemon.hp.plot()\n",
    "plt.xticks([])\n",
    "plt.xlabel(\"\")\n",
    "plt.show()"
   ]
  },
  {
   "cell_type": "markdown",
   "metadata": {},
   "source": [
    "It looks like dirty.  \n",
    "* Sort hp columns with descending then plot again.  \n",
    "what about this?\n",
    "    - plt.axvline(x=30, color='red)\n",
    "    - plt.axvline(x=780, color = 'yellowgreen')"
   ]
  },
  {
   "cell_type": "code",
   "execution_count": 24,
   "metadata": {},
   "outputs": [
    {
     "data": {
      "image/png": "[encoded data removed]",
      "text/plain": [
       "<Figure size 432x288 with 1 Axes>"
      ]
     },
     "metadata": {
      "needs_background": "light"
     },
     "output_type": "display_data"
    }
   ],
   "source": [
    "pokemon.hp.sort_values(ascending=False).plot()\n",
    "plt.xticks([])\n",
    "plt.xlabel(\"\")\n",
    "plt.axvline(x=30, color = 'red')\n",
    "plt.axvline(x=780, color = 'yellowgreen')\n",
    "plt.show()"
   ]
  },
  {
   "cell_type": "markdown",
   "metadata": {},
   "source": [
    "cool!"
   ]
  },
  {
   "cell_type": "markdown",
   "metadata": {},
   "source": [
    "* Let's See top 30 pokemons."
   ]
  },
  {
   "cell_type": "code",
   "execution_count": 25,
   "metadata": {},
   "outputs": [
    {
     "data": {
      "text/plain": [
       "name        japanese_name\n",
       "Blissey     Happinas         255\n",
       "Chansey     Lucky            250\n",
       "Guzzlord    Akuziking        223\n",
       "Zygarde     Zygarde          216\n",
       "Wobbuffet   Sonans           190\n",
       "Wailord     Whaloh           170\n",
       "Alomomola   Mamanbou         165\n",
       "Snorlax     Kabigon          160\n",
       "Slaking     Kekking          150\n",
       "Giratina    Giratina         150\n",
       "Drifblim    Fuwaride         150\n",
       "Hariyama    Hariteyama       144\n",
       "Wigglytuff  Pukurin          140\n",
       "Lunala      Lunala           137\n",
       "Solgaleo    Solgaleo         137\n",
       "Munchlax    Gonbe            135\n",
       "Lapras      Laplace          130\n",
       "Vaporeon    Showers          130\n",
       "Wailmer     Hoeruko          130\n",
       "Xerneas     Xerneas          126\n",
       "Yveltal     Yveltal          126\n",
       "Lanturn     Lantern          125\n",
       "Kyurem      Kyurem           125\n",
       "Aurorus     Amaruruga        123\n",
       "Gogoat      Gogoat           123\n",
       "Throh       Nageki           120\n",
       "Arceus      Arceus           120\n",
       "Bewear      Kiteruguma       120\n",
       "Cresselia   Cresselia        120\n",
       "Musharna    Musharna         116\n",
       "Name: hp, dtype: int64"
      ]
     },
     "execution_count": 25,
     "metadata": {},
     "output_type": "execute_result"
    }
   ],
   "source": [
    "pokemon.hp.sort_values(ascending=False)[:30]"
   ]
  },
  {
   "cell_type": "markdown",
   "metadata": {},
   "source": [
    "* Let's see pokemons below the green line."
   ]
  },
  {
   "cell_type": "code",
   "execution_count": 26,
   "metadata": {},
   "outputs": [
    {
     "data": {
      "text/plain": [
       "name       japanese_name\n",
       "Combee     Mitsuhoney       30\n",
       "Shellder   Shellder         30\n",
       "Rattata    Koratta          30\n",
       "Nosepass   Nosepass         30\n",
       "Horsea     Tattu            30\n",
       "Venipede   Fushide          30\n",
       "Sunkern    Himanuts         30\n",
       "Gastly     Ghos             30\n",
       "Kabuto     Kabuto           30\n",
       "Ralts      Ralts            28\n",
       "Abra       Casey            25\n",
       "Wimpod     Kosokumushi      25\n",
       "Magnemite  Coil             25\n",
       "Duskull    Yomawaru         20\n",
       "Magikarp   Koiking          20\n",
       "Pichu      Pichu            20\n",
       "Feebas     Hinbass          20\n",
       "Shuckle    Tsubotsubo       20\n",
       "Mime Jr.   Manene           20\n",
       "Diglett    Digda            10\n",
       "Shedinja   Nukenin           1\n",
       "Name: hp, dtype: int64"
      ]
     },
     "execution_count": 26,
     "metadata": {},
     "output_type": "execute_result"
    }
   ],
   "source": [
    "pokemon.hp.sort_values(ascending=False)[780:]"
   ]
  },
  {
   "cell_type": "markdown",
   "metadata": {},
   "source": [
    "------------------------\n",
    "* Make scatter plot of height and weight\n",
    "    - x : height_m, y : weight_kg\n",
    "    - title : Pokemon Height vs. Weight\n",
    "    - xlabel : Height (M)\n",
    "    - yalbel : Weight (Kg)"
   ]
  },
  {
   "cell_type": "code",
   "execution_count": 27,
   "metadata": {},
   "outputs": [
    {
     "data": {
      "image/png": "[encoded data removed]",
      "text/plain": [
       "<Figure size 432x288 with 1 Axes>"
      ]
     },
     "metadata": {
      "needs_background": "light"
     },
     "output_type": "display_data"
    }
   ],
   "source": [
    "plt.scatter(pokemon.height_m, pokemon.weight_kg)\n",
    "plt.title(\"Pokemon Height vs. Weight\")\n",
    "plt.xlabel(\"Height (M)\")\n",
    "plt.ylabel(\"Wegith (Kg)\")\n",
    "plt.show()"
   ]
  },
  {
   "cell_type": "markdown",
   "metadata": {},
   "source": [
    "* 위의 코드로는 심심하니까 레전더리 포켓몬과 일반 포켓몬 간에 색깔을 다르게 줍시다.\n",
    "    - argument : c = pokemon.is_legendary, cmap = plt.cm.get_cmap('winter, 2), alpha = 0.5\n",
    "    - plt.colorbar()"
   ]
  },
  {
   "cell_type": "code",
   "execution_count": 28,
   "metadata": {},
   "outputs": [
    {
     "data": {
      "image/png": "[encoded data removed]",
      "text/plain": [
       "<Figure size 432x288 with 2 Axes>"
      ]
     },
     "metadata": {
      "needs_background": "light"
     },
     "output_type": "display_data"
    }
   ],
   "source": [
    "plt.scatter(pokemon.height_m, pokemon.weight_kg, c=pokemon.is_legendary, cmap=plt.cm.get_cmap('winter', 2), alpha = 0.5)\n",
    "plt.title(\"Pokemon Height vs. Weight\")\n",
    "plt.xlabel(\"Height (M)\")\n",
    "plt.ylabel(\"Wegith (Kg)\")\n",
    "plt.colorbar()\n",
    "plt.show()"
   ]
  },
  {
   "cell_type": "markdown",
   "metadata": {},
   "source": [
    "아름다움!"
   ]
  },
  {
   "cell_type": "markdown",
   "metadata": {},
   "source": [
    "--------------------------------\n",
    "* Let's Calculate pokemon BMI\n",
    "    - BMI : weight_kg / (height_m)^2"
   ]
  },
  {
   "cell_type": "code",
   "execution_count": 29,
   "metadata": {},
   "outputs": [
    {
     "name": "stdout",
     "output_type": "stream",
     "text": [
      "name        japanese_name\n",
      "Bulbasaur   Fushigidane      14.081633\n",
      "Ivysaur     Fushigisou       13.000000\n",
      "Venusaur    Fushigibana      25.000000\n",
      "Charmander  Hitokage         23.611111\n",
      "Charmeleon  Lizardo          15.702479\n",
      "dtype: float64\n",
      "20\n"
     ]
    }
   ],
   "source": [
    "pokemon_BMI = pokemon.weight_kg/(pokemon.height_m**2)\n",
    "\n",
    "# print the head of pokemon_BMI\n",
    "print(pokemon_BMI.head())\n",
    "\n",
    "# print the number of nan in pokemon_BMI\n",
    "print(pokemon_BMI.isnull().sum())"
   ]
  },
  {
   "cell_type": "markdown",
   "metadata": {},
   "source": [
    "* BMI가 높을 수록 hit point도 높을까요?\n",
    "    - make scatter plot.\n",
    "    - Nan이 있으니 이를 drop하시오."
   ]
  },
  {
   "cell_type": "code",
   "execution_count": 30,
   "metadata": {},
   "outputs": [
    {
     "data": {
      "image/png": "[encoded data removed]",
      "text/plain": [
       "<Figure size 432x288 with 1 Axes>"
      ]
     },
     "metadata": {
      "needs_background": "light"
     },
     "output_type": "display_data"
    }
   ],
   "source": [
    "plt.scatter(pokemon_BMI, pokemon.hp)\n",
    "plt.show()"
   ]
  },
  {
   "cell_type": "markdown",
   "metadata": {},
   "source": [
    "한 친구가 문제입니다.  \n",
    "* Cosmoem을 확인해보세요."
   ]
  },
  {
   "cell_type": "code",
   "execution_count": 31,
   "metadata": {},
   "outputs": [
    {
     "name": "stdout",
     "output_type": "stream",
     "text": [
      "               height_m  weight_kg\n",
      "japanese_name                     \n",
      "Cosmovum            0.1      999.9\n",
      "japanese_name\n",
      "Cosmovum    99990.0\n",
      "dtype: float64\n"
     ]
    }
   ],
   "source": [
    "# print 'Cosmoem' row of pokemon\n",
    "print(pokemon.loc['Cosmoem', ['height_m', 'weight_kg']])\n",
    "\n",
    "# print 'Cosmoem' row of pokemon_BMI\n",
    "print(pokemon_BMI['Cosmoem'])"
   ]
  },
  {
   "cell_type": "markdown",
   "metadata": {},
   "source": [
    "* cosmoem을 제외하고 다시 해보세요.\n",
    "    - title : BMI vs. HP\n",
    "    - xlabel : BMI\n",
    "    - ylabel : HP"
   ]
  },
  {
   "cell_type": "code",
   "execution_count": 33,
   "metadata": {},
   "outputs": [
    {
     "data": {
      "image/png": "[encoded data removed]",
      "text/plain": [
       "<Figure size 432x288 with 1 Axes>"
      ]
     },
     "metadata": {
      "needs_background": "light"
     },
     "output_type": "display_data"
    }
   ],
   "source": [
    "names = pokemon_BMI.drop('Cosmoem').dropna().reset_index().name\n",
    "plt.scatter(pokemon_BMI.loc[names], pokemon.loc[names, 'hp'])\n",
    "plt.title('BMI vs. HP')\n",
    "plt.xlabel('BMI')\n",
    "plt.ylabel('HP')\n",
    "plt.show()"
   ]
  },
  {
   "cell_type": "markdown",
   "metadata": {},
   "source": [
    "* 레전더리 포켓몬과 일반 포켓몬 색깔을 다르게 줘서 다시 해봅시다."
   ]
  },
  {
   "cell_type": "code",
   "execution_count": 34,
   "metadata": {},
   "outputs": [
    {
     "data": {
      "image/png": "[encoded data removed]",
      "text/plain": [
       "<Figure size 432x288 with 2 Axes>"
      ]
     },
     "metadata": {
      "needs_background": "light"
     },
     "output_type": "display_data"
    }
   ],
   "source": [
    "plt.scatter(pokemon_BMI.loc[names], pokemon.loc[names, 'hp'], c=pokemon.loc[names].is_legendary, cmap=plt.cm.get_cmap('winter', 2), alpha = 0.5)\n",
    "plt.title('BMI vs. HP')\n",
    "plt.xlabel('BMI')\n",
    "plt.ylabel('HP')\n",
    "plt.colorbar()\n",
    "plt.show()"
   ]
  },
  {
   "cell_type": "markdown",
   "metadata": {},
   "source": [
    "Pokemon Party는 여기까지입니다.  \n",
    "다음에 더 괜찮은 Party로 찾아보도록 하겠습니다.  \n",
    "고생하셨습니다.\n",
    "\n",
    "### END"
   ]
  }
 ],
 "metadata": {
  "kernelspec": {
   "display_name": "Python 3",
   "language": "python",
   "name": "python3"
  },
  "language_info": {
   "codemirror_mode": {
    "name": "ipython",
    "version": 3
   },
   "file_extension": ".py",
   "mimetype": "text/x-python",
   "name": "python",
   "nbconvert_exporter": "python",
   "pygments_lexer": "ipython3",
   "version": "3.6.5"
  }
 },
 "nbformat": 4,
 "nbformat_minor": 4
}
