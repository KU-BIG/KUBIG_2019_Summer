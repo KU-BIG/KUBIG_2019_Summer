{
 "cells": [
  {
   "cell_type": "markdown",
   "metadata": {},
   "source": [
    "## STAT323 Party!\n",
    "- 오늘은 2018-1 최태련 교수님의 통계계산방법의 과제들을 풀어보는 시간입니다.\n",
    "- 다만 python으로 말이죠!"
   ]
  },
  {
   "cell_type": "markdown",
   "metadata": {},
   "source": [
    "### 1. Standard normal distribution\n",
    "함수 $f(x) = \\frac{1}{\\sqrt{2\\pi}}e^{-\\frac{1}{2}x^{2}}$에 대하여, 0 근방에서의 Taylor 급수를 $f(x) = \\sum^{\\infty}_{n=0}a_{n}x^{n}$이라고 하면, $F(x)=\\int^{x}_{0}f(t)dt$는 다음과 같이 표현된다.  \n",
    "$$F(x)=\\int^{x}_{0}f(t)dt=\\sum^{\\infty}_{n=0}a_{n}\\frac{x^{n+1}}{n+1}$$"
   ]
  },
  {
   "cell_type": "markdown",
   "metadata": {},
   "source": [
    "#### a)\n",
    "F(x)를 계산하는 사용자 정의 함수를 Python으로 구현하고 F(1)을 계산하시오. 아울러, Python의 내장 함수(예, scipy.stats.norm.cdf())를 이용하여 계산한 F(1)의 값과 사용자 정의 함수를 이용하여 계산한 F(1)과 비교하시오.  "
   ]
  },
  {
   "cell_type": "markdown",
   "metadata": {},
   "source": [
    "* define log factorial function with sterling approximation : log_factorial\n",
    "    - Sterling approximation : https://bit.ly/2yHEY0U\n",
    "    - but we use lgamma function\n",
    "    - R document에 따르며 R의 lfactorial은 lgamma로 부터 나왔다."
   ]
  },
  {
   "cell_type": "code",
   "execution_count": null,
   "metadata": {},
   "outputs": [],
   "source": [
    "# import math, numpy, pandas, scipy.stat, matplotlib.pyplot package\n",
    "\n",
    "\n",
    "# print math.gamma(6)\n",
    "\n",
    "\n",
    "# print math.lgamma(6)\n",
    "\n",
    "\n",
    "# print math.exp(math.lgamma(6))\n"
   ]
  },
  {
   "cell_type": "code",
   "execution_count": null,
   "metadata": {},
   "outputs": [],
   "source": [
    "def log_factorial(n):\n",
    "    if n < 0:\n",
    "        raise ValueError\n",
    "    else :\n",
    "        fn = \n",
    "    return fn"
   ]
  },
  {
   "cell_type": "code",
   "execution_count": null,
   "metadata": {},
   "outputs": [],
   "source": [
    "# print log factorial of 3\n",
    "\n",
    "\n",
    "# print exp(log factorial of 3) with math.exp. Please round!\n",
    "\n",
    "\n",
    "# print 3 factorial with math.factorial\n"
   ]
  },
  {
   "cell_type": "markdown",
   "metadata": {},
   "source": [
    "* define standard normal distribution (CDF) with Taylor expansion. : stn_cdf()\n",
    "* _HINT : standard normal distribution을 0 근방에서의 Taylor 급수를 구해보세요._\n",
    "    - _HINT : $e^{x}$의 Taylor expansion을 활용해보세요._"
   ]
  },
  {
   "cell_type": "code",
   "execution_count": null,
   "metadata": {},
   "outputs": [],
   "source": [
    "def stn_cdf(x, eps = 1e-15, max_iter = 100) :\n",
    "    def temp(x, n) :\n",
    "        numerator = \n",
    "        denominator = \n",
    "        return numerator/denominator\n",
    "\n",
    "    n = 0\n",
    "    sums = 0.5\n",
    "    while abs() > eps :\n",
    "        sums =\n",
    "        n += 1\n",
    "        if n == max_iter : break\n",
    "    return sums"
   ]
  },
  {
   "cell_type": "code",
   "execution_count": null,
   "metadata": {},
   "outputs": [],
   "source": [
    "# print scipy.stats.norm.cdf(1)\n",
    "\n",
    "\n",
    "# print stn_cdf(1)\n"
   ]
  },
  {
   "cell_type": "markdown",
   "metadata": {},
   "source": [
    "* 추신 : 스털링 근사를 소개하였지만, 생각보다 오차가 커서 문제에 포함되지 않았습니다."
   ]
  },
  {
   "cell_type": "markdown",
   "metadata": {},
   "source": [
    "--------------\n",
    "#### b)\n",
    "Python의 numpy.random.normal() 함수를 사용하여, 표준정규분포를 따르는 확률변수 2000개를 생성하고, 이 중 0보다 큰 값을 변수 y에 저장한 후, F(y)값을 갖는 새로운 변수 u를 생성하시오. 이 때, u 에 저장된 값들이 0과 1사이에서의 균등분포를 따르는지 카이제곱 적합도 검정을 통해서 확인하시오.\n"
   ]
  },
  {
   "cell_type": "markdown",
   "metadata": {},
   "source": [
    "* 문제에서 원하는 u변수를 만들어봅시다."
   ]
  },
  {
   "cell_type": "code",
   "execution_count": null,
   "metadata": {},
   "outputs": [],
   "source": [
    "# set random seed : 1111\n",
    "\n",
    "\n",
    "# generate 2000 random variables\n",
    "y1 = \n",
    "\n",
    "# generate y\n",
    "y = \n",
    "\n",
    "# generate u with stn_cdf()\n",
    "\n",
    "\n",
    "# print length of u\n"
   ]
  },
  {
   "cell_type": "markdown",
   "metadata": {},
   "source": [
    "* 카이제곱 적합도 검정을 실시해봅시다.  \n",
    "$$\\chi^{2}(=\\sum \\frac{(obs-E)^{2}}{E})$$\n",
    "    - obs : 각 구간에서 관측된 값의 갯수  \n",
    "    - E : Unifrom(0,1)을 따른다고 가정했을 때, 각 구간에서 관측될 것이라 예상하는 관측치의 갯수"
   ]
  },
  {
   "cell_type": "markdown",
   "metadata": {},
   "source": [
    "* 카이제곱 적합도 검정을 하는 함수를 만들어봅시다.\n",
    "    - 이 함수는 해당 array가 Uniform(u1,u2)를 따르는지 확인해줄겁니다."
   ]
  },
  {
   "cell_type": "code",
   "execution_count": null,
   "metadata": {},
   "outputs": [],
   "source": [
    "def chisq_test_unif(array, u1 = 0, u2 = 1, interval = 10, output=True):\n",
    "    obs = []\n",
    "    check = \n",
    "    for i in range(interval):\n",
    "        obs.append(len(array[(i*check + u1 <= array) &\\\n",
    "                             (array < (i+1)*check + u1)]))\n",
    "    e = np.array()\n",
    "    \n",
    "    chi_square = \n",
    "    p_value = scipy.stats.chi2.sf(chi_square, interval-1)\n",
    "    \n",
    "    if output == True:\n",
    "        print('Chi square score : {}\\np_value : {}'\\\n",
    "              .format(round(, 4), ))\n",
    "    return chi_square, p_value"
   ]
  },
  {
   "cell_type": "code",
   "execution_count": null,
   "metadata": {},
   "outputs": [],
   "source": [
    "# u가 Uniform(0, 1)을 따르는지 확인하시오.\n"
   ]
  },
  {
   "cell_type": "markdown",
   "metadata": {},
   "source": [
    "0에서 1까지의 구간을 총 10개의 구간으로 나누면 각 구간의 기대도수(e)는 0.1*len(u)가 된다.  "
   ]
  },
  {
   "cell_type": "markdown",
   "metadata": {},
   "source": [
    "* Bootstrap으로 카이제곱 통계량들을 구하시오.\n",
    "    - 이를 이용하여 95% CI를 구하시오 : chisqCI_95"
   ]
  },
  {
   "cell_type": "code",
   "execution_count": null,
   "metadata": {},
   "outputs": [],
   "source": [
    "chi_squares = []\n",
    "for _ in range(10000):\n",
    "    # Generate bootstrap sample: bs_sample\n",
    "    bs_sample = np.unique()\n",
    "    chi_squares.append()\n",
    "\n",
    "chisqCI_95 = "
   ]
  },
  {
   "cell_type": "markdown",
   "metadata": {},
   "source": [
    "* Bootstrap을 활용하여 p-value를 구하시오."
   ]
  },
  {
   "cell_type": "code",
   "execution_count": null,
   "metadata": {},
   "outputs": [],
   "source": [
    "chisq = \n",
    "p_value = \n",
    "print('Chi square score : {}\\np_value : {}'\\\n",
    "              .format(round(, 4), ))"
   ]
  },
  {
   "cell_type": "markdown",
   "metadata": {},
   "source": [
    "-------------------\n",
    "#### c)\n",
    "u에 저장된 값들이 0과 1사이에서의 균등분포를 따르지 않는다고 결론을 내린다면, Uniform(1/2,1) 을 따르는지 확인하시오. 아울러, Uniform(1/2,1)을 따르는 1000개의 난수값을 사용자 정의 함수를 통해 생성하고, 생성된 1000개의 값이 서로 독립인지 시각적 방법으로 확인하시오.\n"
   ]
  },
  {
   "cell_type": "markdown",
   "metadata": {},
   "source": [
    "* u가 Uniform(0.5, 1)을 따르는지 카이제곱 검정을 통해서 확인하시오."
   ]
  },
  {
   "cell_type": "code",
   "execution_count": null,
   "metadata": {},
   "outputs": [],
   "source": []
  },
  {
   "cell_type": "markdown",
   "metadata": {},
   "source": [
    "* Uniform(0.5, 1)을 따르는 1000개의 난수값을 사용자 정의 함수를 통해 생성하시오."
   ]
  },
  {
   "cell_type": "markdown",
   "metadata": {},
   "source": [
    "#### 선형합동생성기(Linear congruential Generator)\n",
    "아래의 설명은 최태련 교수님의 STAT323 chapter2 강의노트에 수록되어있습니다.\n",
    "$$ x_{n} = ax_{n-1} + c \\quad (\\textrm{mod }m), \\quad n=1,2,3,...$$\n",
    "- $x_{0}(< m)$, $a(< m)$, $c(< m)$은 양의 정수\n",
    "- $m(>0)$은 순환주기를 결정하는 양의 정수\n",
    "- $\\textrm{mod }m$은 m으로 나누었을 때의 나머지\n",
    "- $ax_{n-1}+c$의 연산 결과값을 양의 정수 m으로 나눈 나머지값이 $x_{n+1}$  \n",
    "\n",
    "이러한 방법(선형합동수열)을 이용한 난수생성기가 선형합동생성기라고 한다."
   ]
  },
  {
   "cell_type": "markdown",
   "metadata": {},
   "source": [
    "* 위에서 소개된 선형합동생성기를 통하여 Uniform(u1,u2)를 따르는 난수를 생성하는 함수를 만들어보자.\n",
    "    - 함수 내에서 seed에 의해 구성된 수는 제외하세요. (첫번째 요소 제외하고 출력)"
   ]
  },
  {
   "cell_type": "code",
   "execution_count": null,
   "metadata": {},
   "outputs": [],
   "source": [
    "def runif(size, u1 = 0, u2 = 1, a = 171, c = 0, m = 20269, seed=\"\"):\n",
    "    if seed == \"\" :\n",
    "        seed = np.random.randint(1, high=99999999, size=1)\n",
    "    x = [seed]\n",
    "    for i in range(size):\n",
    "        temp = \n",
    "        _____\n",
    "    return (____)*np.array(___)/(__) + __"
   ]
  },
  {
   "cell_type": "markdown",
   "metadata": {},
   "source": [
    "* runif를 통해서 Uniform(0.5, 1)을 따르는 난수 a를 생성하고, 카이제곱 검정을 실시하시오."
   ]
  },
  {
   "cell_type": "code",
   "execution_count": null,
   "metadata": {},
   "outputs": [],
   "source": []
  },
  {
   "cell_type": "markdown",
   "metadata": {},
   "source": [
    "* 위의 과정을 Bootstrap을 이용하여 다시 진행하시오."
   ]
  },
  {
   "cell_type": "code",
   "execution_count": null,
   "metadata": {},
   "outputs": [],
   "source": [
    "chi_squares = []\n",
    "for _ in range(10000):\n",
    "    # Generate bootstrap sample: bs_sample\n",
    "    \n",
    "    \n",
    "# print 95% CI of chi_square\n",
    "\n",
    "\n",
    "# print chi square statistic with chisq_test_unif and bootstrap p-value\n",
    "chisq = \n",
    "p_value = \n",
    "print('Chi square score : {}\\np_value : {}'\\\n",
    "              .format(round(chisq, 4), p_value))"
   ]
  },
  {
   "cell_type": "markdown",
   "metadata": {},
   "source": [
    "* 생성된 100개의 난수가 서로 독립인지 시각적인 방법으로 확인하시오.\n",
    "    - scatter plot, s = 0.7\n",
    "    - xlabel : 'a[:-1]'\n",
    "    - ylabel : 'a[1:]'"
   ]
  },
  {
   "cell_type": "code",
   "execution_count": null,
   "metadata": {},
   "outputs": [],
   "source": []
  },
  {
   "cell_type": "markdown",
   "metadata": {},
   "source": [
    "-------------------\n",
    "#### d)\n",
    "$g_{n}(x)$라는 함수를 다음과 같이 정의하고,\n",
    "$$\n",
    "g_{n}(x)=\\frac{\\Gamma(\\frac{n+1}{2})}{(n\\pi)^{1/2}\\Gamma(\\frac{n}{2})}(1+\\frac{x^{2}}{n})^{-(n+1)/2}, \\quad \\textrm{for} \\quad -5 < x < 5, \\quad n=1,2,3,4,...\n",
    "$$\n",
    "$g_{n}(x)$가 n이 커짐에 따라 어떤 형태를 갖게되는지 알아보고자 한다. n = 1,2,...,30에 따른 gn(x)의 그래프와 f(x)의 그래프를 함께 그려보고, 그 결과를 설명하시오. "
   ]
  },
  {
   "cell_type": "markdown",
   "metadata": {},
   "source": [
    "* 주어진 문제의 $f(x)$, $g_{n}(x)$ 함수를 정의하시오. : f, gn"
   ]
  },
  {
   "cell_type": "code",
   "execution_count": null,
   "metadata": {},
   "outputs": [],
   "source": [
    "def f(x) :\n",
    "\n",
    "    \n",
    "def gn(x, n) :\n",
    "\n",
    "    "
   ]
  },
  {
   "cell_type": "markdown",
   "metadata": {},
   "source": [
    "* $-5<x<5$사이의 값에서 $g_{n}(x)$를 n에 따라 f(x)와 같이 그리세요.\n",
    "    - 6*5 subplot 생성 (총 30개 plot)\n",
    "    - 각 subplot 별로 다음과 같이 plot을 형성하시오.\n",
    "        - scatter of fx : s=0.4, alpha=0.5\n",
    "        - scatter of gx : s=0.4, alpha=0.5, c='tomato'\n",
    "        - title : g(x, n) vs. f(x) (n은 각 plot별로 사용된 n.)  \n",
    "            ex) for n = 1, \"g(x, 1) vs. f(x)'\n",
    "        - legend : markerscale=10, fontsize=12,  \n",
    "            label : $f(x), \\textrm{ } g(x, n)$  "
   ]
  },
  {
   "cell_type": "code",
   "execution_count": null,
   "metadata": {},
   "outputs": [],
   "source": [
    "# set x, with length 1000\n",
    "x = np.linspace()\n",
    "\n",
    "# plt rcParams Setting\n",
    "fig_default = plt.rcParams.get('figure.figsize')\n",
    "plt.rcParams['figure.figsize'] = [25, 20]\n",
    "\n",
    "fig = plt.figure()\n",
    "\n",
    "for n in range(1, 31):\n",
    "    ax = fig.add_subplot(6, 5, n)\n",
    "    fx = \n",
    "    gx = "
   ]
  },
  {
   "cell_type": "markdown",
   "metadata": {},
   "source": [
    "위의 plot은 n이 1부터 30까지의 $g_{x}(x)$와 $f(x)$를 같이 나태낸 것이다. n이 커질수록 $g_{n}(x)$가 $f(x)$에 근사함을 알 수 있다.\n",
    "* $g_{n}(x)$은 사실 t(n)분포이다."
   ]
  },
  {
   "cell_type": "markdown",
   "metadata": {},
   "source": [
    "-------------\n",
    "#### e)\n",
    " n이 증가함에 따라(n = 1,2,...,1000), $\\Gamma(\\frac{n+1}{2})$와 $\\sqrt{2\\pi (n-1)/2} [(n-1)/(2e)]^{(n-1)/2}$의 비율이 1로 수렴하는지 확인하고,  $\\sqrt{2\\pi (n-1)/2} [(n-1)/(2e)]^{(n-1)/2}$가 벤포드의 법칙을 따르는지 확인하시오."
   ]
  },
  {
   "cell_type": "code",
   "execution_count": null,
   "metadata": {},
   "outputs": [],
   "source": [
    "def log_f1(n):\n",
    "    \n",
    "def log_f2(n):\n",
    "    if n == 1:\n",
    "        return 0\n",
    "    "
   ]
  },
  {
   "cell_type": "code",
   "execution_count": null,
   "metadata": {},
   "outputs": [],
   "source": [
    "# calculate ratio of two mathmatic statement\n",
    "log_ratio = np.array([log_f1(n) - log_f2(n) for n in range(1, 1001)])\n",
    "\n",
    "# print first 5 entries of log_ratio\n"
   ]
  },
  {
   "cell_type": "markdown",
   "metadata": {},
   "source": [
    "* 두 수식이 n이 증가함에 따라 비율이 1로 수렴하는지 시각적으로 보이시오."
   ]
  },
  {
   "cell_type": "code",
   "execution_count": null,
   "metadata": {},
   "outputs": [],
   "source": [
    "ratio = np.exp(log_ratio)\n",
    "plt.rcParams['figure.figsize'] = [8, 5]\n",
    "\n"
   ]
  },
  {
   "cell_type": "markdown",
   "metadata": {},
   "source": [
    "위의 plot을 보면 두 수식의 비율이 1에 수렴함을 알 수 있다."
   ]
  },
  {
   "cell_type": "markdown",
   "metadata": {},
   "source": [
    "* $\\sqrt{2\\pi (n-1)/2} [(n-1)/(2e)]^{(n-1)/2}$가 벤포드의 법칙을 따르는지 확인하시오.  \n",
    "아래의 설명은 최태련 교수님의 STAT323 Chapter 2 강의안에 있습니다.\n",
    "* 벤포드의 법칙은 자연고학의 법칙과 같이 항상 성립하는 법칙이 아니라 상당수의 자료에서 성립하는 경향이 있다는 것을 의미한다.\n",
    "* 벤포드의 법칙은 기업의 회계부정이나 가격 담합 등을 적발하는데 이용된다.\n",
    "* 어떤 숫자의 집합이 벤포드의 법칙을 따른다면, 첫번째 숫자 D의 확률분포는 다음과 같다.\n",
    "$$P(D=k)=\\log_{10}(k+1)-\\log_{10}(k), \\quad k=1,2,...,9$$\n",
    "    - 만약 어떤 숫자가 120398054809810라면, D는 1이다."
   ]
  },
  {
   "cell_type": "markdown",
   "metadata": {},
   "source": [
    "* Benford 확률분포를 담은 array를 만드세요 : benford"
   ]
  },
  {
   "cell_type": "code",
   "execution_count": null,
   "metadata": {},
   "outputs": [],
   "source": [
    "benford = \n",
    "\n",
    "# print probability distribution of benford\n"
   ]
  },
  {
   "cell_type": "markdown",
   "metadata": {},
   "source": [
    "* 한 가지 문제가 있을 겁니다."
   ]
  },
  {
   "cell_type": "code",
   "execution_count": null,
   "metadata": {},
   "outputs": [],
   "source": [
    "# print math.exp(log_f2(500))\n"
   ]
  },
  {
   "cell_type": "markdown",
   "metadata": {},
   "source": [
    "* OverflowError를 일으키기 전까지만 사용합시다.\n",
    "    - 파이썬이 인식하는 가장 큰 수보다 작은 값만 저장합시다."
   ]
  },
  {
   "cell_type": "code",
   "execution_count": null,
   "metadata": {},
   "outputs": [],
   "source": [
    "# import sys\n",
    "import sys\n",
    "\n",
    "# print sys.float_info.max\n",
    "\n",
    "\n",
    "# generate empty list : f2s\n",
    "\n",
    "\n",
    "# in for loop, using try and except statement to ignore OverflowError.\n",
    "for n in range(1, 1001):\n",
    "    log_f2s = log_f2(n)\n",
    "    try :\n",
    "        \n",
    "    except OverflowError :\n",
    "        break\n",
    "        \n",
    "print(len(f2s))"
   ]
  },
  {
   "cell_type": "markdown",
   "metadata": {},
   "source": [
    "* 위에서 생성된 f2의 첫번째 숫자인 D를 추출한 Series를 생성하세요 : Ds"
   ]
  },
  {
   "cell_type": "code",
   "execution_count": null,
   "metadata": {},
   "outputs": [],
   "source": [
    "Ds = pd.Series([f __ 10 __ math.__(math.____(f)) for f in f2s]).astype(int)\n",
    "\n",
    "# print head of Ds\n"
   ]
  },
  {
   "cell_type": "markdown",
   "metadata": {},
   "source": [
    "* Get Empirical probability distribution of Ds\n",
    "    - please sort index"
   ]
  },
  {
   "cell_type": "code",
   "execution_count": null,
   "metadata": {},
   "outputs": [],
   "source": []
  },
  {
   "cell_type": "markdown",
   "metadata": {},
   "source": [
    "* compare with benford by using DataFrame."
   ]
  },
  {
   "cell_type": "code",
   "execution_count": null,
   "metadata": {},
   "outputs": [],
   "source": [
    "\n",
    "\n",
    "# display DataFrame\n"
   ]
  },
  {
   "cell_type": "markdown",
   "metadata": {},
   "source": [
    "위의 df를 보면 Ds가 Benford 법칙을 따르지 않음을 알 수 있다."
   ]
  },
  {
   "cell_type": "markdown",
   "metadata": {},
   "source": [
    "* Benford, Ds의 bar plot을 한 plot에 겹쳐서 보여주세요.\n",
    "    - benford : alpha = 0.5\n",
    "    - Ds : alpha = 0.5, color = 'tomato'\n",
    "    - xlabel : 'D'\n",
    "    - ylabel : 'probability'\n",
    "    - title : 'Benford vs. Ds'\n",
    "    - legned : 'Benford distribution', 'D's distribution'"
   ]
  },
  {
   "cell_type": "code",
   "execution_count": null,
   "metadata": {},
   "outputs": [],
   "source": []
  },
  {
   "cell_type": "markdown",
   "metadata": {},
   "source": [
    "Benford 법칙을 따르지 않음을 더욱 잘 보일 수 있다."
   ]
  },
  {
   "cell_type": "markdown",
   "metadata": {},
   "source": [
    "--------------------------\n",
    "--------------------------\n",
    "### 2. Polynomial regression"
   ]
  },
  {
   "cell_type": "markdown",
   "metadata": {},
   "source": [
    "n개의 자료 ($x_{1}$, $y_{1}$), ($x_{2}$, $y_{2}$), ..., ($x_{n}$, $y_{n}$)이 주어졌을 때, 다음과 같은 $m(<n)$차 다항식 회귀 모형을 고려하자.\n",
    "$$y_{i} = \\beta_{0}+\\beta_{1}x_{i}+\\beta_{2}x_{i}^{2}+\\cdots+\\beta_{n}x_{i}^{n}+\\epsilon_{i}, \\quad i=1,...,n$$  \n",
    "이러한 모형을 벡터와 행렬을 사용하여 나타내면 다음과 같다.  \n",
    "\n",
    "$$\\mathbf{y=X\\beta+\\epsilon},\\textrm{ }\\mathbf{y}=(y_{1},...,y_{n})^{T}, \\textrm{ }\\mathbf{\\beta}=(\\beta_{1},...,\\beta_{n})^{T}, \\textrm{ }\\mathbf{\\epsilon}=(\\epsilon_{1},...,\\epsilon_{n})^{T}$$\n",
    "$$\\mathbf{X}=(\\mathbf{x_{1}},...,\\mathbf{x_{n})}^{T},\\textrm{ }\\mathbf{x_{i}}=(1, x_{i},x_{i}^{2},...,x_{i}^{m})^{T}$$"
   ]
  },
  {
   "cell_type": "markdown",
   "metadata": {},
   "source": [
    "#### a)\n",
    "x가 {1/100, 2/100, ..., 100/100}까지의 100개의 값을 갖는 변수라고 할 때, x의 다항식을 설명변수로 하는 다음과 같은 4(m=4)차 다항식 회귀모형을 고려하고, 대응하는 100개의 y값을 생성하시오.  \n",
    "\n",
    "$$y_{i} = 1+2x_{i}-3x_{i}^{2}+4x_{i}^{3}-5x_{i}^{4}+\\epsilon_{i}, \\quad \\epsilon_{i}\\sim N(0, 0.1^{2})$$\n",
    "$$  $$\n",
    "(오차항을 생성하기 위해서 np.random.normal()함수 사용 가능)"
   ]
  },
  {
   "cell_type": "code",
   "execution_count": null,
   "metadata": {},
   "outputs": [],
   "source": [
    "# import math, numpy, pandas, matplotlib.pyplot\n"
   ]
  },
  {
   "cell_type": "code",
   "execution_count": null,
   "metadata": {},
   "outputs": [],
   "source": [
    "# gerate x array\n",
    "\n",
    "\n",
    "# generate y\n",
    "\n",
    "\n",
    "# print first five entries of x and y\n"
   ]
  },
  {
   "cell_type": "markdown",
   "metadata": {},
   "source": [
    "--------------\n",
    "#### b)\n",
    "(a)에서 생성된 x와 y를 바탕으로 행렬 $X$와 $y$를 만들고, 이를 바탕으로 $\\beta$의 추정치 $\\hat{\\beta}=(\\mathbf{X}^{T}\\mathbf{X})^{-1}\\mathbf{X}^{T}\\mathbf{Y}$를 계산하고, 참 값 $\\beta_{0}=(1, 2, -3, 4, -5)^{T}$와 비교하시오.  \n",
    "(역행렬을 계산하기 위해서 numpy.linalg.inv 함수 사용 가능)"
   ]
  },
  {
   "cell_type": "code",
   "execution_count": null,
   "metadata": {},
   "outputs": [],
   "source": [
    "# make X matrix\n",
    "\n",
    "\n",
    "# print first five entries of X\n",
    "\n",
    "\n",
    "# Calculate beta hat\n",
    "\n",
    "\n",
    "print(\"\"\"%25sBeta_hat vs Real Coefficients\n",
    "%10s %10s %10s %10s %10s %10s\n",
    "%10s %10f %10f %10f %10f %10f\n",
    "%10s %10d %10d %10d %10d %10d\n",
    "\"\"\"\\\n",
    "      % tuple([\"\",\"\", 'Intercept', 'x', 'x^2', 'x^3', 'x^4', \"Estimated\"]\\\n",
    "              +list(np.round(, 4))+[\"Real value\"]+[1, 2, -3, 4, -5]))"
   ]
  },
  {
   "cell_type": "markdown",
   "metadata": {},
   "source": [
    "* compare beta_hat with np.linalg.lstsq(X, y, rcond=-1)\n",
    "    - lstsq는 Least square method를 활용하며, Ax=b에서의 x, 잔차제곱합(residual sum of squares), 랭크(rank), 특잇값(singular value)을 반환한다."
   ]
  },
  {
   "cell_type": "code",
   "execution_count": null,
   "metadata": {},
   "outputs": [],
   "source": [
    "\n",
    "print(\"\"\"%25sBeta_hat vs Real Coefficients\n",
    "%10s %10s %10s %10s %10s %10s\n",
    "%10s %10f %10f %10f %10f %10f\n",
    "%10s %10f %10f %10f %10f %10f\n",
    "%10s %10d %10d %10d %10d %10d\n",
    "\"\"\"\\\n",
    "      % tuple([\"\",\"\", 'Intercept', 'x', 'x^2', 'x^3', 'x^4', \"Estimated\"]\\\n",
    "              +list(np.round(, 4))+['Built-in']+list()\\\n",
    "              +[\"Real value\", 1, 2, -3, 4, -5]))"
   ]
  },
  {
   "cell_type": "markdown",
   "metadata": {},
   "source": [
    "* beta_hat을 통해 도출한 y값들과 linalg.lstsq를 활용하여 도출한 y값들을 서로 시각적으로 비교하시오.\n",
    "    - plot에 predicted y는 line으로 그리고, 실제 y값은 scatter plot으로 그리세요."
   ]
  },
  {
   "cell_type": "code",
   "execution_count": null,
   "metadata": {},
   "outputs": [],
   "source": []
  },
  {
   "cell_type": "markdown",
   "metadata": {},
   "source": [
    "--------------------\n",
    "#### c)\n",
    "행렬 $\\mathbf{A}=\\mathbf{I_{100}}-\\mathbf{X}(\\mathbf{X}^{T}\\mathbf{X})^{-1}\\mathbf{X}^{T}$로 정의하자. $\\mathbf{A}^{10}$의 고윳값을 계산하시오.  \n",
    "고윳값에 허수가 있는지 확인하시오.  \n",
    "(Python 내장함수 numpy.linalg.identity, numpy.linalg.matrix_power, numpy.linalg.eig)"
   ]
  },
  {
   "cell_type": "code",
   "execution_count": null,
   "metadata": {},
   "outputs": [],
   "source": [
    "\n",
    "\n",
    "# print last 5 entries of eigen values of A^10\n"
   ]
  },
  {
   "cell_type": "markdown",
   "metadata": {},
   "source": [
    "---------------------\n",
    "#### d)\n",
    "200개의 자료 {($x_{1}$, $y_{1}$), ($x_{2}$, $y_{2}$), ..., ($x_{200}$, $y_{200}$)} 가 다음과 같은 모형에서 생성되었다고 가정하자.  \n",
    "\n",
    "$$y_{i}=f(x_{i})+\\epsilon_{i},\\quad i=1,...,200$$  \n",
    "$$f(x_{i})=1000[0.3x_{i}^{2}(1-x_{i})^{6}+0.7x_{i}^{6}(1-x_{i})^{2}]+\\epsilon_{i},\\textrm{ }\\epsilon_{i}\\sim N(0,1), x_{i}=(i-1/2)/200$$\n",
    "이 경우, 다항식 회귀 모형 대신에 다음과 같은 (cosine) 회귀모형으로 적합하고자 한다. \n",
    "\n",
    "$$f_{k}(x)=\\beta_{0}+\\sum^{4}_{j=1}\\beta_{j}cos(\\pi jx)$$  \n",
    "$\\mathbf{\\beta}$의 추정치 $\\hat{\\beta}=(\\mathbf{X}^{T}\\mathbf{X})^{-1}\\mathbf{X}^{T}\\mathbf{Y}$를 계산하고, 적합된 cosine 회귀함수와 실제 함수 $f(x)$를 비교해보시오."
   ]
  },
  {
   "cell_type": "code",
   "execution_count": null,
   "metadata": {},
   "outputs": [],
   "source": [
    "# generate appropriate x and y\n",
    "\n",
    "\n",
    "# print first 5 entries of y\n"
   ]
  },
  {
   "cell_type": "code",
   "execution_count": null,
   "metadata": {},
   "outputs": [],
   "source": [
    "# Make X matrix\n",
    "\n",
    "\n",
    "# print fist 5 entries of X\n"
   ]
  },
  {
   "cell_type": "code",
   "execution_count": null,
   "metadata": {},
   "outputs": [],
   "source": [
    "# Calculate beta_hat\n",
    "\n",
    "\n",
    "print(\"\"\"%25sBeta_hat Coefficients\n",
    "%10s %10s %10s %10s %10s %10s\n",
    "%10s %10f %10f %10f %10f %10f\n",
    "\"\"\"\\\n",
    "      % tuple([\"\",\"\", 'Intercept', 'x', 'x^2', 'x^3', 'x^4', \"Estimated\"]\\\n",
    "              +list(np.round(, 4))))"
   ]
  },
  {
   "cell_type": "markdown",
   "metadata": {},
   "source": [
    "* beta_hat을 따르는 Fitted line과 실제 수식을 따르는 Real Line과 그리세요.\n",
    "    - plot에 실제 y는 scatter plot으로 나타내세요."
   ]
  },
  {
   "cell_type": "code",
   "execution_count": null,
   "metadata": {},
   "outputs": [],
   "source": []
  },
  {
   "cell_type": "markdown",
   "metadata": {},
   "source": [
    "### END"
   ]
  }
 ],
 "metadata": {
  "kernelspec": {
   "display_name": "Python 3",
   "language": "python",
   "name": "python3"
  },
  "language_info": {
   "codemirror_mode": {
    "name": "ipython",
    "version": 3
   },
   "file_extension": ".py",
   "mimetype": "text/x-python",
   "name": "python",
   "nbconvert_exporter": "python",
   "pygments_lexer": "ipython3",
   "version": "3.6.5"
  }
 },
 "nbformat": 4,
 "nbformat_minor": 4
}
