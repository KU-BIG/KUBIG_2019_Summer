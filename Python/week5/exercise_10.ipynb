{
 "cells": [
  {
   "cell_type": "markdown",
   "metadata": {},
   "source": [
    "- file path: ~/KUBIG/KUBIG_2019_Summer/Python/data/ratings.csv"
   ]
  },
  {
   "cell_type": "code",
   "execution_count": 1,
   "metadata": {},
   "outputs": [],
   "source": [
    "import pandas as pd\n",
    "import numpy as np\n",
    "import matplotlib.pyplot as plt\n",
    "import seaborn as sns\n",
    "from sklearn.linear_model import LinearRegression\n",
    "from sklearn.metrics import mean_squared_error\n",
    "from sklearn.metrics import r2_score\n",
    "\n"
   ]
  },
  {
   "cell_type": "markdown",
   "metadata": {},
   "source": [
    "- housing.csv를 pandas dataframe의 형태로 data라는 변수에 저장하시오."
   ]
  },
  {
   "cell_type": "code",
   "execution_count": 4,
   "metadata": {},
   "outputs": [],
   "source": [
    "data=pd.read_csv(\"~/KUBIG/KUBIG_2019_Summer/Python/data/housing.csv\")"
   ]
  },
  {
   "cell_type": "markdown",
   "metadata": {},
   "source": [
    "- data의 head를 출력하시오."
   ]
  },
  {
   "cell_type": "code",
   "execution_count": null,
   "metadata": {},
   "outputs": [],
   "source": [
    "print(data.head())"
   ]
  },
  {
   "cell_type": "markdown",
   "metadata": {},
   "source": [
    "- data의 MEDV 열의 1st quantile, median, 3rd quantile을 출력하시오."
   ]
  },
  {
   "cell_type": "code",
   "execution_count": null,
   "metadata": {},
   "outputs": [],
   "source": [
    "print(_____________)"
   ]
  },
  {
   "cell_type": "markdown",
   "metadata": {},
   "source": [
    "- data의 MEDV열의 interquantile range를 구해서 IQR이라는 변수에 저장하고 출력하시오."
   ]
  },
  {
   "cell_type": "code",
   "execution_count": 7,
   "metadata": {},
   "outputs": [],
   "source": [
    "IQR=\n",
    "print(IQR)"
   ]
  },
  {
   "cell_type": "markdown",
   "metadata": {},
   "source": [
    "- MEDV열에 들어있는 값들로 box plot을 그리시오.\n",
    "- x축의 이름은 'Median value of owner-occupied homes in $1000's'로 하시오."
   ]
  },
  {
   "cell_type": "code",
   "execution_count": null,
   "metadata": {},
   "outputs": [],
   "source": [
    "_=sns.boxplot(_______)\n",
    "plt.xlabel(\"__________________________\")\n",
    "plt.show()"
   ]
  },
  {
   "cell_type": "markdown",
   "metadata": {},
   "source": [
    "- MEDV열의 값들의 분산을 구하시오."
   ]
  },
  {
   "cell_type": "code",
   "execution_count": 10,
   "metadata": {},
   "outputs": [],
   "source": [
    "differences=________________\n",
    "diff_sq=differences**2\n",
    "variance_explicit=np.mean(diff_sq)"
   ]
  },
  {
   "cell_type": "code",
   "execution_count": 14,
   "metadata": {},
   "outputs": [],
   "source": [
    "variance_np=np.var(data.MEDV)"
   ]
  },
  {
   "cell_type": "code",
   "execution_count": null,
   "metadata": {},
   "outputs": [],
   "source": [
    "print(variance_explicit==variance_np)"
   ]
  },
  {
   "cell_type": "markdown",
   "metadata": {},
   "source": [
    "- MEDV열의 표준편차를 구하시오."
   ]
  },
  {
   "cell_type": "code",
   "execution_count": null,
   "metadata": {},
   "outputs": [],
   "source": [
    "print(np.std(________))\n",
    "print(np.sqrt(variance_np)==np.std(________))"
   ]
  },
  {
   "cell_type": "markdown",
   "metadata": {},
   "source": [
    "- x축 변수를 data의 LSTAT열의 성분으로 하고 y축 변수를 data의 MEDV열의 성분으로 해서 산점도를 그리시오.\n",
    "- x축의 이름은 \"% lower status of the population\"로 하고 y축의 이름은 \"Median value of owner-occupied homes in $1000's\"로 하시오."
   ]
  },
  {
   "cell_type": "code",
   "execution_count": null,
   "metadata": {},
   "outputs": [],
   "source": [
    "_=plt.plot(__________________________)\n",
    "plt.xlabel(_____________________)\n",
    "plt.ylabel(_____________________)\n",
    "plt.show()"
   ]
  },
  {
   "cell_type": "markdown",
   "metadata": {},
   "source": [
    "- sklearn의 LinearRegression 함수를 이용해서 모델을 적합하시오.\n",
    "- 설명변수는 data의 RM열이고 반응변수는 data의 MEDV열입니다.\n",
    "- 모델을 적합할 때, 절편도 같이 추정합니다."
   ]
  },
  {
   "cell_type": "code",
   "execution_count": 21,
   "metadata": {},
   "outputs": [],
   "source": [
    "MEDV=data.MEDV\n",
    "MEDV=np.array(MEDV)\n",
    "MEDV=MEDV.reshape(len(MEDV),1)"
   ]
  },
  {
   "cell_type": "code",
   "execution_count": 22,
   "metadata": {},
   "outputs": [],
   "source": [
    "RM=________\n",
    "\n"
   ]
  },
  {
   "cell_type": "code",
   "execution_count": 23,
   "metadata": {},
   "outputs": [],
   "source": [
    "model=_______________________\n",
    "model.fit(RM,MEDV)"
   ]
  },
  {
   "cell_type": "markdown",
   "metadata": {},
   "source": [
    "- 적합한 모델의 회귀계수추정량과 절편을 출력하시오."
   ]
  },
  {
   "cell_type": "code",
   "execution_count": null,
   "metadata": {},
   "outputs": [],
   "source": [
    "print(model.coef_)\n",
    "print(model.intercept_)"
   ]
  },
  {
   "cell_type": "markdown",
   "metadata": {},
   "source": [
    "- RM의 표본평균을 설명변수의 값으로 해서 반응변수를 예측하시오.\n",
    "- 우선, RM의 표본평균을 srm이라는 변수에 저장하시오."
   ]
  },
  {
   "cell_type": "code",
   "execution_count": 25,
   "metadata": {},
   "outputs": [],
   "source": [
    "srm=_________\n",
    "srm=srm.reshape(__,1)"
   ]
  },
  {
   "cell_type": "markdown",
   "metadata": {},
   "source": [
    "- RM의 표본평균을 설명변수의 값으로 할 때의 예측값을 smedv라는 변수에 저장하고 출력하시오."
   ]
  },
  {
   "cell_type": "code",
   "execution_count": 26,
   "metadata": {},
   "outputs": [],
   "source": [
    "smedv=model.predict(___)\n",
    "print(\"predicted value = ${:0.3f} \".format(_____))"
   ]
  },
  {
   "cell_type": "markdown",
   "metadata": {},
   "source": [
    "- 이번에는 설명변수를 data의 LSTAT열로 하고 반응변수를 data의 MEDV열로 해서 모델을 적합하시오."
   ]
  },
  {
   "cell_type": "code",
   "execution_count": null,
   "metadata": {},
   "outputs": [],
   "source": [
    "LSTAT=np.array(data.LSTAT).reshape(__,1)\n",
    "model.fit(LSTAT,MEDV)"
   ]
  },
  {
   "cell_type": "markdown",
   "metadata": {},
   "source": [
    "- 적합한 모델의 회귀계수추정량과 절편을 출력하시오."
   ]
  },
  {
   "cell_type": "code",
   "execution_count": null,
   "metadata": {},
   "outputs": [],
   "source": [
    "print(_________)\n",
    "print(______________)"
   ]
  },
  {
   "cell_type": "markdown",
   "metadata": {},
   "source": [
    "- 설명변수를 LSTAT, 반응변수를 MEDV로 할 때, RSS, RMSE와 R-squared를 구하시오."
   ]
  },
  {
   "cell_type": "code",
   "execution_count": 31,
   "metadata": {},
   "outputs": [],
   "source": [
    "residuals=model.predict(LSTAT)-MEDV\n",
    "RSS=np.sum(__________________)\n",
    "print(RSS)"
   ]
  },
  {
   "cell_type": "code",
   "execution_count": 43,
   "metadata": {},
   "outputs": [],
   "source": [
    "MSE1=___/_______\n",
    "RMSE1=_____\n",
    "\n",
    "print(MSE1)\n",
    "print(RMSE1)"
   ]
  },
  {
   "cell_type": "code",
   "execution_count": null,
   "metadata": {},
   "outputs": [],
   "source": [
    "MSE2=mean_squared_error(MEDV,model.predict(LSTAT))\n",
    "print(MSE2)\n",
    "print(MSE1==MSE2)"
   ]
  },
  {
   "cell_type": "code",
   "execution_count": 47,
   "metadata": {},
   "outputs": [],
   "source": [
    "var_residuals=np.sum(np.square(residuals))\n",
    "var_deviations=np.sum(np.square(MEDV-np.mean(MEDV)))\n",
    "r_squared1=1-(__________/___________)\n",
    "print(r_squared1)"
   ]
  },
  {
   "cell_type": "code",
   "execution_count": null,
   "metadata": {},
   "outputs": [],
   "source": [
    "r_squared2=r2_score(MEDV,model.predict(LSTAT))\n",
    "print(r_squared2)\n",
    "print(r_squared1==r_squared2)"
   ]
  }
 ],
 "metadata": {
  "kernelspec": {
   "display_name": "Python 3",
   "language": "python",
   "name": "python3"
  },
  "language_info": {
   "codemirror_mode": {
    "name": "ipython",
    "version": 3
   },
   "file_extension": ".py",
   "mimetype": "text/x-python",
   "name": "python",
   "nbconvert_exporter": "python",
   "pygments_lexer": "ipython3",
   "version": "3.7.3"
  }
 },
 "nbformat": 4,
 "nbformat_minor": 2
}
