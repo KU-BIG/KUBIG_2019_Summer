{
 "cells": [
  {
   "cell_type": "code",
   "execution_count": null,
   "metadata": {},
   "outputs": [],
   "source": [
    "\n",
    "#https://openpolicing.stanford.edu/data/\n",
    "#위의 사이트에 접속해서 hartford 2013년 10월부터 2016년 9월까지의 데이터를 다운로드 받으시오.\n",
    "\n",
    "# Import the pandas library as pd\n",
    "import pandas as pd\n",
    "\n",
    "# Read hartford  data you downloaded into a DataFrame named hf\n",
    "hf = pd.read_csv('____')\n",
    "# Examine the head of the DataFrame\n",
    "print(_____)\n",
    "\n",
    "# Count the number of missing values in each column\n",
    "print(_______)\n",
    "\n"
   ]
  },
  {
   "cell_type": "code",
   "execution_count": null,
   "metadata": {},
   "outputs": [],
   "source": [
    "# Examine the shape of the DataFrame\n",
    "print(_____)\n",
    "\n",
    "# Drop the 'contraband_found' and 'search_basis' columns\n",
    "hf.drop([______, ______], axis='_____', inplace=True)\n",
    "\n",
    "# Examine the shape of the DataFrame (again)\n",
    "print(____)"
   ]
  },
  {
   "cell_type": "code",
   "execution_count": null,
   "metadata": {},
   "outputs": [],
   "source": [
    "\n",
    "# Count the number of missing values in each column\n",
    "print(______)\n",
    "\n",
    "# Drop all rows that are missing 'outcome'\n",
    "hf.dropna(_______, inplace=True)\n",
    "\n",
    "# Count the number of missing values in each column (again)\n",
    "print(______)\n",
    "\n",
    "# Examine the shape of the DataFrame\n",
    "print(_____)"
   ]
  },
  {
   "cell_type": "code",
   "execution_count": null,
   "metadata": {},
   "outputs": [],
   "source": [
    "# Concatenate 'date' and 'stime' (separated by a space)\n",
    "combined = ______(_____,sep=\" \")\n",
    "\n",
    "# Convert 'combined' to datetime format\n",
    "hf['stop_datetime'] = pd._______(combined)\n",
    "\n",
    "# Examine the data types of the DataFrame\n",
    "print(hf.dtypes)"
   ]
  },
  {
   "cell_type": "code",
   "execution_count": null,
   "metadata": {},
   "outputs": [],
   "source": [
    "\n",
    "# Set 'stop_datetime' as the index\n",
    "hf._______(______, inplace=True)\n",
    "\n",
    "# Examine the index\n",
    "print(hf.____)\n",
    "\n",
    "# Examine the columns\n",
    "print(hf._____)"
   ]
  },
  {
   "cell_type": "code",
   "execution_count": null,
   "metadata": {},
   "outputs": [],
   "source": [
    "# Count the unique values in 'reason_for_stop'\n",
    "print(________)\n",
    "\n",
    "# Express the counts as proportions\n",
    "print(_________)"
   ]
  },
  {
   "cell_type": "code",
   "execution_count": null,
   "metadata": {},
   "outputs": [],
   "source": [
    "\n",
    "# Create a DataFrame of female drivers\n",
    "female = hf[_______]\n",
    "\n",
    "female.head(2)\n",
    "# Create a DataFrame of male drivers\n",
    "male = hf[hf[_______]\n",
    "\n",
    "# Compute 'reason_for_stop' by female drivers (as proportions)\n",
    "print(_______)\n",
    "\n",
    "# Compute 'reason_for_stop' by male drivers (as proportions)\n",
    "print(______)"
   ]
  },
  {
   "cell_type": "code",
   "execution_count": null,
   "metadata": {},
   "outputs": [],
   "source": [
    "\n",
    "# Create a DataFrame of female drivers stopped for 'Cell Phone'\n",
    "female_and_cellphone = hf[(________________)]\n",
    "\n",
    "# Create a DataFrame of male drivers stopped for 'Cell Phone'\n",
    "male_and_cellphone = hf[(________________)]\n",
    "\n",
    "\n",
    "# Compute the stop outcomes for female drivers (as proportions)\n",
    "print(______________)\n",
    "\n",
    "# Compute the stop outcomes for male drivers (as proportions)\n",
    "print(______________)"
   ]
  },
  {
   "cell_type": "code",
   "execution_count": null,
   "metadata": {},
   "outputs": [],
   "source": [
    "# Check the data type of 'arrest_made'\n",
    "print(__________)\n",
    "\n",
    "# Calculate 'arrest_made' rate by counting the values\n",
    "print(__________)\n",
    "\n",
    "# Calculate 'arrest_made' rate by taking the mean\n",
    "print(__________)"
   ]
  },
  {
   "cell_type": "code",
   "execution_count": null,
   "metadata": {},
   "outputs": [],
   "source": [
    "# Calculate 'arrest_made' rate for female drivers\n",
    "print(___________)"
   ]
  },
  {
   "cell_type": "code",
   "execution_count": null,
   "metadata": {},
   "outputs": [],
   "source": [
    "# Calculate 'arrest_made' rate for each combination of gender and violation\n",
    "print(____________)"
   ]
  },
  {
   "cell_type": "code",
   "execution_count": null,
   "metadata": {},
   "outputs": [],
   "source": []
  },
  {
   "cell_type": "code",
   "execution_count": null,
   "metadata": {},
   "outputs": [],
   "source": []
  },
  {
   "cell_type": "code",
   "execution_count": null,
   "metadata": {},
   "outputs": [],
   "source": []
  },
  {
   "cell_type": "code",
   "execution_count": null,
   "metadata": {},
   "outputs": [],
   "source": []
  }
 ],
 "metadata": {
  "kernelspec": {
   "display_name": "Python 3",
   "language": "python",
   "name": "python3"
  },
  "language_info": {
   "codemirror_mode": {
    "name": "ipython",
    "version": 3
   },
   "file_extension": ".py",
   "mimetype": "text/x-python",
   "name": "python",
   "nbconvert_exporter": "python",
   "pygments_lexer": "ipython3",
   "version": "3.7.3"
  }
 },
 "nbformat": 4,
 "nbformat_minor": 2
}
