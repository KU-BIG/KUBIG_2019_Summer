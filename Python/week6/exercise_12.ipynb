{
 "cells": [
  {
   "cell_type": "markdown",
   "metadata": {},
   "source": [
    "### Coupon collector's problem"
   ]
  },
  {
   "cell_type": "markdown",
   "metadata": {},
   "source": [
    "\n",
    "\n",
    "- 빵을 구매할 때마다 각각 1/8의 확률로 8개의 포켓몬 중 하나의 포켓몬 스티커를 얻게 된다.\n",
    " \n",
    " 이 때, 8개의 구별되는 포켓몬 스티커를 모두 얻게될 때까지 구매한 빵의 개수를 확률변수 X라고 하자.\n",
    "\n",
    "\n",
    "확률변수 X의 평균을 구해서 ex라는 변수에 저장하고 ex를 출력하시오.\n",
    "\n",
    " 참고 : 베르누이 시행에서 처음 성공까지 시도한 횟수 Y의 분포를 기하분포라고 한다.          \n",
    "\n",
    "\n",
    "\n",
    "$Pr(Y=y)=(1-p)^{y}p, (y = 1, 2, 3, ....)$\n",
    "\n",
    "$E(Y)=1/p$\n",
    "\n",
    "\n",
    "\n",
    "hint : https://www.youtube.com/watch?v=3mu47FWEuqA\n"
   ]
  },
  {
   "cell_type": "code",
   "execution_count": 11,
   "metadata": {},
   "outputs": [],
   "source": [
    "import numpy as np\n",
    "import matplotlib.pyplot as plt"
   ]
  },
  {
   "cell_type": "code",
   "execution_count": null,
   "metadata": {},
   "outputs": [],
   "source": [
    "ex=0\n",
    "for i in range(_):\n",
    "    ex+=_______\n",
    "print(\"E[X]=\",ex)"
   ]
  },
  {
   "cell_type": "markdown",
   "metadata": {},
   "source": [
    "- '피카츄', '라이츄', '파이리', '꼬부기', '버터풀', '야도란', '피존투', '또가스' 를 성분으로 하면서 길이가 8인 list를 만들어 coupons이라는 변수에 저장하시오."
   ]
  },
  {
   "cell_type": "code",
   "execution_count": 9,
   "metadata": {},
   "outputs": [],
   "source": [
    "coupons=['피카츄','라이츄','파이리','꼬부기','버터풀','야도란','피존투','또가스']"
   ]
  },
  {
   "cell_type": "markdown",
   "metadata": {},
   "source": [
    "#### 다음과 같은 과정을 10회 반복하시오.  \n",
    "\n",
    "- step1 : 빵을 사서 스티커를 확인한다. 빵에서 특정 포켓몬 스티커가 나올 확률은 각각 1/8로 동일하다.\n",
    "- step2 : 8개의 구별되는 포켓몬 스티커가 모두 모이지 않으면 빵을 하나 더 산다.\n",
    "- step3 : step1과 step2를 8개의 구별되는 포켓몬 스티커가 모일 때까지 반복한다.\n",
    "- step4 : 8개의 구별되는 포켓몬 스티커가 모두 모이면 지금까지 산 빵의 개수를 result1라는 리스트에 저장하고 한 과정을 마친다.\n"
   ]
  },
  {
   "cell_type": "code",
   "execution_count": 12,
   "metadata": {},
   "outputs": [],
   "source": [
    "result1=[]\n",
    "for h in range(__):\n",
    "   z=[]\n",
    "   while _____:\n",
    "       x=np.random.choice(_______)\n",
    "       __________\n",
    "    \n",
    "       if ___________:\n",
    "           result1.append(len(z))\n",
    "           break"
   ]
  },
  {
   "cell_type": "markdown",
   "metadata": {},
   "source": [
    "- 위와 같은 과정을 10회가 아니라 100회 반복하시오.\n",
    "- result1과 같은 방식으로 result2라는 리스트를 만드시오."
   ]
  },
  {
   "cell_type": "code",
   "execution_count": 14,
   "metadata": {},
   "outputs": [],
   "source": [
    "result2=[]\n",
    "for h in range(___):\n",
    "   z=[]\n",
    "   while _____:\n",
    "       x=np.random.choice(________)\n",
    "       ___________\n",
    "    \n",
    "       if ___________:\n",
    "           result2.append(len(z))\n",
    "           break"
   ]
  },
  {
   "cell_type": "markdown",
   "metadata": {},
   "source": [
    "- 위와 같은 과정을 100회가 아니라 1000회 반복하시오.\n",
    "- result1과 같은 방식으로 result3라는 리스트를 만드시오."
   ]
  },
  {
   "cell_type": "code",
   "execution_count": 15,
   "metadata": {},
   "outputs": [],
   "source": [
    "result3=[]\n",
    "for h in range(_____):\n",
    "   z=[]\n",
    "   while _____:\n",
    "       x=np.random.choice(_______)\n",
    "       __________\n",
    "    \n",
    "       if ___________:\n",
    "           result3.append(len(z))\n",
    "           break"
   ]
  },
  {
   "cell_type": "markdown",
   "metadata": {},
   "source": [
    "- result1의 평균값과 ex의 차이를 구하고 절대값을 적용해 d1이라는 변수에 저장하시오.\n",
    "- 동일한 방법으로 result2, result3 각각의 평균값과 ex의 차이를 구하고 절대값을 적용해 각각 d2, d3라는 변수에 저장하시오."
   ]
  },
  {
   "cell_type": "code",
   "execution_count": 16,
   "metadata": {},
   "outputs": [],
   "source": [
    "d1=___________\n",
    "d2=___________\n",
    "d3=___________"
   ]
  },
  {
   "cell_type": "code",
   "execution_count": null,
   "metadata": {},
   "outputs": [],
   "source": [
    "distance=[d1,d2,d3]\n",
    "plt.plot(['n=10','n=100','n=1000'],distance)\n",
    "plt.ylabel('distance')\n",
    "plt.xlabel('the number of sample')\n",
    "plt.show()"
   ]
  }
 ],
 "metadata": {
  "kernelspec": {
   "display_name": "Python 3",
   "language": "python",
   "name": "python3"
  },
  "language_info": {
   "codemirror_mode": {
    "name": "ipython",
    "version": 3
   },
   "file_extension": ".py",
   "mimetype": "text/x-python",
   "name": "python",
   "nbconvert_exporter": "python",
   "pygments_lexer": "ipython3",
   "version": "3.7.3"
  }
 },
 "nbformat": 4,
 "nbformat_minor": 2
}
