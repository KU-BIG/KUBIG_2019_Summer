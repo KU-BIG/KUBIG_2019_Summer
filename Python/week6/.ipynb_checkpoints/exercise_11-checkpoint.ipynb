{
 "cells": [
  {
   "cell_type": "markdown",
   "metadata": {},
   "source": [
    "## Pokemon Party II!!  \n",
    "\n",
    "file path : ~\\KUBIG\\KUBIG_2019_Summer\\Python\\data\\pokemon.csv   \n",
    "kaggle : https://www.kaggle.com/rounakbanik/pokemon  \n",
    "오늘은 pokemon data로 Classification을 해봅시다.  \n",
    "- target variable은 is_legendary입니다."
   ]
  },
  {
   "cell_type": "markdown",
   "metadata": {},
   "source": [
    "* Import packages.\n",
    "    - numpy, pandas, matplotlib.pyplot, seaborn"
   ]
  },
  {
   "cell_type": "code",
   "execution_count": 1,
   "metadata": {},
   "outputs": [],
   "source": [
    "import numpy as np\n",
    "import pandas as pd\n",
    "import matplotlib.pyplot as plt\n",
    "import seaborn as sns"
   ]
  },
  {
   "cell_type": "markdown",
   "metadata": {},
   "source": [
    "* Read the file into a DataFrame. : pokemon"
   ]
  },
  {
   "cell_type": "code",
   "execution_count": 2,
   "metadata": {},
   "outputs": [],
   "source": [
    "import os\n",
    "path = os.getcwd()\n",
    "pokemon = pd.read_csv(path + '\\data\\pokemon.csv')"
   ]
  },
  {
   "cell_type": "markdown",
   "metadata": {},
   "source": [
    "### 1. Check basic information of pokemon data"
   ]
  },
  {
   "cell_type": "code",
   "execution_count": 3,
   "metadata": {},
   "outputs": [
    {
     "data": {
      "text/html": [
       "<div>\n",
       "<style scoped>\n",
       "    .dataframe tbody tr th:only-of-type {\n",
       "        vertical-align: middle;\n",
       "    }\n",
       "\n",
       "    .dataframe tbody tr th {\n",
       "        vertical-align: top;\n",
       "    }\n",
       "\n",
       "    .dataframe thead th {\n",
       "        text-align: right;\n",
       "    }\n",
       "</style>\n",
       "<table border=\"1\" class=\"dataframe\">\n",
       "  <thead>\n",
       "    <tr style=\"text-align: right;\">\n",
       "      <th></th>\n",
       "      <th>abilities</th>\n",
       "      <th>against_bug</th>\n",
       "      <th>against_dark</th>\n",
       "      <th>against_dragon</th>\n",
       "      <th>against_electric</th>\n",
       "      <th>against_fairy</th>\n",
       "      <th>against_fight</th>\n",
       "      <th>against_fire</th>\n",
       "      <th>against_flying</th>\n",
       "      <th>against_ghost</th>\n",
       "      <th>...</th>\n",
       "      <th>percentage_male</th>\n",
       "      <th>pokedex_number</th>\n",
       "      <th>sp_attack</th>\n",
       "      <th>sp_defense</th>\n",
       "      <th>speed</th>\n",
       "      <th>type1</th>\n",
       "      <th>type2</th>\n",
       "      <th>weight_kg</th>\n",
       "      <th>generation</th>\n",
       "      <th>is_legendary</th>\n",
       "    </tr>\n",
       "  </thead>\n",
       "  <tbody>\n",
       "    <tr>\n",
       "      <th>0</th>\n",
       "      <td>['Overgrow', 'Chlorophyll']</td>\n",
       "      <td>1.00</td>\n",
       "      <td>1.0</td>\n",
       "      <td>1.0</td>\n",
       "      <td>0.5</td>\n",
       "      <td>0.5</td>\n",
       "      <td>0.5</td>\n",
       "      <td>2.0</td>\n",
       "      <td>2.0</td>\n",
       "      <td>1.0</td>\n",
       "      <td>...</td>\n",
       "      <td>88.1</td>\n",
       "      <td>1</td>\n",
       "      <td>65</td>\n",
       "      <td>65</td>\n",
       "      <td>45</td>\n",
       "      <td>grass</td>\n",
       "      <td>poison</td>\n",
       "      <td>6.9</td>\n",
       "      <td>1</td>\n",
       "      <td>0</td>\n",
       "    </tr>\n",
       "    <tr>\n",
       "      <th>800</th>\n",
       "      <td>['Soul-Heart']</td>\n",
       "      <td>0.25</td>\n",
       "      <td>0.5</td>\n",
       "      <td>0.0</td>\n",
       "      <td>1.0</td>\n",
       "      <td>0.5</td>\n",
       "      <td>1.0</td>\n",
       "      <td>2.0</td>\n",
       "      <td>0.5</td>\n",
       "      <td>1.0</td>\n",
       "      <td>...</td>\n",
       "      <td>NaN</td>\n",
       "      <td>801</td>\n",
       "      <td>130</td>\n",
       "      <td>115</td>\n",
       "      <td>65</td>\n",
       "      <td>steel</td>\n",
       "      <td>fairy</td>\n",
       "      <td>80.5</td>\n",
       "      <td>7</td>\n",
       "      <td>1</td>\n",
       "    </tr>\n",
       "  </tbody>\n",
       "</table>\n",
       "<p>2 rows × 41 columns</p>\n",
       "</div>"
      ],
      "text/plain": [
       "                       abilities  against_bug  against_dark  against_dragon  \\\n",
       "0    ['Overgrow', 'Chlorophyll']         1.00           1.0             1.0   \n",
       "800               ['Soul-Heart']         0.25           0.5             0.0   \n",
       "\n",
       "     against_electric  against_fairy  against_fight  against_fire  \\\n",
       "0                 0.5            0.5            0.5           2.0   \n",
       "800               1.0            0.5            1.0           2.0   \n",
       "\n",
       "     against_flying  against_ghost  ...  percentage_male  pokedex_number  \\\n",
       "0               2.0            1.0  ...             88.1               1   \n",
       "800             0.5            1.0  ...              NaN             801   \n",
       "\n",
       "     sp_attack  sp_defense  speed  type1   type2  weight_kg  generation  \\\n",
       "0           65          65     45  grass  poison        6.9           1   \n",
       "800        130         115     65  steel   fairy       80.5           7   \n",
       "\n",
       "     is_legendary  \n",
       "0               0  \n",
       "800             1  \n",
       "\n",
       "[2 rows x 41 columns]"
      ]
     },
     "metadata": {},
     "output_type": "display_data"
    }
   ],
   "source": [
    "# display the first and last row of pokemon\n",
    "display(pokemon.iloc[[0,-1], :])"
   ]
  },
  {
   "cell_type": "code",
   "execution_count": 4,
   "metadata": {},
   "outputs": [
    {
     "name": "stdout",
     "output_type": "stream",
     "text": [
      "(801, 41)\n",
      "Index(['abilities', 'against_bug', 'against_dark', 'against_dragon',\n",
      "       'against_electric', 'against_fairy', 'against_fight', 'against_fire',\n",
      "       'against_flying', 'against_ghost', 'against_grass', 'against_ground',\n",
      "       'against_ice', 'against_normal', 'against_poison', 'against_psychic',\n",
      "       'against_rock', 'against_steel', 'against_water', 'attack',\n",
      "       'base_egg_steps', 'base_happiness', 'base_total', 'capture_rate',\n",
      "       'classfication', 'defense', 'experience_growth', 'height_m', 'hp',\n",
      "       'japanese_name', 'name', 'percentage_male', 'pokedex_number',\n",
      "       'sp_attack', 'sp_defense', 'speed', 'type1', 'type2', 'weight_kg',\n",
      "       'generation', 'is_legendary'],\n",
      "      dtype='object')\n"
     ]
    }
   ],
   "source": [
    "# print the shape of pokemon\n",
    "print(pokemon.shape)\n",
    "\n",
    "# print the columns of pokemon\n",
    "print(pokemon.columns)"
   ]
  },
  {
   "cell_type": "code",
   "execution_count": 5,
   "metadata": {},
   "outputs": [
    {
     "name": "stdout",
     "output_type": "stream",
     "text": [
      "<class 'pandas.core.frame.DataFrame'>\n",
      "RangeIndex: 801 entries, 0 to 800\n",
      "Data columns (total 41 columns):\n",
      "abilities            801 non-null object\n",
      "against_bug          801 non-null float64\n",
      "against_dark         801 non-null float64\n",
      "against_dragon       801 non-null float64\n",
      "against_electric     801 non-null float64\n",
      "against_fairy        801 non-null float64\n",
      "against_fight        801 non-null float64\n",
      "against_fire         801 non-null float64\n",
      "against_flying       801 non-null float64\n",
      "against_ghost        801 non-null float64\n",
      "against_grass        801 non-null float64\n",
      "against_ground       801 non-null float64\n",
      "against_ice          801 non-null float64\n",
      "against_normal       801 non-null float64\n",
      "against_poison       801 non-null float64\n",
      "against_psychic      801 non-null float64\n",
      "against_rock         801 non-null float64\n",
      "against_steel        801 non-null float64\n",
      "against_water        801 non-null float64\n",
      "attack               801 non-null int64\n",
      "base_egg_steps       801 non-null int64\n",
      "base_happiness       801 non-null int64\n",
      "base_total           801 non-null int64\n",
      "capture_rate         801 non-null object\n",
      "classfication        801 non-null object\n",
      "defense              801 non-null int64\n",
      "experience_growth    801 non-null int64\n",
      "height_m             781 non-null float64\n",
      "hp                   801 non-null int64\n",
      "japanese_name        801 non-null object\n",
      "name                 801 non-null object\n",
      "percentage_male      703 non-null float64\n",
      "pokedex_number       801 non-null int64\n",
      "sp_attack            801 non-null int64\n",
      "sp_defense           801 non-null int64\n",
      "speed                801 non-null int64\n",
      "type1                801 non-null object\n",
      "type2                417 non-null object\n",
      "weight_kg            781 non-null float64\n",
      "generation           801 non-null int64\n",
      "is_legendary         801 non-null int64\n",
      "dtypes: float64(21), int64(13), object(7)\n",
      "memory usage: 256.7+ KB\n",
      "None\n"
     ]
    }
   ],
   "source": [
    "# print the info of pokemon\n",
    "print(pokemon.info())"
   ]
  },
  {
   "cell_type": "code",
   "execution_count": 6,
   "metadata": {},
   "outputs": [
    {
     "name": "stdout",
     "output_type": "stream",
     "text": [
      "       against_bug  against_dark  against_dragon  against_electric  \\\n",
      "count   801.000000    801.000000      801.000000        801.000000   \n",
      "mean      0.996255      1.057116        0.968789          1.073970   \n",
      "std       0.597248      0.438142        0.353058          0.654962   \n",
      "min       0.250000      0.250000        0.000000          0.000000   \n",
      "25%       0.500000      1.000000        1.000000          0.500000   \n",
      "50%       1.000000      1.000000        1.000000          1.000000   \n",
      "75%       1.000000      1.000000        1.000000          1.000000   \n",
      "max       4.000000      4.000000        2.000000          4.000000   \n",
      "\n",
      "       against_fairy  against_fight  against_fire  against_flying  \\\n",
      "count     801.000000     801.000000    801.000000      801.000000   \n",
      "mean        1.068976       1.065543      1.135456        1.192884   \n",
      "std         0.522167       0.717251      0.691853        0.604488   \n",
      "min         0.250000       0.000000      0.250000        0.250000   \n",
      "25%         1.000000       0.500000      0.500000        1.000000   \n",
      "50%         1.000000       1.000000      1.000000        1.000000   \n",
      "75%         1.000000       1.000000      2.000000        1.000000   \n",
      "max         4.000000       4.000000      4.000000        4.000000   \n",
      "\n",
      "       against_ghost  against_grass  ...    height_m          hp  \\\n",
      "count     801.000000     801.000000  ...  781.000000  801.000000   \n",
      "mean        0.985019       1.034020  ...    1.163892   68.958801   \n",
      "std         0.558256       0.788896  ...    1.080326   26.576015   \n",
      "min         0.000000       0.250000  ...    0.100000    1.000000   \n",
      "25%         1.000000       0.500000  ...    0.600000   50.000000   \n",
      "50%         1.000000       1.000000  ...    1.000000   65.000000   \n",
      "75%         1.000000       1.000000  ...    1.500000   80.000000   \n",
      "max         4.000000       4.000000  ...   14.500000  255.000000   \n",
      "\n",
      "       percentage_male  pokedex_number   sp_attack  sp_defense       speed  \\\n",
      "count       703.000000      801.000000  801.000000  801.000000  801.000000   \n",
      "mean         55.155761      401.000000   71.305868   70.911361   66.334582   \n",
      "std          20.261623      231.373075   32.353826   27.942501   28.907662   \n",
      "min           0.000000        1.000000   10.000000   20.000000    5.000000   \n",
      "25%          50.000000      201.000000   45.000000   50.000000   45.000000   \n",
      "50%          50.000000      401.000000   65.000000   66.000000   65.000000   \n",
      "75%          50.000000      601.000000   91.000000   90.000000   85.000000   \n",
      "max         100.000000      801.000000  194.000000  230.000000  180.000000   \n",
      "\n",
      "        weight_kg  generation  is_legendary  \n",
      "count  781.000000  801.000000    801.000000  \n",
      "mean    61.378105    3.690387      0.087391  \n",
      "std    109.354766    1.930420      0.282583  \n",
      "min      0.100000    1.000000      0.000000  \n",
      "25%      9.000000    2.000000      0.000000  \n",
      "50%     27.300000    4.000000      0.000000  \n",
      "75%     64.800000    5.000000      0.000000  \n",
      "max    999.900000    7.000000      1.000000  \n",
      "\n",
      "[8 rows x 34 columns]\n"
     ]
    }
   ],
   "source": [
    "# print describe of pokemon\n",
    "print(pokemon.describe())"
   ]
  },
  {
   "cell_type": "markdown",
   "metadata": {},
   "source": [
    "-----------------------------------------------------------\n",
    "### 2. Regular expression"
   ]
  },
  {
   "cell_type": "markdown",
   "metadata": {},
   "source": [
    "* Import proper package to use regualr expression."
   ]
  },
  {
   "cell_type": "code",
   "execution_count": 7,
   "metadata": {},
   "outputs": [],
   "source": [
    "import re"
   ]
  },
  {
   "cell_type": "code",
   "execution_count": 8,
   "metadata": {},
   "outputs": [
    {
     "name": "stdout",
     "output_type": "stream",
     "text": [
      "['Fushigidane', 'Fushigisou', 'Fushigibana', 'Hitokage', 'Lizardo']\n"
     ]
    }
   ],
   "source": [
    "# Make empty list : new_japanes_name\n",
    "new_japanese_name = []\n",
    "\n",
    "# Make for loop to solve the problem\n",
    "for jap_name in pokemon.japanese_name:\n",
    "    english = re.compile('[A-Za-z]+')\n",
    "    new_japanese_name.append(english.findall(jap_name)[0])\n",
    "\n",
    "# print the first 5 entries of new_japanese_name\n",
    "print(new_japanese_name[:5])"
   ]
  },
  {
   "cell_type": "markdown",
   "metadata": {},
   "source": [
    "* Change japanese_name column!"
   ]
  },
  {
   "cell_type": "code",
   "execution_count": 9,
   "metadata": {},
   "outputs": [
    {
     "name": "stdout",
     "output_type": "stream",
     "text": [
      "0    Fushigidane\n",
      "1     Fushigisou\n",
      "2    Fushigibana\n",
      "3       Hitokage\n",
      "4        Lizardo\n",
      "Name: japanese_name, dtype: object\n"
     ]
    }
   ],
   "source": [
    "pokemon['japanese_name'] = new_japanese_name\n",
    "\n",
    "# print the head of the pokemon.japanese_name\n",
    "print(pokemon.japanese_name.head())"
   ]
  },
  {
   "cell_type": "markdown",
   "metadata": {},
   "source": [
    "* Set Index by using name, japanese_name in order."
   ]
  },
  {
   "cell_type": "code",
   "execution_count": 10,
   "metadata": {},
   "outputs": [
    {
     "data": {
      "text/html": [
       "<div>\n",
       "<style scoped>\n",
       "    .dataframe tbody tr th:only-of-type {\n",
       "        vertical-align: middle;\n",
       "    }\n",
       "\n",
       "    .dataframe tbody tr th {\n",
       "        vertical-align: top;\n",
       "    }\n",
       "\n",
       "    .dataframe thead th {\n",
       "        text-align: right;\n",
       "    }\n",
       "</style>\n",
       "<table border=\"1\" class=\"dataframe\">\n",
       "  <thead>\n",
       "    <tr style=\"text-align: right;\">\n",
       "      <th></th>\n",
       "      <th></th>\n",
       "      <th>abilities</th>\n",
       "      <th>against_bug</th>\n",
       "      <th>against_dark</th>\n",
       "      <th>against_dragon</th>\n",
       "      <th>against_electric</th>\n",
       "      <th>against_fairy</th>\n",
       "      <th>against_fight</th>\n",
       "      <th>against_fire</th>\n",
       "      <th>against_flying</th>\n",
       "      <th>against_ghost</th>\n",
       "      <th>...</th>\n",
       "      <th>percentage_male</th>\n",
       "      <th>pokedex_number</th>\n",
       "      <th>sp_attack</th>\n",
       "      <th>sp_defense</th>\n",
       "      <th>speed</th>\n",
       "      <th>type1</th>\n",
       "      <th>type2</th>\n",
       "      <th>weight_kg</th>\n",
       "      <th>generation</th>\n",
       "      <th>is_legendary</th>\n",
       "    </tr>\n",
       "    <tr>\n",
       "      <th>name</th>\n",
       "      <th>japanese_name</th>\n",
       "      <th></th>\n",
       "      <th></th>\n",
       "      <th></th>\n",
       "      <th></th>\n",
       "      <th></th>\n",
       "      <th></th>\n",
       "      <th></th>\n",
       "      <th></th>\n",
       "      <th></th>\n",
       "      <th></th>\n",
       "      <th></th>\n",
       "      <th></th>\n",
       "      <th></th>\n",
       "      <th></th>\n",
       "      <th></th>\n",
       "      <th></th>\n",
       "      <th></th>\n",
       "      <th></th>\n",
       "      <th></th>\n",
       "      <th></th>\n",
       "      <th></th>\n",
       "    </tr>\n",
       "  </thead>\n",
       "  <tbody>\n",
       "    <tr>\n",
       "      <th>Celesteela</th>\n",
       "      <th>Tekkaguya</th>\n",
       "      <td>['Beast Boost']</td>\n",
       "      <td>0.25</td>\n",
       "      <td>1.0</td>\n",
       "      <td>0.5</td>\n",
       "      <td>2.0</td>\n",
       "      <td>0.5</td>\n",
       "      <td>1.0</td>\n",
       "      <td>2.0</td>\n",
       "      <td>0.5</td>\n",
       "      <td>1.0</td>\n",
       "      <td>...</td>\n",
       "      <td>NaN</td>\n",
       "      <td>797</td>\n",
       "      <td>107</td>\n",
       "      <td>101</td>\n",
       "      <td>61</td>\n",
       "      <td>steel</td>\n",
       "      <td>flying</td>\n",
       "      <td>999.9</td>\n",
       "      <td>7</td>\n",
       "      <td>1</td>\n",
       "    </tr>\n",
       "    <tr>\n",
       "      <th>Kartana</th>\n",
       "      <th>Kamiturugi</th>\n",
       "      <td>['Beast Boost']</td>\n",
       "      <td>1.00</td>\n",
       "      <td>1.0</td>\n",
       "      <td>0.5</td>\n",
       "      <td>0.5</td>\n",
       "      <td>0.5</td>\n",
       "      <td>2.0</td>\n",
       "      <td>4.0</td>\n",
       "      <td>1.0</td>\n",
       "      <td>1.0</td>\n",
       "      <td>...</td>\n",
       "      <td>NaN</td>\n",
       "      <td>798</td>\n",
       "      <td>59</td>\n",
       "      <td>31</td>\n",
       "      <td>109</td>\n",
       "      <td>grass</td>\n",
       "      <td>steel</td>\n",
       "      <td>0.1</td>\n",
       "      <td>7</td>\n",
       "      <td>1</td>\n",
       "    </tr>\n",
       "    <tr>\n",
       "      <th>Guzzlord</th>\n",
       "      <th>Akuziking</th>\n",
       "      <td>['Beast Boost']</td>\n",
       "      <td>2.00</td>\n",
       "      <td>0.5</td>\n",
       "      <td>2.0</td>\n",
       "      <td>0.5</td>\n",
       "      <td>4.0</td>\n",
       "      <td>2.0</td>\n",
       "      <td>0.5</td>\n",
       "      <td>1.0</td>\n",
       "      <td>0.5</td>\n",
       "      <td>...</td>\n",
       "      <td>NaN</td>\n",
       "      <td>799</td>\n",
       "      <td>97</td>\n",
       "      <td>53</td>\n",
       "      <td>43</td>\n",
       "      <td>dark</td>\n",
       "      <td>dragon</td>\n",
       "      <td>888.0</td>\n",
       "      <td>7</td>\n",
       "      <td>1</td>\n",
       "    </tr>\n",
       "    <tr>\n",
       "      <th>Necrozma</th>\n",
       "      <th>Necrozma</th>\n",
       "      <td>['Prism Armor']</td>\n",
       "      <td>2.00</td>\n",
       "      <td>2.0</td>\n",
       "      <td>1.0</td>\n",
       "      <td>1.0</td>\n",
       "      <td>1.0</td>\n",
       "      <td>0.5</td>\n",
       "      <td>1.0</td>\n",
       "      <td>1.0</td>\n",
       "      <td>2.0</td>\n",
       "      <td>...</td>\n",
       "      <td>NaN</td>\n",
       "      <td>800</td>\n",
       "      <td>127</td>\n",
       "      <td>89</td>\n",
       "      <td>79</td>\n",
       "      <td>psychic</td>\n",
       "      <td>NaN</td>\n",
       "      <td>230.0</td>\n",
       "      <td>7</td>\n",
       "      <td>1</td>\n",
       "    </tr>\n",
       "    <tr>\n",
       "      <th>Magearna</th>\n",
       "      <th>Magearna</th>\n",
       "      <td>['Soul-Heart']</td>\n",
       "      <td>0.25</td>\n",
       "      <td>0.5</td>\n",
       "      <td>0.0</td>\n",
       "      <td>1.0</td>\n",
       "      <td>0.5</td>\n",
       "      <td>1.0</td>\n",
       "      <td>2.0</td>\n",
       "      <td>0.5</td>\n",
       "      <td>1.0</td>\n",
       "      <td>...</td>\n",
       "      <td>NaN</td>\n",
       "      <td>801</td>\n",
       "      <td>130</td>\n",
       "      <td>115</td>\n",
       "      <td>65</td>\n",
       "      <td>steel</td>\n",
       "      <td>fairy</td>\n",
       "      <td>80.5</td>\n",
       "      <td>7</td>\n",
       "      <td>1</td>\n",
       "    </tr>\n",
       "  </tbody>\n",
       "</table>\n",
       "<p>5 rows × 39 columns</p>\n",
       "</div>"
      ],
      "text/plain": [
       "                                abilities  against_bug  against_dark  \\\n",
       "name       japanese_name                                               \n",
       "Celesteela Tekkaguya      ['Beast Boost']         0.25           1.0   \n",
       "Kartana    Kamiturugi     ['Beast Boost']         1.00           1.0   \n",
       "Guzzlord   Akuziking      ['Beast Boost']         2.00           0.5   \n",
       "Necrozma   Necrozma       ['Prism Armor']         2.00           2.0   \n",
       "Magearna   Magearna        ['Soul-Heart']         0.25           0.5   \n",
       "\n",
       "                          against_dragon  against_electric  against_fairy  \\\n",
       "name       japanese_name                                                    \n",
       "Celesteela Tekkaguya                 0.5               2.0            0.5   \n",
       "Kartana    Kamiturugi                0.5               0.5            0.5   \n",
       "Guzzlord   Akuziking                 2.0               0.5            4.0   \n",
       "Necrozma   Necrozma                  1.0               1.0            1.0   \n",
       "Magearna   Magearna                  0.0               1.0            0.5   \n",
       "\n",
       "                          against_fight  against_fire  against_flying  \\\n",
       "name       japanese_name                                                \n",
       "Celesteela Tekkaguya                1.0           2.0             0.5   \n",
       "Kartana    Kamiturugi               2.0           4.0             1.0   \n",
       "Guzzlord   Akuziking                2.0           0.5             1.0   \n",
       "Necrozma   Necrozma                 0.5           1.0             1.0   \n",
       "Magearna   Magearna                 1.0           2.0             0.5   \n",
       "\n",
       "                          against_ghost  ...  percentage_male  pokedex_number  \\\n",
       "name       japanese_name                 ...                                    \n",
       "Celesteela Tekkaguya                1.0  ...              NaN             797   \n",
       "Kartana    Kamiturugi               1.0  ...              NaN             798   \n",
       "Guzzlord   Akuziking                0.5  ...              NaN             799   \n",
       "Necrozma   Necrozma                 2.0  ...              NaN             800   \n",
       "Magearna   Magearna                 1.0  ...              NaN             801   \n",
       "\n",
       "                          sp_attack  sp_defense  speed    type1   type2  \\\n",
       "name       japanese_name                                                  \n",
       "Celesteela Tekkaguya            107         101     61    steel  flying   \n",
       "Kartana    Kamiturugi            59          31    109    grass   steel   \n",
       "Guzzlord   Akuziking             97          53     43     dark  dragon   \n",
       "Necrozma   Necrozma             127          89     79  psychic     NaN   \n",
       "Magearna   Magearna             130         115     65    steel   fairy   \n",
       "\n",
       "                          weight_kg  generation  is_legendary  \n",
       "name       japanese_name                                       \n",
       "Celesteela Tekkaguya          999.9           7             1  \n",
       "Kartana    Kamiturugi           0.1           7             1  \n",
       "Guzzlord   Akuziking          888.0           7             1  \n",
       "Necrozma   Necrozma           230.0           7             1  \n",
       "Magearna   Magearna            80.5           7             1  \n",
       "\n",
       "[5 rows x 39 columns]"
      ]
     },
     "metadata": {},
     "output_type": "display_data"
    }
   ],
   "source": [
    "pokemon.set_index(['name', 'japanese_name'], inplace=True)\n",
    "\n",
    "# display the tail of the pokemon\n",
    "display(pokemon.tail())"
   ]
  },
  {
   "cell_type": "markdown",
   "metadata": {},
   "source": [
    "----------------------------\n",
    "### 3. Preprocessing"
   ]
  },
  {
   "cell_type": "markdown",
   "metadata": {},
   "source": [
    "* drop abilities, classfication column."
   ]
  },
  {
   "cell_type": "code",
   "execution_count": null,
   "metadata": {},
   "outputs": [],
   "source": [
    "X = pokemon.drop([_____], axis=1)\n",
    "\n",
    "# print column names of X\n"
   ]
  },
  {
   "cell_type": "markdown",
   "metadata": {},
   "source": [
    "* check the number of NaNs of each column"
   ]
  },
  {
   "cell_type": "code",
   "execution_count": null,
   "metadata": {},
   "outputs": [],
   "source": [
    "pokemon.__().__()"
   ]
  },
  {
   "cell_type": "markdown",
   "metadata": {},
   "source": [
    "* change type2s NaN to 'none'"
   ]
  },
  {
   "cell_type": "code",
   "execution_count": null,
   "metadata": {},
   "outputs": [],
   "source": [
    "X.loc[pokemon.type2.__(), __] = __\n",
    "\n",
    "# check the number of type2 NaNs\n",
    "sum(X.type2.__())"
   ]
  },
  {
   "cell_type": "markdown",
   "metadata": {},
   "source": [
    "* Make Dummy Variables of type1, type2\n",
    "    - pd.get_dummies"
   ]
  },
  {
   "cell_type": "code",
   "execution_count": null,
   "metadata": {},
   "outputs": [],
   "source": [
    "type1_dummy = pd.___(pokemon.__, prefix='type1', drop_first=True)\n",
    "type2_dummy = pd.___(pokemon.__, prefix='type2', drop_first=True)\n",
    "\n",
    "# concatenate\n",
    "X = pd.concat([X, ___, ___], axis=__)\n",
    "\n",
    "# drop type1, type2 on X\n",
    "X.drop(_____, axis=1, inplace=True)\n",
    "\n",
    "# print columns name\n"
   ]
  },
  {
   "cell_type": "markdown",
   "metadata": {},
   "source": [
    "* check the total number of NaN of height_m, weight_kg, percentage_male"
   ]
  },
  {
   "cell_type": "code",
   "execution_count": null,
   "metadata": {},
   "outputs": [],
   "source": [
    "sum(pokemon[[_______]].____().sum(axis=1) > 0)"
   ]
  },
  {
   "cell_type": "markdown",
   "metadata": {},
   "source": [
    "* drop all missing values of height_m, weight_kg"
   ]
  },
  {
   "cell_type": "code",
   "execution_count": null,
   "metadata": {},
   "outputs": [],
   "source": [
    "X.____(subset = [________], axis=0, inplace=True)\n",
    "\n",
    "# print shape of X\n"
   ]
  },
  {
   "cell_type": "markdown",
   "metadata": {},
   "source": [
    "* 아래의 행 때문에 SimpleImputer가 에러납니다."
   ]
  },
  {
   "cell_type": "code",
   "execution_count": null,
   "metadata": {},
   "outputs": [],
   "source": [
    "X.drop(X.capture_rate[X.capture_rate == '30 (Meteorite)255 (Core)'].index[0], inplace=True)"
   ]
  },
  {
   "cell_type": "markdown",
   "metadata": {},
   "source": [
    "* import percentage_male with mean"
   ]
  },
  {
   "cell_type": "code",
   "execution_count": null,
   "metadata": {},
   "outputs": [],
   "source": [
    "# import SimpleImputer from sklearn.impute\n",
    "\n",
    "\n",
    "# make imputer\n",
    "imputer = ____\n",
    "\n",
    "# fit imputer\n",
    "imputer.___(__)\n",
    "\n",
    "# print imputer.transform\n",
    "\n",
    "\n",
    "# change X DataFrame with Imputing results\n",
    "X = pd.DataFrame(_________________, columns=X.columns, index=X.index)"
   ]
  },
  {
   "cell_type": "markdown",
   "metadata": {},
   "source": [
    "* check NaNs"
   ]
  },
  {
   "cell_type": "code",
   "execution_count": null,
   "metadata": {},
   "outputs": [],
   "source": [
    "X.isna().sum()[X.isna().sum() > 0]"
   ]
  },
  {
   "cell_type": "markdown",
   "metadata": {},
   "source": [
    "* split target variable and explanatory variable"
   ]
  },
  {
   "cell_type": "code",
   "execution_count": null,
   "metadata": {},
   "outputs": [],
   "source": [
    "y = X._______________\n",
    "X = X.drop(______, axis=1)\n",
    "\n",
    "# print shapes of X and y\n"
   ]
  },
  {
   "cell_type": "markdown",
   "metadata": {},
   "source": [
    "### 4. Classification!!\n",
    "models of classification\n",
    "- KNN\n",
    "- Logistic Regression\n",
    "- Decision Tree\n",
    "- Naive Basian\n",
    "- SVM\n",
    "- etc..."
   ]
  },
  {
   "cell_type": "markdown",
   "metadata": {},
   "source": [
    "#### 1. K-Nearest Neighborhood\n",
    "KNN은 Instance-based Classifier로 model-based Classifier에 비해서 decision boundary의 형태가 자유롭다.  \n",
    "KNN과 같은 lazy learning은 학습시간은 짧으나 예측시간이 오래걸린다."
   ]
  },
  {
   "cell_type": "markdown",
   "metadata": {},
   "source": [
    "* import KNeighborsClassifier from sklearn.neighbors\n",
    "* import train_test_split from sklearn.model_selection\n",
    "* impport classification_report, confusion_matrix from sklearn.metrics"
   ]
  },
  {
   "cell_type": "code",
   "execution_count": null,
   "metadata": {},
   "outputs": [],
   "source": [
    "from sklearn.neighbors import KNeighborsClassifier\n",
    "from sklearn.model_selection import train_test_split\n",
    "from sklearn.metrics import classification_report, confusion_matrix"
   ]
  },
  {
   "cell_type": "markdown",
   "metadata": {},
   "source": [
    "* split train and test data\n",
    "    - test data : 30%\n",
    "    - random state : 1234"
   ]
  },
  {
   "cell_type": "code",
   "execution_count": null,
   "metadata": {},
   "outputs": [],
   "source": [
    "X_train, X_test, y_train, y_test = __________(______)\n",
    "\n",
    "# print head of y_test\n"
   ]
  },
  {
   "cell_type": "code",
   "execution_count": null,
   "metadata": {},
   "outputs": [],
   "source": [
    "# print shapes of train data\n"
   ]
  },
  {
   "cell_type": "markdown",
   "metadata": {},
   "source": [
    "* 이제부터 KNN을 해봅시다"
   ]
  },
  {
   "cell_type": "code",
   "execution_count": null,
   "metadata": {},
   "outputs": [],
   "source": [
    "# make 3-NN model\n",
    "knn = \n",
    "\n",
    "# fit the model with train data\n",
    "knn.___(____)\n",
    "\n",
    "# predict the model with X_test : y_pred\n",
    "y_pred = knn.___(___)\n",
    "\n",
    "# predict the accuracy\n",
    "print(knn.____(_____))\n",
    "\n",
    "# print classification report\n",
    "\n",
    "\n",
    "# print confusion matrix\n"
   ]
  },
  {
   "cell_type": "markdown",
   "metadata": {},
   "source": [
    "* make ROC curve"
   ]
  },
  {
   "cell_type": "code",
   "execution_count": null,
   "metadata": {},
   "outputs": [],
   "source": [
    "from sklearn.metrics import roc_curve\n",
    "\n",
    "fpr, tpr, thresholds = ______(____, ____)\n",
    "\n",
    "plt.plot(fpr, tpr, 'o-', label=\"3-NN\")\n",
    "plt.plot([0, 1], [0, 1], 'k--', label=\"random guess\")\n",
    "plt.legend()\n",
    "plt.xlabel('FPR')\n",
    "plt.ylabel('TPR')\n",
    "plt.title('Receiver operating characteristic example')\n",
    "plt.show()"
   ]
  },
  {
   "cell_type": "markdown",
   "metadata": {},
   "source": [
    "* find best 'k'"
   ]
  },
  {
   "cell_type": "code",
   "execution_count": null,
   "metadata": {},
   "outputs": [],
   "source": [
    "# Setup arrays to store train and test accuracies\n",
    "neighbors = np.arange(1, 9)\n",
    "train_accuracy = np.empty(len(neighbors))\n",
    "test_accuracy = np.empty(len(neighbors))\n",
    "\n",
    "# Loop over different values of k\n",
    "for i, k in enumerate(_____):\n",
    "    # Setup a k-NN Classifier with k neighbors: knn\n",
    "    knn = ______(__)\n",
    "\n",
    "    # Fit the classifier to the training data\n",
    "    \n",
    "    \n",
    "    #Compute accuracy on the training set\n",
    "    train_accuracy[i] = \n",
    "\n",
    "    #Compute accuracy on the testing set\n",
    "    test_accuracy[i] = \n",
    "\n",
    "# Generate plot\n",
    "plt.title('k-NN: Varying Number of Neighbors')\n",
    "plt.plot(neighbors, test_accuracy, label = 'Testing Accuracy')\n",
    "plt.plot(neighbors, train_accuracy, label = 'Training Accuracy')\n",
    "plt.legend()\n",
    "plt.xlabel('Number of Neighbors')\n",
    "plt.ylabel('Accuracy')\n",
    "plt.show()"
   ]
  },
  {
   "cell_type": "markdown",
   "metadata": {},
   "source": [
    "* K-NN with n-fold Cross Validation"
   ]
  },
  {
   "cell_type": "code",
   "execution_count": null,
   "metadata": {},
   "outputs": [],
   "source": [
    "from sklearn.model_selection import cross_val_score\n",
    "\n",
    "# Create a 3-NN objects\n",
    "knn =\n",
    "\n",
    "# Compute 5-fold cross-validation scores: cv_scores\n",
    "cv_scores =\n",
    "\n",
    "# Print the 5-fold cross-validation scores\n",
    "print(cv_scores)\n",
    "\n",
    "print(\"Average 5-Fold CV Score: {}\".format(np.mean(_____)))"
   ]
  },
  {
   "cell_type": "markdown",
   "metadata": {},
   "source": [
    "* find best k with CV"
   ]
  },
  {
   "cell_type": "code",
   "execution_count": null,
   "metadata": {},
   "outputs": [],
   "source": [
    "# Setup arrays to store train and test accuracies\n",
    "neighbors = np.arange(1, 11)\n",
    "avg_10cvscores = np.empty(len(neighbors))\n",
    "avg_5cvscores = np.empty(len(neighbors))\n",
    "\n",
    "# Loop over different values of k\n",
    "for i, k in enumerate(____):\n",
    "    # Setup a k-NN Classifier with k neighbors: knn\n",
    "    knn = \n",
    "\n",
    "    # Compute 10-fold cross-validation scores: cv_scores\n",
    "    cv_10scores = \n",
    "        \n",
    "    # Compute average of the cv scores\n",
    "    avg_10cvscores[i] = \n",
    "    \n",
    "    # Compute 5-fold cross-validation scores: cv_scores\n",
    "    cv_5scores = \n",
    "        \n",
    "    # Compute average of the cv scores\n",
    "    avg_5cvscores[i] = \n",
    "\n",
    "# Generate plot\n",
    "plt.title('k-NN: Varying Number of Neighbors')\n",
    "plt.plot(neighbors, avg_10cvscores, label = '10 fold CV score', alpha=0.7)\n",
    "plt.plot(neighbors, avg_5cvscores, label = '5 fold CV score', alpha=0.7)\n",
    "plt.legend()\n",
    "plt.xlabel('Number of Neighbors')\n",
    "plt.ylabel('Accuracy')\n",
    "plt.show()"
   ]
  },
  {
   "cell_type": "markdown",
   "metadata": {},
   "source": [
    "#### 2. Logistic Regression"
   ]
  },
  {
   "cell_type": "markdown",
   "metadata": {},
   "source": [
    "* import LogisticRegression from sklearn.linear_model"
   ]
  },
  {
   "cell_type": "code",
   "execution_count": null,
   "metadata": {},
   "outputs": [],
   "source": [
    "from sklearn.linear_model import LogisticRegression"
   ]
  },
  {
   "cell_type": "code",
   "execution_count": null,
   "metadata": {},
   "outputs": [],
   "source": [
    "# make logistic regression model with penalty='l1'\n",
    "logreg = _______(____)\n",
    "\n",
    "# fit the model with train data\n",
    "\n",
    "\n",
    "# predict the model with X_test : y_pred\n",
    "y_pred = \n",
    "\n",
    "# predict the accuracy\n",
    "\n",
    "\n",
    "# print classification report\n",
    "\n",
    "\n",
    "# print confusion matrix\n"
   ]
  },
  {
   "cell_type": "markdown",
   "metadata": {},
   "source": [
    "* make ROC curve"
   ]
  },
  {
   "cell_type": "code",
   "execution_count": null,
   "metadata": {},
   "outputs": [],
   "source": [
    "fpr, tpr, thresholds = \n",
    "\n",
    "plt.plot(fpr, tpr, 'o-', label=\"logistic regression with l1 penalty\")\n",
    "plt.plot([0, 1], [0, 1], 'k--', label=\"random guess\")\n",
    "plt.legend()\n",
    "plt.xlabel('FPR')\n",
    "plt.ylabel('TPR')\n",
    "plt.title('Receiver operating characteristic example')\n",
    "plt.show()"
   ]
  },
  {
   "cell_type": "code",
   "execution_count": null,
   "metadata": {},
   "outputs": [],
   "source": [
    "# make logistic regression model with penalty='l2'\n",
    "logreg = \n",
    "\n",
    "# fit the model with train data\n",
    "\n",
    "\n",
    "# predict the model with X_test : y_pred\n",
    "y_pred = \n",
    "\n",
    "# predict the accuracy\n",
    "\n",
    "\n",
    "# print classification report\n",
    "\n",
    "\n",
    "# print confusion matrix\n"
   ]
  },
  {
   "cell_type": "markdown",
   "metadata": {},
   "source": [
    "* make ROC curve"
   ]
  },
  {
   "cell_type": "code",
   "execution_count": null,
   "metadata": {},
   "outputs": [],
   "source": [
    "fpr, tpr, thresholds =\n",
    "\n",
    "plt.plot(fpr, tpr, 'o-', label=\"logistic regression with l2 penalty\")\n",
    "plt.plot([0, 1], [0, 1], 'k--', label=\"random guess\")\n",
    "plt.legend()\n",
    "plt.xlabel('FPR')\n",
    "plt.ylabel('TPR')\n",
    "plt.title('Receiver operating characteristic example')\n",
    "plt.show()"
   ]
  },
  {
   "cell_type": "markdown",
   "metadata": {},
   "source": [
    "고생하셨습니다. 다른 모델들은 직접 해보시길 바랍니다.\n",
    "\n",
    "#### END"
   ]
  }
 ],
 "metadata": {
  "kernelspec": {
   "display_name": "Python 3",
   "language": "python",
   "name": "python3"
  },
  "language_info": {
   "codemirror_mode": {
    "name": "ipython",
    "version": 3
   },
   "file_extension": ".py",
   "mimetype": "text/x-python",
   "name": "python",
   "nbconvert_exporter": "python",
   "pygments_lexer": "ipython3",
   "version": "3.6.5"
  }
 },
 "nbformat": 4,
 "nbformat_minor": 4
}
